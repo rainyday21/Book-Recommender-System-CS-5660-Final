{
 "cells": [
  {
   "cell_type": "markdown",
   "metadata": {
    "id": "aC5k8X9HNeTU"
   },
   "source": [
    "### Part 1. Data Acquisition & Preprocessing\n",
    "#### Staring with incorperating the dataset"
   ]
  },
  {
   "metadata": {
    "ExecuteTime": {
     "end_time": "2024-12-11T01:48:08.564982Z",
     "start_time": "2024-12-11T01:48:08.561249Z"
    }
   },
   "cell_type": "code",
   "source": [
    "import torch\n",
    "import pandas as pd"
   ],
   "outputs": [],
   "execution_count": 17
  },
  {
   "metadata": {
    "ExecuteTime": {
     "end_time": "2024-12-11T01:48:08.620428Z",
     "start_time": "2024-12-11T01:48:08.613958Z"
    }
   },
   "cell_type": "code",
   "source": [
    "#Use for NVIDIA CUDA acceleration\n",
    "torch_device = 'cpu'\n",
    "if torch.cuda.is_available():\n",
    "    print(f\"GPU: {torch.cuda.get_device_name(0)} is available.\")\n",
    "    torch_device = 'cuda'\n",
    "else:\n",
    "    print(\"No GPU available.\")"
   ],
   "outputs": [
    {
     "name": "stdout",
     "output_type": "stream",
     "text": [
      "No GPU available.\n"
     ]
    }
   ],
   "execution_count": 18
  },
  {
   "cell_type": "code",
   "source": [
    "%pip install kaggle"
   ],
   "metadata": {
    "colab": {
     "base_uri": "https://localhost:8080/"
    },
    "id": "8TCo0zYqSNQX",
    "outputId": "4c0e9190-c4dd-404e-f7ba-489146f7cd5f",
    "ExecuteTime": {
     "end_time": "2024-12-11T01:48:09.851017Z",
     "start_time": "2024-12-11T01:48:08.642286Z"
    }
   },
   "outputs": [
    {
     "name": "stderr",
     "output_type": "stream",
     "text": [
      "huggingface/tokenizers: The current process just got forked, after parallelism has already been used. Disabling parallelism to avoid deadlocks...\n",
      "To disable this warning, you can either:\n",
      "\t- Avoid using `tokenizers` before the fork if possible\n",
      "\t- Explicitly set the environment variable TOKENIZERS_PARALLELISM=(true | false)\n"
     ]
    },
    {
     "name": "stdout",
     "output_type": "stream",
     "text": [
      "Requirement already satisfied: kaggle in /home/rainyday21/.conda/envs/ml_rapids/lib/python3.11/site-packages (1.6.17)\r\n",
      "Requirement already satisfied: six>=1.10 in /home/rainyday21/.conda/envs/ml_rapids/lib/python3.11/site-packages (from kaggle) (1.16.0)\r\n",
      "Requirement already satisfied: certifi>=2023.7.22 in /home/rainyday21/.conda/envs/ml_rapids/lib/python3.11/site-packages (from kaggle) (2024.8.30)\r\n",
      "Requirement already satisfied: python-dateutil in /home/rainyday21/.conda/envs/ml_rapids/lib/python3.11/site-packages (from kaggle) (2.9.0)\r\n",
      "Requirement already satisfied: requests in /home/rainyday21/.conda/envs/ml_rapids/lib/python3.11/site-packages (from kaggle) (2.32.3)\r\n",
      "Requirement already satisfied: tqdm in /home/rainyday21/.conda/envs/ml_rapids/lib/python3.11/site-packages (from kaggle) (4.67.0)\r\n",
      "Requirement already satisfied: python-slugify in /home/rainyday21/.conda/envs/ml_rapids/lib/python3.11/site-packages (from kaggle) (8.0.4)\r\n",
      "Requirement already satisfied: urllib3 in /home/rainyday21/.conda/envs/ml_rapids/lib/python3.11/site-packages (from kaggle) (2.2.3)\r\n",
      "Requirement already satisfied: bleach in /home/rainyday21/.conda/envs/ml_rapids/lib/python3.11/site-packages (from kaggle) (6.2.0)\r\n",
      "Requirement already satisfied: webencodings in /home/rainyday21/.conda/envs/ml_rapids/lib/python3.11/site-packages (from bleach->kaggle) (0.5.1)\r\n",
      "Requirement already satisfied: text-unidecode>=1.3 in /home/rainyday21/.conda/envs/ml_rapids/lib/python3.11/site-packages (from python-slugify->kaggle) (1.3)\r\n",
      "Requirement already satisfied: charset-normalizer<4,>=2 in /home/rainyday21/.conda/envs/ml_rapids/lib/python3.11/site-packages (from requests->kaggle) (3.4.0)\r\n",
      "Requirement already satisfied: idna<4,>=2.5 in /home/rainyday21/.conda/envs/ml_rapids/lib/python3.11/site-packages (from requests->kaggle) (3.10)\r\n",
      "Note: you may need to restart the kernel to use updated packages.\n"
     ]
    }
   ],
   "execution_count": 19
  },
  {
   "cell_type": "code",
   "source": [
    "# Downloading the dataset from Kaggle\n",
    "!export KAGGLE_USERNAME=orranereid\n",
    "#!kaggle datasets download -d elvinrustam/books-dataset --unzip --force"
   ],
   "metadata": {
    "id": "IHqYlswtSkRD",
    "colab": {
     "base_uri": "https://localhost:8080/"
    },
    "outputId": "649b221d-9d0a-4609-cd2c-8ea6e7eded95",
    "ExecuteTime": {
     "end_time": "2024-12-11T01:48:10.158753Z",
     "start_time": "2024-12-11T01:48:09.852673Z"
    }
   },
   "outputs": [
    {
     "name": "stderr",
     "output_type": "stream",
     "text": [
      "huggingface/tokenizers: The current process just got forked, after parallelism has already been used. Disabling parallelism to avoid deadlocks...\n",
      "To disable this warning, you can either:\n",
      "\t- Avoid using `tokenizers` before the fork if possible\n",
      "\t- Explicitly set the environment variable TOKENIZERS_PARALLELISM=(true | false)\n"
     ]
    }
   ],
   "execution_count": 20
  },
  {
   "cell_type": "markdown",
   "source": [
    "# Preproccessing Data Steps."
   ],
   "metadata": {
    "id": "htI-9grn2TVS"
   }
  },
  {
   "cell_type": "code",
   "metadata": {
    "id": "Gr4Wtm00NeTV",
    "ExecuteTime": {
     "end_time": "2024-12-11T01:48:10.989924Z",
     "start_time": "2024-12-11T01:48:10.160588Z"
    }
   },
   "source": [
    "# Extracting the info from the CSV fiel\n",
    "gb_md = pd.read_csv('BooksDataset.csv')"
   ],
   "outputs": [],
   "execution_count": 21
  },
  {
   "cell_type": "code",
   "metadata": {
    "id": "U7XpQ-wONeTW",
    "colab": {
     "base_uri": "https://localhost:8080/",
     "height": 597
    },
    "outputId": "3d44a341-3844-41cc-cdab-d9402a1308f0",
    "ExecuteTime": {
     "end_time": "2024-12-11T01:48:11.000834Z",
     "start_time": "2024-12-11T01:48:10.991687Z"
    }
   },
   "source": [
    "# Here we are printing the original data from the csv\n",
    "gb_md"
   ],
   "outputs": [
    {
     "data": {
      "text/plain": [
       "                                                    Title  \\\n",
       "0                                           Goat Brothers   \n",
       "1                                      The Missing Person   \n",
       "2                       Don't Eat Your Heart Out Cookbook   \n",
       "3       When Your Corporate Umbrella Begins to Leak: A...   \n",
       "4         Amy Spangler's Breastfeeding : A Parent's Guide   \n",
       "...                                                   ...   \n",
       "103077                        Build 3 Super Serving Carts   \n",
       "103078                                  My Land of Israel   \n",
       "103079                  Tongues: To Speak or Not to Speak   \n",
       "103080   If I'm in charge here why is everybody laughing?   \n",
       "103081               Your First Puppy (Your First Series)   \n",
       "\n",
       "                         Authors  \\\n",
       "0               By Colton, Larry   \n",
       "1             By Grumbach, Doris   \n",
       "2       By Piscatella, Joseph C.   \n",
       "3              By Davis, Paul D.   \n",
       "4               By Spangler, Amy   \n",
       "...                          ...   \n",
       "103077          By Chuck Hampton   \n",
       "103078    By Nover, Elizabeth Z.   \n",
       "103079      By Donald W. Burdick   \n",
       "103080     By Campbell, David P.   \n",
       "103081     By Carpentier, Marcel   \n",
       "\n",
       "                                              Description  \\\n",
       "0                                                     NaN   \n",
       "1                                                     NaN   \n",
       "2                                                     NaN   \n",
       "3                                                     NaN   \n",
       "4                                                     NaN   \n",
       "...                                                   ...   \n",
       "103077                                                NaN   \n",
       "103078                                                NaN   \n",
       "103079                                                NaN   \n",
       "103080                                                NaN   \n",
       "103081  An introduction to the proper care of puppies ...   \n",
       "\n",
       "                                                 Category  \\\n",
       "0                                       History , General   \n",
       "1                                       Fiction , General   \n",
       "2                                     Cooking , Reference   \n",
       "3                                                     NaN   \n",
       "4                                                     NaN   \n",
       "...                                                   ...   \n",
       "103077                                                NaN   \n",
       "103078   Juvenile Nonfiction , People & Places , Middl...   \n",
       "103079                                                NaN   \n",
       "103080                                                NaN   \n",
       "103081                              Pets , Dogs , General   \n",
       "\n",
       "                   Publisher                 Publish Date  \\\n",
       "0                  Doubleday      Friday, January 1, 1993   \n",
       "1           Putnam Pub Group        Sunday, March 1, 1981   \n",
       "2             Workman Pub Co  Thursday, September 1, 1983   \n",
       "3              Natl Pr Books        Monday, April 1, 1991   \n",
       "4               Amy Spangler   Saturday, February 1, 1997   \n",
       "...                      ...                          ...   \n",
       "103077        ENDesigns Inc.   Wednesday, January 1, 1992   \n",
       "103078         Behrman House          Friday, May 1, 1987   \n",
       "103079           Moody Press   Wednesday, January 1, 1969   \n",
       "103080  Argus Communications     Tuesday, January 1, 1980   \n",
       "103081         Tfh Pubns Inc     Friday, November 1, 1991   \n",
       "\n",
       "                          Price  \n",
       "0       Price Starting at $8.79  \n",
       "1       Price Starting at $4.99  \n",
       "2       Price Starting at $4.99  \n",
       "3       Price Starting at $4.99  \n",
       "4       Price Starting at $5.32  \n",
       "...                         ...  \n",
       "103077  Price Starting at $9.97  \n",
       "103078  Price Starting at $4.99  \n",
       "103079  Price Starting at $5.29  \n",
       "103080  Price Starting at $4.99  \n",
       "103081  Price Starting at $4.99  \n",
       "\n",
       "[103082 rows x 7 columns]"
      ],
      "text/html": [
       "<div>\n",
       "<style scoped>\n",
       "    .dataframe tbody tr th:only-of-type {\n",
       "        vertical-align: middle;\n",
       "    }\n",
       "\n",
       "    .dataframe tbody tr th {\n",
       "        vertical-align: top;\n",
       "    }\n",
       "\n",
       "    .dataframe thead th {\n",
       "        text-align: right;\n",
       "    }\n",
       "</style>\n",
       "<table border=\"1\" class=\"dataframe\">\n",
       "  <thead>\n",
       "    <tr style=\"text-align: right;\">\n",
       "      <th></th>\n",
       "      <th>Title</th>\n",
       "      <th>Authors</th>\n",
       "      <th>Description</th>\n",
       "      <th>Category</th>\n",
       "      <th>Publisher</th>\n",
       "      <th>Publish Date</th>\n",
       "      <th>Price</th>\n",
       "    </tr>\n",
       "  </thead>\n",
       "  <tbody>\n",
       "    <tr>\n",
       "      <th>0</th>\n",
       "      <td>Goat Brothers</td>\n",
       "      <td>By Colton, Larry</td>\n",
       "      <td>NaN</td>\n",
       "      <td>History , General</td>\n",
       "      <td>Doubleday</td>\n",
       "      <td>Friday, January 1, 1993</td>\n",
       "      <td>Price Starting at $8.79</td>\n",
       "    </tr>\n",
       "    <tr>\n",
       "      <th>1</th>\n",
       "      <td>The Missing Person</td>\n",
       "      <td>By Grumbach, Doris</td>\n",
       "      <td>NaN</td>\n",
       "      <td>Fiction , General</td>\n",
       "      <td>Putnam Pub Group</td>\n",
       "      <td>Sunday, March 1, 1981</td>\n",
       "      <td>Price Starting at $4.99</td>\n",
       "    </tr>\n",
       "    <tr>\n",
       "      <th>2</th>\n",
       "      <td>Don't Eat Your Heart Out Cookbook</td>\n",
       "      <td>By Piscatella, Joseph C.</td>\n",
       "      <td>NaN</td>\n",
       "      <td>Cooking , Reference</td>\n",
       "      <td>Workman Pub Co</td>\n",
       "      <td>Thursday, September 1, 1983</td>\n",
       "      <td>Price Starting at $4.99</td>\n",
       "    </tr>\n",
       "    <tr>\n",
       "      <th>3</th>\n",
       "      <td>When Your Corporate Umbrella Begins to Leak: A...</td>\n",
       "      <td>By Davis, Paul D.</td>\n",
       "      <td>NaN</td>\n",
       "      <td>NaN</td>\n",
       "      <td>Natl Pr Books</td>\n",
       "      <td>Monday, April 1, 1991</td>\n",
       "      <td>Price Starting at $4.99</td>\n",
       "    </tr>\n",
       "    <tr>\n",
       "      <th>4</th>\n",
       "      <td>Amy Spangler's Breastfeeding : A Parent's Guide</td>\n",
       "      <td>By Spangler, Amy</td>\n",
       "      <td>NaN</td>\n",
       "      <td>NaN</td>\n",
       "      <td>Amy Spangler</td>\n",
       "      <td>Saturday, February 1, 1997</td>\n",
       "      <td>Price Starting at $5.32</td>\n",
       "    </tr>\n",
       "    <tr>\n",
       "      <th>...</th>\n",
       "      <td>...</td>\n",
       "      <td>...</td>\n",
       "      <td>...</td>\n",
       "      <td>...</td>\n",
       "      <td>...</td>\n",
       "      <td>...</td>\n",
       "      <td>...</td>\n",
       "    </tr>\n",
       "    <tr>\n",
       "      <th>103077</th>\n",
       "      <td>Build 3 Super Serving Carts</td>\n",
       "      <td>By Chuck Hampton</td>\n",
       "      <td>NaN</td>\n",
       "      <td>NaN</td>\n",
       "      <td>ENDesigns Inc.</td>\n",
       "      <td>Wednesday, January 1, 1992</td>\n",
       "      <td>Price Starting at $9.97</td>\n",
       "    </tr>\n",
       "    <tr>\n",
       "      <th>103078</th>\n",
       "      <td>My Land of Israel</td>\n",
       "      <td>By Nover, Elizabeth Z.</td>\n",
       "      <td>NaN</td>\n",
       "      <td>Juvenile Nonfiction , People &amp; Places , Middl...</td>\n",
       "      <td>Behrman House</td>\n",
       "      <td>Friday, May 1, 1987</td>\n",
       "      <td>Price Starting at $4.99</td>\n",
       "    </tr>\n",
       "    <tr>\n",
       "      <th>103079</th>\n",
       "      <td>Tongues: To Speak or Not to Speak</td>\n",
       "      <td>By Donald W. Burdick</td>\n",
       "      <td>NaN</td>\n",
       "      <td>NaN</td>\n",
       "      <td>Moody Press</td>\n",
       "      <td>Wednesday, January 1, 1969</td>\n",
       "      <td>Price Starting at $5.29</td>\n",
       "    </tr>\n",
       "    <tr>\n",
       "      <th>103080</th>\n",
       "      <td>If I'm in charge here why is everybody laughing?</td>\n",
       "      <td>By Campbell, David P.</td>\n",
       "      <td>NaN</td>\n",
       "      <td>NaN</td>\n",
       "      <td>Argus Communications</td>\n",
       "      <td>Tuesday, January 1, 1980</td>\n",
       "      <td>Price Starting at $4.99</td>\n",
       "    </tr>\n",
       "    <tr>\n",
       "      <th>103081</th>\n",
       "      <td>Your First Puppy (Your First Series)</td>\n",
       "      <td>By Carpentier, Marcel</td>\n",
       "      <td>An introduction to the proper care of puppies ...</td>\n",
       "      <td>Pets , Dogs , General</td>\n",
       "      <td>Tfh Pubns Inc</td>\n",
       "      <td>Friday, November 1, 1991</td>\n",
       "      <td>Price Starting at $4.99</td>\n",
       "    </tr>\n",
       "  </tbody>\n",
       "</table>\n",
       "<p>103082 rows × 7 columns</p>\n",
       "</div>"
      ]
     },
     "execution_count": 22,
     "metadata": {},
     "output_type": "execute_result"
    }
   ],
   "execution_count": 22
  },
  {
   "cell_type": "code",
   "source": [
    "# Dropping all observations with missing values\n",
    "gb_md = gb_md.dropna()\n",
    "# Printing the length to see how much data we have left with complete info.\n",
    "print(len(gb_md))\n",
    "# Now we we will be dropping the columns that are irrelevant to us\n",
    "gb_md = gb_md.drop(columns=['Price', 'Publisher'])\n",
    "#"
   ],
   "metadata": {
    "id": "-JlhGT7HARBb",
    "ExecuteTime": {
     "end_time": "2024-12-11T01:48:11.057593Z",
     "start_time": "2024-12-11T01:48:11.001629Z"
    }
   },
   "outputs": [
    {
     "name": "stdout",
     "output_type": "stream",
     "text": [
      "65305\n"
     ]
    }
   ],
   "execution_count": 23
  },
  {
   "cell_type": "code",
   "source": [
    "gb_md"
   ],
   "metadata": {
    "colab": {
     "base_uri": "https://localhost:8080/",
     "height": 2750
    },
    "id": "cIm2IwjtDBgn",
    "outputId": "c093643c-6497-4c7e-86a9-f02032392497",
    "ExecuteTime": {
     "end_time": "2024-12-11T01:48:11.072160Z",
     "start_time": "2024-12-11T01:48:11.059326Z"
    }
   },
   "outputs": [
    {
     "data": {
      "text/plain": [
       "                                                    Title  \\\n",
       "7                              Journey Through Heartsongs   \n",
       "8                            In Search of Melancholy Baby   \n",
       "10           The Dieter's Guide to Weight Loss During Sex   \n",
       "11      Germs : Biological Weapons and America's Secre...   \n",
       "13      The Good Book: Reading the Bible with Mind and...   \n",
       "...                                                   ...   \n",
       "103069                             Like A Sister: A Novel   \n",
       "103071  Creating Web Pages Simplified (3-D Visual Series)   \n",
       "103072               EVA: The Real Key to Creating Wealth   \n",
       "103075  The Essentials of Spanish (REA's Language Seri...   \n",
       "103081               Your First Puppy (Your First Series)   \n",
       "\n",
       "                                                  Authors  \\\n",
       "7                               By Stepanek, Mattie J. T.   \n",
       "8       By Aksyonov, Vassily, Heim, Michael Henry, and...   \n",
       "10                                      By Smith, Richard   \n",
       "11      By Miller, Judith, Engelberg, Stephen, and Bro...   \n",
       "13                                     By Gomes, Peter J.   \n",
       "...                                                   ...   \n",
       "103069                               By Daugharty, Janice   \n",
       "103071  By Maran, Ruth, Whitehead, Paul, and Marangrap...   \n",
       "103072                                      By Ehrbar, Al   \n",
       "103075                        By Mouat, Ricardo Gutierrez   \n",
       "103081                              By Carpentier, Marcel   \n",
       "\n",
       "                                              Description  \\\n",
       "7       Collects poems written by the eleven-year-old ...   \n",
       "8       The Russian author offers an affectionate chro...   \n",
       "10      A humor classic, this tongue-in-cheek diet pla...   \n",
       "11      Deadly germs sprayed in shopping malls, bomb-l...   \n",
       "13      \"The Bible and the social and moral consequenc...   \n",
       "...                                                   ...   \n",
       "103069  Sister cannot say exactly when or where she wa...   \n",
       "103071  An \"owner's manual\" for first-time Web page cr...   \n",
       "103072  Called \"today's hottest financial idea and get...   \n",
       "103075  REA’s Essentials provide quick and easy access...   \n",
       "103081  An introduction to the proper care of puppies ...   \n",
       "\n",
       "                                                 Category  \\\n",
       "7                                        Poetry , General   \n",
       "8                     Biography & Autobiography , General   \n",
       "10            Health & Fitness , Diet & Nutrition , Diets   \n",
       "11            Technology & Engineering , Military Science   \n",
       "13                Religion , Biblical Biography , General   \n",
       "...                                                   ...   \n",
       "103069                                 Fiction , Literary   \n",
       "103071                     Computers , Internet , General   \n",
       "103072   Business & Economics , Corporate Finance , Ge...   \n",
       "103075                   Foreign Language Study , Spanish   \n",
       "103081                              Pets , Dogs , General   \n",
       "\n",
       "                       Publish Date  \n",
       "7       Saturday, September 1, 2001  \n",
       "8              Monday, June 1, 1987  \n",
       "10          Sunday, January 1, 1978  \n",
       "11          Monday, October 1, 2001  \n",
       "13              Friday, May 1, 1998  \n",
       "...                             ...  \n",
       "103069     Monday, November 1, 1999  \n",
       "103071   Wednesday, January 1, 1997  \n",
       "103072    Thursday, October 1, 1998  \n",
       "103075    Thursday, January 1, 1998  \n",
       "103081     Friday, November 1, 1991  \n",
       "\n",
       "[65305 rows x 5 columns]"
      ],
      "text/html": [
       "<div>\n",
       "<style scoped>\n",
       "    .dataframe tbody tr th:only-of-type {\n",
       "        vertical-align: middle;\n",
       "    }\n",
       "\n",
       "    .dataframe tbody tr th {\n",
       "        vertical-align: top;\n",
       "    }\n",
       "\n",
       "    .dataframe thead th {\n",
       "        text-align: right;\n",
       "    }\n",
       "</style>\n",
       "<table border=\"1\" class=\"dataframe\">\n",
       "  <thead>\n",
       "    <tr style=\"text-align: right;\">\n",
       "      <th></th>\n",
       "      <th>Title</th>\n",
       "      <th>Authors</th>\n",
       "      <th>Description</th>\n",
       "      <th>Category</th>\n",
       "      <th>Publish Date</th>\n",
       "    </tr>\n",
       "  </thead>\n",
       "  <tbody>\n",
       "    <tr>\n",
       "      <th>7</th>\n",
       "      <td>Journey Through Heartsongs</td>\n",
       "      <td>By Stepanek, Mattie J. T.</td>\n",
       "      <td>Collects poems written by the eleven-year-old ...</td>\n",
       "      <td>Poetry , General</td>\n",
       "      <td>Saturday, September 1, 2001</td>\n",
       "    </tr>\n",
       "    <tr>\n",
       "      <th>8</th>\n",
       "      <td>In Search of Melancholy Baby</td>\n",
       "      <td>By Aksyonov, Vassily, Heim, Michael Henry, and...</td>\n",
       "      <td>The Russian author offers an affectionate chro...</td>\n",
       "      <td>Biography &amp; Autobiography , General</td>\n",
       "      <td>Monday, June 1, 1987</td>\n",
       "    </tr>\n",
       "    <tr>\n",
       "      <th>10</th>\n",
       "      <td>The Dieter's Guide to Weight Loss During Sex</td>\n",
       "      <td>By Smith, Richard</td>\n",
       "      <td>A humor classic, this tongue-in-cheek diet pla...</td>\n",
       "      <td>Health &amp; Fitness , Diet &amp; Nutrition , Diets</td>\n",
       "      <td>Sunday, January 1, 1978</td>\n",
       "    </tr>\n",
       "    <tr>\n",
       "      <th>11</th>\n",
       "      <td>Germs : Biological Weapons and America's Secre...</td>\n",
       "      <td>By Miller, Judith, Engelberg, Stephen, and Bro...</td>\n",
       "      <td>Deadly germs sprayed in shopping malls, bomb-l...</td>\n",
       "      <td>Technology &amp; Engineering , Military Science</td>\n",
       "      <td>Monday, October 1, 2001</td>\n",
       "    </tr>\n",
       "    <tr>\n",
       "      <th>13</th>\n",
       "      <td>The Good Book: Reading the Bible with Mind and...</td>\n",
       "      <td>By Gomes, Peter J.</td>\n",
       "      <td>\"The Bible and the social and moral consequenc...</td>\n",
       "      <td>Religion , Biblical Biography , General</td>\n",
       "      <td>Friday, May 1, 1998</td>\n",
       "    </tr>\n",
       "    <tr>\n",
       "      <th>...</th>\n",
       "      <td>...</td>\n",
       "      <td>...</td>\n",
       "      <td>...</td>\n",
       "      <td>...</td>\n",
       "      <td>...</td>\n",
       "    </tr>\n",
       "    <tr>\n",
       "      <th>103069</th>\n",
       "      <td>Like A Sister: A Novel</td>\n",
       "      <td>By Daugharty, Janice</td>\n",
       "      <td>Sister cannot say exactly when or where she wa...</td>\n",
       "      <td>Fiction , Literary</td>\n",
       "      <td>Monday, November 1, 1999</td>\n",
       "    </tr>\n",
       "    <tr>\n",
       "      <th>103071</th>\n",
       "      <td>Creating Web Pages Simplified (3-D Visual Series)</td>\n",
       "      <td>By Maran, Ruth, Whitehead, Paul, and Marangrap...</td>\n",
       "      <td>An \"owner's manual\" for first-time Web page cr...</td>\n",
       "      <td>Computers , Internet , General</td>\n",
       "      <td>Wednesday, January 1, 1997</td>\n",
       "    </tr>\n",
       "    <tr>\n",
       "      <th>103072</th>\n",
       "      <td>EVA: The Real Key to Creating Wealth</td>\n",
       "      <td>By Ehrbar, Al</td>\n",
       "      <td>Called \"today's hottest financial idea and get...</td>\n",
       "      <td>Business &amp; Economics , Corporate Finance , Ge...</td>\n",
       "      <td>Thursday, October 1, 1998</td>\n",
       "    </tr>\n",
       "    <tr>\n",
       "      <th>103075</th>\n",
       "      <td>The Essentials of Spanish (REA's Language Seri...</td>\n",
       "      <td>By Mouat, Ricardo Gutierrez</td>\n",
       "      <td>REA’s Essentials provide quick and easy access...</td>\n",
       "      <td>Foreign Language Study , Spanish</td>\n",
       "      <td>Thursday, January 1, 1998</td>\n",
       "    </tr>\n",
       "    <tr>\n",
       "      <th>103081</th>\n",
       "      <td>Your First Puppy (Your First Series)</td>\n",
       "      <td>By Carpentier, Marcel</td>\n",
       "      <td>An introduction to the proper care of puppies ...</td>\n",
       "      <td>Pets , Dogs , General</td>\n",
       "      <td>Friday, November 1, 1991</td>\n",
       "    </tr>\n",
       "  </tbody>\n",
       "</table>\n",
       "<p>65305 rows × 5 columns</p>\n",
       "</div>"
      ]
     },
     "execution_count": 24,
     "metadata": {},
     "output_type": "execute_result"
    }
   ],
   "execution_count": 24
  },
  {
   "cell_type": "code",
   "source": [
    "from transformers import AutoTokenizer, AutoModel\n",
    "# sample GPT answer\n",
    "\n",
    "# Load a pretrained model and tokenizer\n",
    "model_name = \"nomic-ai/nomic-embed-text-v1.5\"\n",
    "tokenizer = AutoTokenizer.from_pretrained(model_name, trust_remote_code=True, device=torch_device)\n",
    "model = AutoModel.from_pretrained(model_name, trust_remote_code=True, device=torch_device)\n",
    "\n",
    "def embedding_gen(text):\n",
    "    inputs=tokenizer(text, return_tensors=\"pt\", truncation=True, padding=True)\n",
    "    \n",
    "    with torch.no_grad():\n",
    "        outputs = model(**inputs)\n",
    "        embeddings = outputs.last_hidden_state.mean(dim=1)\n",
    "        return embeddings\n"
   ],
   "metadata": {
    "id": "ijfYzM9qF4PD",
    "ExecuteTime": {
     "end_time": "2024-12-11T01:48:44.633545Z",
     "start_time": "2024-12-11T01:48:11.073577Z"
    }
   },
   "outputs": [
    {
     "data": {
      "text/plain": [
       "model.safetensors:  38%|###8      | 210M/547M [00:00<?, ?B/s]"
      ],
      "application/vnd.jupyter.widget-view+json": {
       "version_major": 2,
       "version_minor": 0,
       "model_id": "fd3ba6ed408c4b2f8cfa0c3348d8731a"
      }
     },
     "metadata": {},
     "output_type": "display_data"
    },
    {
     "name": "stderr",
     "output_type": "stream",
     "text": [
      "<All keys matched successfully>\n"
     ]
    }
   ],
   "execution_count": 25
  },
  {
   "metadata": {
    "ExecuteTime": {
     "end_time": "2024-12-11T01:48:44.638256Z",
     "start_time": "2024-12-11T01:48:44.634619Z"
    }
   },
   "cell_type": "code",
   "source": [
    "arr = [str(i) for i in gb_md.iloc[0].drop('Description')]\n",
    "print(arr)"
   ],
   "outputs": [
    {
     "name": "stdout",
     "output_type": "stream",
     "text": [
      "['Journey Through Heartsongs', 'By Stepanek, Mattie J. T.', ' Poetry , General', 'Saturday, September 1, 2001']\n"
     ]
    }
   ],
   "execution_count": 26
  },
  {
   "metadata": {
    "ExecuteTime": {
     "end_time": "2024-12-11T02:01:53.558391Z",
     "start_time": "2024-12-11T02:01:53.345823Z"
    }
   },
   "cell_type": "code",
   "source": [
    "#sample_t1 = embedding_gen(gb_md.iloc[0])\n",
    "#sample_t2 = embedding_gen(arr)\n",
    "#sample_t = torch.cat((sample_t1, sample_t2))\n",
    "sample_t = embedding_gen([str(i) for i in gb_md.iloc[0]])\n",
    "display(sample_t)"
   ],
   "outputs": [
    {
     "data": {
      "text/plain": [
       "tensor([[-0.1651,  0.2204, -5.1758,  ..., -0.5995, -0.6351,  0.8194],\n",
       "        [-0.8494, -0.2342, -5.3787,  ..., -0.6597, -0.8563, -0.4865],\n",
       "        [ 0.0272,  0.7977, -3.3994,  ...,  0.2469, -0.5156, -0.1959],\n",
       "        [ 0.4221,  0.1346, -4.2984,  ..., -0.3397, -1.2768, -1.0453],\n",
       "        [ 0.4535, -0.1349, -4.8196,  ..., -0.9662, -0.8020, -0.7214]])"
      ]
     },
     "metadata": {},
     "output_type": "display_data"
    }
   ],
   "execution_count": 46
  }
 ],
 "metadata": {
  "kernelspec": {
   "display_name": "ml_rapids",
   "language": "python",
   "name": "python3"
  },
  "language_info": {
   "codemirror_mode": {
    "name": "ipython",
    "version": 3
   },
   "file_extension": ".py",
   "mimetype": "text/x-python",
   "name": "python",
   "nbconvert_exporter": "python",
   "pygments_lexer": "ipython3",
   "version": "3.11.10"
  },
  "colab": {
   "provenance": []
  }
 },
 "nbformat": 4,
 "nbformat_minor": 0
}
