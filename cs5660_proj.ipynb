{
 "cells": [
  {
   "cell_type": "markdown",
   "metadata": {
    "id": "aC5k8X9HNeTU"
   },
   "source": [
    "### Part 1. Data Acquisition & Preprocessing\n",
    "#### Staring with incorperating the dataset"
   ]
  },
  {
   "cell_type": "code",
   "execution_count": 35,
   "metadata": {
    "ExecuteTime": {
     "end_time": "2024-12-11T05:03:02.120464Z",
     "start_time": "2024-12-11T05:03:01.345399Z"
    }
   },
   "outputs": [],
   "source": [
    "%load_ext cudf.pandas\n",
    "import torch\n",
    "import pandas as pd\n",
    "\n",
    "from cuml.manifold import UMAP\n",
    "from cuml.cluster import hdbscan\n",
    "import numpy as np\n",
    "import matplotlib.pyplot as plt\n",
    "from sklearn.datasets import fetch_openml\n",
    "from sklearn import metrics\n",
    "from sklearn.pipeline import Pipeline\n",
    "from sklearn.preprocessing import StandardScaler\n",
    "from sklearn.model_selection import GridSearchCV, KFold\n"
   ]
  },
  {
   "cell_type": "code",
   "execution_count": 24,
   "metadata": {
    "ExecuteTime": {
     "end_time": "2024-12-11T05:03:02.164445Z",
     "start_time": "2024-12-11T05:03:02.121206Z"
    }
   },
   "outputs": [
    {
     "name": "stdout",
     "output_type": "stream",
     "text": [
      "GPU: NVIDIA GeForce RTX 4080 Laptop GPU is available.\n"
     ]
    }
   ],
   "source": [
    "#Use for NVIDIA CUDA acceleration\n",
    "torch_device = 'cpu'\n",
    "if torch.cuda.is_available():\n",
    "    print(f\"GPU: {torch.cuda.get_device_name(0)} is available.\")\n",
    "    torch_device = 'cuda'\n",
    "else:\n",
    "    print(\"No GPU available.\")"
   ]
  },
  {
   "cell_type": "code",
   "execution_count": 25,
   "metadata": {
    "ExecuteTime": {
     "end_time": "2024-12-11T05:03:02.749433Z",
     "start_time": "2024-12-11T05:03:02.165048Z"
    },
    "colab": {
     "base_uri": "https://localhost:8080/"
    },
    "id": "8TCo0zYqSNQX",
    "outputId": "4c0e9190-c4dd-404e-f7ba-489146f7cd5f"
   },
   "outputs": [
    {
     "name": "stderr",
     "output_type": "stream",
     "text": [
      "huggingface/tokenizers: The current process just got forked, after parallelism has already been used. Disabling parallelism to avoid deadlocks...\n",
      "To disable this warning, you can either:\n",
      "\t- Avoid using `tokenizers` before the fork if possible\n",
      "\t- Explicitly set the environment variable TOKENIZERS_PARALLELISM=(true | false)\n"
     ]
    },
    {
     "name": "stdout",
     "output_type": "stream",
     "text": [
      "Requirement already satisfied: kaggle in /home/rainyday21/.conda/envs/ml_rapids/lib/python3.11/site-packages (1.6.17)\n",
      "Requirement already satisfied: six>=1.10 in /home/rainyday21/.conda/envs/ml_rapids/lib/python3.11/site-packages (from kaggle) (1.16.0)\n",
      "Requirement already satisfied: certifi>=2023.7.22 in /home/rainyday21/.conda/envs/ml_rapids/lib/python3.11/site-packages (from kaggle) (2024.8.30)\n",
      "Requirement already satisfied: python-dateutil in /home/rainyday21/.conda/envs/ml_rapids/lib/python3.11/site-packages (from kaggle) (2.9.0)\n",
      "Requirement already satisfied: requests in /home/rainyday21/.conda/envs/ml_rapids/lib/python3.11/site-packages (from kaggle) (2.32.3)\n",
      "Requirement already satisfied: tqdm in /home/rainyday21/.conda/envs/ml_rapids/lib/python3.11/site-packages (from kaggle) (4.67.0)\n",
      "Requirement already satisfied: python-slugify in /home/rainyday21/.conda/envs/ml_rapids/lib/python3.11/site-packages (from kaggle) (8.0.4)\n",
      "Requirement already satisfied: urllib3 in /home/rainyday21/.conda/envs/ml_rapids/lib/python3.11/site-packages (from kaggle) (2.2.3)\n",
      "Requirement already satisfied: bleach in /home/rainyday21/.conda/envs/ml_rapids/lib/python3.11/site-packages (from kaggle) (6.2.0)\n",
      "Requirement already satisfied: webencodings in /home/rainyday21/.conda/envs/ml_rapids/lib/python3.11/site-packages (from bleach->kaggle) (0.5.1)\n",
      "Requirement already satisfied: text-unidecode>=1.3 in /home/rainyday21/.conda/envs/ml_rapids/lib/python3.11/site-packages (from python-slugify->kaggle) (1.3)\n",
      "Requirement already satisfied: charset-normalizer<4,>=2 in /home/rainyday21/.conda/envs/ml_rapids/lib/python3.11/site-packages (from requests->kaggle) (3.4.0)\n",
      "Requirement already satisfied: idna<4,>=2.5 in /home/rainyday21/.conda/envs/ml_rapids/lib/python3.11/site-packages (from requests->kaggle) (3.10)\n",
      "Note: you may need to restart the kernel to use updated packages.\n"
     ]
    }
   ],
   "source": [
    "%pip install kaggle"
   ]
  },
  {
   "cell_type": "code",
   "execution_count": 36,
   "metadata": {
    "ExecuteTime": {
     "end_time": "2024-12-11T05:03:02.939590Z",
     "start_time": "2024-12-11T05:03:02.753399Z"
    },
    "colab": {
     "base_uri": "https://localhost:8080/"
    },
    "id": "IHqYlswtSkRD",
    "outputId": "649b221d-9d0a-4609-cd2c-8ea6e7eded95"
   },
   "outputs": [
    {
     "name": "stderr",
     "output_type": "stream",
     "text": [
      "huggingface/tokenizers: The current process just got forked, after parallelism has already been used. Disabling parallelism to avoid deadlocks...\n",
      "To disable this warning, you can either:\n",
      "\t- Avoid using `tokenizers` before the fork if possible\n",
      "\t- Explicitly set the environment variable TOKENIZERS_PARALLELISM=(true | false)\n"
     ]
    }
   ],
   "source": [
    "# Downloading the dataset from Kaggle\n",
    "!export KAGGLE_USERNAME=orranereid\n",
    "#!kaggle datasets download -d elvinrustam/books-dataset --unzip --force"
   ]
  },
  {
   "cell_type": "markdown",
   "metadata": {
    "id": "htI-9grn2TVS"
   },
   "source": [
    "# Preproccessing Data Steps."
   ]
  },
  {
   "cell_type": "code",
   "execution_count": 37,
   "metadata": {
    "ExecuteTime": {
     "end_time": "2024-12-11T05:03:03.323495Z",
     "start_time": "2024-12-11T05:03:02.942581Z"
    },
    "id": "Gr4Wtm00NeTV"
   },
   "outputs": [],
   "source": [
    "# Extracting the info from the CSV fiel\n",
    "gb_md = pd.read_csv('BooksDataset.csv')"
   ]
  },
  {
   "cell_type": "code",
   "execution_count": 38,
   "metadata": {
    "ExecuteTime": {
     "end_time": "2024-12-11T05:03:03.331418Z",
     "start_time": "2024-12-11T05:03:03.324097Z"
    },
    "colab": {
     "base_uri": "https://localhost:8080/",
     "height": 597
    },
    "id": "U7XpQ-wONeTW",
    "outputId": "3d44a341-3844-41cc-cdab-d9402a1308f0"
   },
   "outputs": [
    {
     "data": {
      "text/html": [
       "<div>\n",
       "<style scoped>\n",
       "    .dataframe tbody tr th:only-of-type {\n",
       "        vertical-align: middle;\n",
       "    }\n",
       "\n",
       "    .dataframe tbody tr th {\n",
       "        vertical-align: top;\n",
       "    }\n",
       "\n",
       "    .dataframe thead th {\n",
       "        text-align: right;\n",
       "    }\n",
       "</style>\n",
       "<table border=\"1\" class=\"dataframe\">\n",
       "  <thead>\n",
       "    <tr style=\"text-align: right;\">\n",
       "      <th></th>\n",
       "      <th>Title</th>\n",
       "      <th>Authors</th>\n",
       "      <th>Description</th>\n",
       "      <th>Category</th>\n",
       "      <th>Publisher</th>\n",
       "      <th>Publish Date</th>\n",
       "      <th>Price</th>\n",
       "    </tr>\n",
       "  </thead>\n",
       "  <tbody>\n",
       "    <tr>\n",
       "      <th>0</th>\n",
       "      <td>Goat Brothers</td>\n",
       "      <td>By Colton, Larry</td>\n",
       "      <td>NaN</td>\n",
       "      <td>History , General</td>\n",
       "      <td>Doubleday</td>\n",
       "      <td>Friday, January 1, 1993</td>\n",
       "      <td>Price Starting at $8.79</td>\n",
       "    </tr>\n",
       "    <tr>\n",
       "      <th>1</th>\n",
       "      <td>The Missing Person</td>\n",
       "      <td>By Grumbach, Doris</td>\n",
       "      <td>NaN</td>\n",
       "      <td>Fiction , General</td>\n",
       "      <td>Putnam Pub Group</td>\n",
       "      <td>Sunday, March 1, 1981</td>\n",
       "      <td>Price Starting at $4.99</td>\n",
       "    </tr>\n",
       "    <tr>\n",
       "      <th>2</th>\n",
       "      <td>Don't Eat Your Heart Out Cookbook</td>\n",
       "      <td>By Piscatella, Joseph C.</td>\n",
       "      <td>NaN</td>\n",
       "      <td>Cooking , Reference</td>\n",
       "      <td>Workman Pub Co</td>\n",
       "      <td>Thursday, September 1, 1983</td>\n",
       "      <td>Price Starting at $4.99</td>\n",
       "    </tr>\n",
       "    <tr>\n",
       "      <th>3</th>\n",
       "      <td>When Your Corporate Umbrella Begins to Leak: A...</td>\n",
       "      <td>By Davis, Paul D.</td>\n",
       "      <td>NaN</td>\n",
       "      <td>NaN</td>\n",
       "      <td>Natl Pr Books</td>\n",
       "      <td>Monday, April 1, 1991</td>\n",
       "      <td>Price Starting at $4.99</td>\n",
       "    </tr>\n",
       "    <tr>\n",
       "      <th>4</th>\n",
       "      <td>Amy Spangler's Breastfeeding : A Parent's Guide</td>\n",
       "      <td>By Spangler, Amy</td>\n",
       "      <td>NaN</td>\n",
       "      <td>NaN</td>\n",
       "      <td>Amy Spangler</td>\n",
       "      <td>Saturday, February 1, 1997</td>\n",
       "      <td>Price Starting at $5.32</td>\n",
       "    </tr>\n",
       "    <tr>\n",
       "      <th>...</th>\n",
       "      <td>...</td>\n",
       "      <td>...</td>\n",
       "      <td>...</td>\n",
       "      <td>...</td>\n",
       "      <td>...</td>\n",
       "      <td>...</td>\n",
       "      <td>...</td>\n",
       "    </tr>\n",
       "    <tr>\n",
       "      <th>103077</th>\n",
       "      <td>Build 3 Super Serving Carts</td>\n",
       "      <td>By Chuck Hampton</td>\n",
       "      <td>NaN</td>\n",
       "      <td>NaN</td>\n",
       "      <td>ENDesigns Inc.</td>\n",
       "      <td>Wednesday, January 1, 1992</td>\n",
       "      <td>Price Starting at $9.97</td>\n",
       "    </tr>\n",
       "    <tr>\n",
       "      <th>103078</th>\n",
       "      <td>My Land of Israel</td>\n",
       "      <td>By Nover, Elizabeth Z.</td>\n",
       "      <td>NaN</td>\n",
       "      <td>Juvenile Nonfiction , People &amp; Places , Middl...</td>\n",
       "      <td>Behrman House</td>\n",
       "      <td>Friday, May 1, 1987</td>\n",
       "      <td>Price Starting at $4.99</td>\n",
       "    </tr>\n",
       "    <tr>\n",
       "      <th>103079</th>\n",
       "      <td>Tongues: To Speak or Not to Speak</td>\n",
       "      <td>By Donald W. Burdick</td>\n",
       "      <td>NaN</td>\n",
       "      <td>NaN</td>\n",
       "      <td>Moody Press</td>\n",
       "      <td>Wednesday, January 1, 1969</td>\n",
       "      <td>Price Starting at $5.29</td>\n",
       "    </tr>\n",
       "    <tr>\n",
       "      <th>103080</th>\n",
       "      <td>If I'm in charge here why is everybody laughing?</td>\n",
       "      <td>By Campbell, David P.</td>\n",
       "      <td>NaN</td>\n",
       "      <td>NaN</td>\n",
       "      <td>Argus Communications</td>\n",
       "      <td>Tuesday, January 1, 1980</td>\n",
       "      <td>Price Starting at $4.99</td>\n",
       "    </tr>\n",
       "    <tr>\n",
       "      <th>103081</th>\n",
       "      <td>Your First Puppy (Your First Series)</td>\n",
       "      <td>By Carpentier, Marcel</td>\n",
       "      <td>An introduction to the proper care of puppies ...</td>\n",
       "      <td>Pets , Dogs , General</td>\n",
       "      <td>Tfh Pubns Inc</td>\n",
       "      <td>Friday, November 1, 1991</td>\n",
       "      <td>Price Starting at $4.99</td>\n",
       "    </tr>\n",
       "  </tbody>\n",
       "</table>\n",
       "<p>103082 rows × 7 columns</p>\n",
       "</div>"
      ],
      "text/plain": [
       "                                                    Title  \\\n",
       "0                                           Goat Brothers   \n",
       "1                                      The Missing Person   \n",
       "2                       Don't Eat Your Heart Out Cookbook   \n",
       "3       When Your Corporate Umbrella Begins to Leak: A...   \n",
       "4         Amy Spangler's Breastfeeding : A Parent's Guide   \n",
       "...                                                   ...   \n",
       "103077                        Build 3 Super Serving Carts   \n",
       "103078                                  My Land of Israel   \n",
       "103079                  Tongues: To Speak or Not to Speak   \n",
       "103080   If I'm in charge here why is everybody laughing?   \n",
       "103081               Your First Puppy (Your First Series)   \n",
       "\n",
       "                         Authors  \\\n",
       "0               By Colton, Larry   \n",
       "1             By Grumbach, Doris   \n",
       "2       By Piscatella, Joseph C.   \n",
       "3              By Davis, Paul D.   \n",
       "4               By Spangler, Amy   \n",
       "...                          ...   \n",
       "103077          By Chuck Hampton   \n",
       "103078    By Nover, Elizabeth Z.   \n",
       "103079      By Donald W. Burdick   \n",
       "103080     By Campbell, David P.   \n",
       "103081     By Carpentier, Marcel   \n",
       "\n",
       "                                              Description  \\\n",
       "0                                                     NaN   \n",
       "1                                                     NaN   \n",
       "2                                                     NaN   \n",
       "3                                                     NaN   \n",
       "4                                                     NaN   \n",
       "...                                                   ...   \n",
       "103077                                                NaN   \n",
       "103078                                                NaN   \n",
       "103079                                                NaN   \n",
       "103080                                                NaN   \n",
       "103081  An introduction to the proper care of puppies ...   \n",
       "\n",
       "                                                 Category  \\\n",
       "0                                       History , General   \n",
       "1                                       Fiction , General   \n",
       "2                                     Cooking , Reference   \n",
       "3                                                     NaN   \n",
       "4                                                     NaN   \n",
       "...                                                   ...   \n",
       "103077                                                NaN   \n",
       "103078   Juvenile Nonfiction , People & Places , Middl...   \n",
       "103079                                                NaN   \n",
       "103080                                                NaN   \n",
       "103081                              Pets , Dogs , General   \n",
       "\n",
       "                   Publisher                 Publish Date  \\\n",
       "0                  Doubleday      Friday, January 1, 1993   \n",
       "1           Putnam Pub Group        Sunday, March 1, 1981   \n",
       "2             Workman Pub Co  Thursday, September 1, 1983   \n",
       "3              Natl Pr Books        Monday, April 1, 1991   \n",
       "4               Amy Spangler   Saturday, February 1, 1997   \n",
       "...                      ...                          ...   \n",
       "103077        ENDesigns Inc.   Wednesday, January 1, 1992   \n",
       "103078         Behrman House          Friday, May 1, 1987   \n",
       "103079           Moody Press   Wednesday, January 1, 1969   \n",
       "103080  Argus Communications     Tuesday, January 1, 1980   \n",
       "103081         Tfh Pubns Inc     Friday, November 1, 1991   \n",
       "\n",
       "                          Price  \n",
       "0       Price Starting at $8.79  \n",
       "1       Price Starting at $4.99  \n",
       "2       Price Starting at $4.99  \n",
       "3       Price Starting at $4.99  \n",
       "4       Price Starting at $5.32  \n",
       "...                         ...  \n",
       "103077  Price Starting at $9.97  \n",
       "103078  Price Starting at $4.99  \n",
       "103079  Price Starting at $5.29  \n",
       "103080  Price Starting at $4.99  \n",
       "103081  Price Starting at $4.99  \n",
       "\n",
       "[103082 rows x 7 columns]"
      ]
     },
     "execution_count": 38,
     "metadata": {},
     "output_type": "execute_result"
    }
   ],
   "source": [
    "# Here we are printing the original data from the csv\n",
    "gb_md"
   ]
  },
  {
   "cell_type": "code",
   "execution_count": 39,
   "metadata": {
    "ExecuteTime": {
     "end_time": "2024-12-11T05:03:03.355661Z",
     "start_time": "2024-12-11T05:03:03.332033Z"
    },
    "id": "-JlhGT7HARBb"
   },
   "outputs": [
    {
     "name": "stdout",
     "output_type": "stream",
     "text": [
      "65305\n"
     ]
    }
   ],
   "source": [
    "# Dropping all observations with missing values\n",
    "gb_md = gb_md.dropna()\n",
    "# Printing the length to see how much data we have left with complete info.\n",
    "print(len(gb_md))\n",
    "# Now we will be dropping the columns that are irrelevant to us\n",
    "gb_md = gb_md.drop(columns=['Price', 'Publisher'])\n",
    "#"
   ]
  },
  {
   "cell_type": "code",
   "execution_count": 40,
   "metadata": {
    "ExecuteTime": {
     "end_time": "2024-12-11T05:03:03.360723Z",
     "start_time": "2024-12-11T05:03:03.356326Z"
    },
    "colab": {
     "base_uri": "https://localhost:8080/",
     "height": 2750
    },
    "id": "cIm2IwjtDBgn",
    "outputId": "c093643c-6497-4c7e-86a9-f02032392497"
   },
   "outputs": [
    {
     "data": {
      "text/html": [
       "<div>\n",
       "<style scoped>\n",
       "    .dataframe tbody tr th:only-of-type {\n",
       "        vertical-align: middle;\n",
       "    }\n",
       "\n",
       "    .dataframe tbody tr th {\n",
       "        vertical-align: top;\n",
       "    }\n",
       "\n",
       "    .dataframe thead th {\n",
       "        text-align: right;\n",
       "    }\n",
       "</style>\n",
       "<table border=\"1\" class=\"dataframe\">\n",
       "  <thead>\n",
       "    <tr style=\"text-align: right;\">\n",
       "      <th></th>\n",
       "      <th>Title</th>\n",
       "      <th>Authors</th>\n",
       "      <th>Description</th>\n",
       "      <th>Category</th>\n",
       "      <th>Publish Date</th>\n",
       "    </tr>\n",
       "  </thead>\n",
       "  <tbody>\n",
       "    <tr>\n",
       "      <th>7</th>\n",
       "      <td>Journey Through Heartsongs</td>\n",
       "      <td>By Stepanek, Mattie J. T.</td>\n",
       "      <td>Collects poems written by the eleven-year-old ...</td>\n",
       "      <td>Poetry , General</td>\n",
       "      <td>Saturday, September 1, 2001</td>\n",
       "    </tr>\n",
       "    <tr>\n",
       "      <th>8</th>\n",
       "      <td>In Search of Melancholy Baby</td>\n",
       "      <td>By Aksyonov, Vassily, Heim, Michael Henry, and...</td>\n",
       "      <td>The Russian author offers an affectionate chro...</td>\n",
       "      <td>Biography &amp; Autobiography , General</td>\n",
       "      <td>Monday, June 1, 1987</td>\n",
       "    </tr>\n",
       "    <tr>\n",
       "      <th>10</th>\n",
       "      <td>The Dieter's Guide to Weight Loss During Sex</td>\n",
       "      <td>By Smith, Richard</td>\n",
       "      <td>A humor classic, this tongue-in-cheek diet pla...</td>\n",
       "      <td>Health &amp; Fitness , Diet &amp; Nutrition , Diets</td>\n",
       "      <td>Sunday, January 1, 1978</td>\n",
       "    </tr>\n",
       "    <tr>\n",
       "      <th>11</th>\n",
       "      <td>Germs : Biological Weapons and America's Secre...</td>\n",
       "      <td>By Miller, Judith, Engelberg, Stephen, and Bro...</td>\n",
       "      <td>Deadly germs sprayed in shopping malls, bomb-l...</td>\n",
       "      <td>Technology &amp; Engineering , Military Science</td>\n",
       "      <td>Monday, October 1, 2001</td>\n",
       "    </tr>\n",
       "    <tr>\n",
       "      <th>13</th>\n",
       "      <td>The Good Book: Reading the Bible with Mind and...</td>\n",
       "      <td>By Gomes, Peter J.</td>\n",
       "      <td>\"The Bible and the social and moral consequenc...</td>\n",
       "      <td>Religion , Biblical Biography , General</td>\n",
       "      <td>Friday, May 1, 1998</td>\n",
       "    </tr>\n",
       "    <tr>\n",
       "      <th>...</th>\n",
       "      <td>...</td>\n",
       "      <td>...</td>\n",
       "      <td>...</td>\n",
       "      <td>...</td>\n",
       "      <td>...</td>\n",
       "    </tr>\n",
       "    <tr>\n",
       "      <th>103069</th>\n",
       "      <td>Like A Sister: A Novel</td>\n",
       "      <td>By Daugharty, Janice</td>\n",
       "      <td>Sister cannot say exactly when or where she wa...</td>\n",
       "      <td>Fiction , Literary</td>\n",
       "      <td>Monday, November 1, 1999</td>\n",
       "    </tr>\n",
       "    <tr>\n",
       "      <th>103071</th>\n",
       "      <td>Creating Web Pages Simplified (3-D Visual Series)</td>\n",
       "      <td>By Maran, Ruth, Whitehead, Paul, and Marangrap...</td>\n",
       "      <td>An \"owner's manual\" for first-time Web page cr...</td>\n",
       "      <td>Computers , Internet , General</td>\n",
       "      <td>Wednesday, January 1, 1997</td>\n",
       "    </tr>\n",
       "    <tr>\n",
       "      <th>103072</th>\n",
       "      <td>EVA: The Real Key to Creating Wealth</td>\n",
       "      <td>By Ehrbar, Al</td>\n",
       "      <td>Called \"today's hottest financial idea and get...</td>\n",
       "      <td>Business &amp; Economics , Corporate Finance , Ge...</td>\n",
       "      <td>Thursday, October 1, 1998</td>\n",
       "    </tr>\n",
       "    <tr>\n",
       "      <th>103075</th>\n",
       "      <td>The Essentials of Spanish (REA's Language Seri...</td>\n",
       "      <td>By Mouat, Ricardo Gutierrez</td>\n",
       "      <td>REA’s Essentials provide quick and easy access...</td>\n",
       "      <td>Foreign Language Study , Spanish</td>\n",
       "      <td>Thursday, January 1, 1998</td>\n",
       "    </tr>\n",
       "    <tr>\n",
       "      <th>103081</th>\n",
       "      <td>Your First Puppy (Your First Series)</td>\n",
       "      <td>By Carpentier, Marcel</td>\n",
       "      <td>An introduction to the proper care of puppies ...</td>\n",
       "      <td>Pets , Dogs , General</td>\n",
       "      <td>Friday, November 1, 1991</td>\n",
       "    </tr>\n",
       "  </tbody>\n",
       "</table>\n",
       "<p>65305 rows × 5 columns</p>\n",
       "</div>"
      ],
      "text/plain": [
       "                                                    Title  \\\n",
       "7                              Journey Through Heartsongs   \n",
       "8                            In Search of Melancholy Baby   \n",
       "10           The Dieter's Guide to Weight Loss During Sex   \n",
       "11      Germs : Biological Weapons and America's Secre...   \n",
       "13      The Good Book: Reading the Bible with Mind and...   \n",
       "...                                                   ...   \n",
       "103069                             Like A Sister: A Novel   \n",
       "103071  Creating Web Pages Simplified (3-D Visual Series)   \n",
       "103072               EVA: The Real Key to Creating Wealth   \n",
       "103075  The Essentials of Spanish (REA's Language Seri...   \n",
       "103081               Your First Puppy (Your First Series)   \n",
       "\n",
       "                                                  Authors  \\\n",
       "7                               By Stepanek, Mattie J. T.   \n",
       "8       By Aksyonov, Vassily, Heim, Michael Henry, and...   \n",
       "10                                      By Smith, Richard   \n",
       "11      By Miller, Judith, Engelberg, Stephen, and Bro...   \n",
       "13                                     By Gomes, Peter J.   \n",
       "...                                                   ...   \n",
       "103069                               By Daugharty, Janice   \n",
       "103071  By Maran, Ruth, Whitehead, Paul, and Marangrap...   \n",
       "103072                                      By Ehrbar, Al   \n",
       "103075                        By Mouat, Ricardo Gutierrez   \n",
       "103081                              By Carpentier, Marcel   \n",
       "\n",
       "                                              Description  \\\n",
       "7       Collects poems written by the eleven-year-old ...   \n",
       "8       The Russian author offers an affectionate chro...   \n",
       "10      A humor classic, this tongue-in-cheek diet pla...   \n",
       "11      Deadly germs sprayed in shopping malls, bomb-l...   \n",
       "13      \"The Bible and the social and moral consequenc...   \n",
       "...                                                   ...   \n",
       "103069  Sister cannot say exactly when or where she wa...   \n",
       "103071  An \"owner's manual\" for first-time Web page cr...   \n",
       "103072  Called \"today's hottest financial idea and get...   \n",
       "103075  REA’s Essentials provide quick and easy access...   \n",
       "103081  An introduction to the proper care of puppies ...   \n",
       "\n",
       "                                                 Category  \\\n",
       "7                                        Poetry , General   \n",
       "8                     Biography & Autobiography , General   \n",
       "10            Health & Fitness , Diet & Nutrition , Diets   \n",
       "11            Technology & Engineering , Military Science   \n",
       "13                Religion , Biblical Biography , General   \n",
       "...                                                   ...   \n",
       "103069                                 Fiction , Literary   \n",
       "103071                     Computers , Internet , General   \n",
       "103072   Business & Economics , Corporate Finance , Ge...   \n",
       "103075                   Foreign Language Study , Spanish   \n",
       "103081                              Pets , Dogs , General   \n",
       "\n",
       "                       Publish Date  \n",
       "7       Saturday, September 1, 2001  \n",
       "8              Monday, June 1, 1987  \n",
       "10          Sunday, January 1, 1978  \n",
       "11          Monday, October 1, 2001  \n",
       "13              Friday, May 1, 1998  \n",
       "...                             ...  \n",
       "103069     Monday, November 1, 1999  \n",
       "103071   Wednesday, January 1, 1997  \n",
       "103072    Thursday, October 1, 1998  \n",
       "103075    Thursday, January 1, 1998  \n",
       "103081     Friday, November 1, 1991  \n",
       "\n",
       "[65305 rows x 5 columns]"
      ]
     },
     "execution_count": 40,
     "metadata": {},
     "output_type": "execute_result"
    }
   ],
   "source": [
    "gb_md"
   ]
  },
  {
   "cell_type": "code",
   "execution_count": 41,
   "metadata": {
    "ExecuteTime": {
     "end_time": "2024-12-11T05:03:05.596425Z",
     "start_time": "2024-12-11T05:03:03.361249Z"
    },
    "id": "ijfYzM9qF4PD"
   },
   "outputs": [
    {
     "name": "stderr",
     "output_type": "stream",
     "text": [
      "<All keys matched successfully>\n"
     ]
    }
   ],
   "source": [
    "from transformers import AutoTokenizer, AutoModel\n",
    "# sample GPT answer\n",
    "\n",
    "# Load a pretrained model and tokenizer\n",
    "model_name = \"nomic-ai/nomic-embed-text-v1.5\"\n",
    "tokenizer = AutoTokenizer.from_pretrained(model_name, trust_remote_code=True, device=torch_device)\n",
    "model = AutoModel.from_pretrained(model_name, trust_remote_code=True, device=torch_device)\n",
    "\n",
    "def embedding_gen(text):\n",
    "    inputs=tokenizer(text, return_tensors=\"pt\", truncation=True, padding=True)\n",
    "    \n",
    "    with torch.no_grad():\n",
    "        outputs = model(**inputs)\n",
    "        embeddings = outputs.last_hidden_state.mean(dim=1)\n",
    "        return embeddings\n"
   ]
  },
  {
   "cell_type": "code",
   "execution_count": 42,
   "metadata": {
    "ExecuteTime": {
     "end_time": "2024-12-11T05:03:05.599838Z",
     "start_time": "2024-12-11T05:03:05.597402Z"
    }
   },
   "outputs": [
    {
     "name": "stdout",
     "output_type": "stream",
     "text": [
      "['Journey Through Heartsongs', 'By Stepanek, Mattie J. T.', ' Poetry , General', 'Saturday, September 1, 2001']\n"
     ]
    }
   ],
   "source": [
    "arr = [str(i) for i in gb_md.iloc[0].drop('Description')]\n",
    "print(arr)"
   ]
  },
  {
   "cell_type": "code",
   "execution_count": null,
   "metadata": {
    "ExecuteTime": {
     "end_time": "2024-12-11T05:04:36.996458Z",
     "start_time": "2024-12-11T05:04:36.892589Z"
    }
   },
   "outputs": [],
   "source": [
    "#sample_t1 = embedding_gen(gb_md.iloc[0])\n",
    "#sample_t2 = embedding_gen(arr)\n",
    "#sample_t = torch.cat((sample_t1, sample_t2))\n",
    "results = [embedding_gen(i).numpy() for i in gb_md]"
   ]
  },
  {
   "cell_type": "code",
   "execution_count": null,
   "metadata": {},
   "outputs": [
    {
     "ename": "AttributeError",
     "evalue": "This 'Pipeline' has no attribute 'fit_predict'",
     "output_type": "error",
     "traceback": [
      "\u001B[0;31m---------------------------------------------------------------------------\u001B[0m",
      "\u001B[0;31mAttributeError\u001B[0m                            Traceback (most recent call last)",
      "File \u001B[0;32m~/.conda/envs/ml_rapids/lib/python3.11/site-packages/sklearn/utils/_available_if.py:29\u001B[0m, in \u001B[0;36m_AvailableIfDescriptor._check\u001B[0;34m(self, obj, owner)\u001B[0m\n\u001B[1;32m     28\u001B[0m \u001B[38;5;28;01mtry\u001B[39;00m:\n\u001B[0;32m---> 29\u001B[0m     check_result \u001B[38;5;241m=\u001B[39m \u001B[38;5;28;43mself\u001B[39;49m\u001B[38;5;241;43m.\u001B[39;49m\u001B[43mcheck\u001B[49m\u001B[43m(\u001B[49m\u001B[43mobj\u001B[49m\u001B[43m)\u001B[49m\n\u001B[1;32m     30\u001B[0m \u001B[38;5;28;01mexcept\u001B[39;00m \u001B[38;5;167;01mException\u001B[39;00m \u001B[38;5;28;01mas\u001B[39;00m e:\n",
      "File \u001B[0;32m~/.conda/envs/ml_rapids/lib/python3.11/site-packages/sklearn/pipeline.py:51\u001B[0m, in \u001B[0;36m_final_estimator_has.<locals>.check\u001B[0;34m(self)\u001B[0m\n\u001B[1;32m     49\u001B[0m \u001B[38;5;28;01mdef\u001B[39;00m \u001B[38;5;21mcheck\u001B[39m(\u001B[38;5;28mself\u001B[39m):\n\u001B[1;32m     50\u001B[0m     \u001B[38;5;66;03m# raise original `AttributeError` if `attr` does not exist\u001B[39;00m\n\u001B[0;32m---> 51\u001B[0m     \u001B[38;5;28;43mgetattr\u001B[39;49m\u001B[43m(\u001B[49m\u001B[38;5;28;43mself\u001B[39;49m\u001B[38;5;241;43m.\u001B[39;49m\u001B[43m_final_estimator\u001B[49m\u001B[43m,\u001B[49m\u001B[43m \u001B[49m\u001B[43mattr\u001B[49m\u001B[43m)\u001B[49m\n\u001B[1;32m     52\u001B[0m     \u001B[38;5;28;01mreturn\u001B[39;00m \u001B[38;5;28;01mTrue\u001B[39;00m\n",
      "File \u001B[0;32mbase.pyx:330\u001B[0m, in \u001B[0;36mcuml.internals.base.Base.__getattr__\u001B[0;34m()\u001B[0m\n",
      "\u001B[0;31mAttributeError\u001B[0m: fit_predict",
      "\nThe above exception was the direct cause of the following exception:\n",
      "\u001B[0;31mAttributeError\u001B[0m                            Traceback (most recent call last)",
      "Cell \u001B[0;32mIn[54], line 11\u001B[0m\n\u001B[1;32m      8\u001B[0m     \u001B[38;5;28;01mreturn\u001B[39;00m data_fitted\n\u001B[1;32m     10\u001B[0m results_np \u001B[38;5;241m=\u001B[39m [i\u001B[38;5;241m.\u001B[39mnumpy() \u001B[38;5;28;01mfor\u001B[39;00m i \u001B[38;5;129;01min\u001B[39;00m results]\n\u001B[0;32m---> 11\u001B[0m \u001B[43mumapTest\u001B[49m\u001B[43m(\u001B[49m\u001B[43mresults_np\u001B[49m\u001B[43m[\u001B[49m\u001B[38;5;241;43m0\u001B[39;49m\u001B[43m]\u001B[49m\u001B[43m)\u001B[49m\n",
      "Cell \u001B[0;32mIn[54], line 7\u001B[0m, in \u001B[0;36mumapTest\u001B[0;34m(data, neighbors, display)\u001B[0m\n\u001B[1;32m      2\u001B[0m dim_reducer \u001B[38;5;241m=\u001B[39m UMAP(n_neighbors\u001B[38;5;241m=\u001B[39mneighbors, n_components\u001B[38;5;241m=\u001B[39m\u001B[38;5;241m2\u001B[39m, random_state\u001B[38;5;241m=\u001B[39m\u001B[38;5;241m42\u001B[39m)\n\u001B[1;32m      3\u001B[0m num_pipeline \u001B[38;5;241m=\u001B[39m Pipeline([\n\u001B[1;32m      4\u001B[0m     \u001B[38;5;66;03m#('std_scaler', StandardScaler()),\u001B[39;00m\n\u001B[1;32m      5\u001B[0m     (\u001B[38;5;124m'\u001B[39m\u001B[38;5;124m2d reducer\u001B[39m\u001B[38;5;124m'\u001B[39m, dim_reducer)\n\u001B[1;32m      6\u001B[0m     ])\n\u001B[0;32m----> 7\u001B[0m data_fitted \u001B[38;5;241m=\u001B[39m \u001B[43mnum_pipeline\u001B[49m\u001B[38;5;241;43m.\u001B[39;49m\u001B[43mfit_predict\u001B[49m(data)\n\u001B[1;32m      8\u001B[0m \u001B[38;5;28;01mreturn\u001B[39;00m data_fitted\n",
      "File \u001B[0;32m~/.conda/envs/ml_rapids/lib/python3.11/site-packages/sklearn/utils/_available_if.py:40\u001B[0m, in \u001B[0;36m_AvailableIfDescriptor.__get__\u001B[0;34m(self, obj, owner)\u001B[0m\n\u001B[1;32m     36\u001B[0m \u001B[38;5;28;01mdef\u001B[39;00m \u001B[38;5;21m__get__\u001B[39m(\u001B[38;5;28mself\u001B[39m, obj, owner\u001B[38;5;241m=\u001B[39m\u001B[38;5;28;01mNone\u001B[39;00m):\n\u001B[1;32m     37\u001B[0m     \u001B[38;5;28;01mif\u001B[39;00m obj \u001B[38;5;129;01mis\u001B[39;00m \u001B[38;5;129;01mnot\u001B[39;00m \u001B[38;5;28;01mNone\u001B[39;00m:\n\u001B[1;32m     38\u001B[0m         \u001B[38;5;66;03m# delegate only on instances, not the classes.\u001B[39;00m\n\u001B[1;32m     39\u001B[0m         \u001B[38;5;66;03m# this is to allow access to the docstrings.\u001B[39;00m\n\u001B[0;32m---> 40\u001B[0m         \u001B[38;5;28;43mself\u001B[39;49m\u001B[38;5;241;43m.\u001B[39;49m\u001B[43m_check\u001B[49m\u001B[43m(\u001B[49m\u001B[43mobj\u001B[49m\u001B[43m,\u001B[49m\u001B[43m \u001B[49m\u001B[43mowner\u001B[49m\u001B[38;5;241;43m=\u001B[39;49m\u001B[43mowner\u001B[49m\u001B[43m)\u001B[49m\n\u001B[1;32m     41\u001B[0m         out \u001B[38;5;241m=\u001B[39m MethodType(\u001B[38;5;28mself\u001B[39m\u001B[38;5;241m.\u001B[39mfn, obj)\n\u001B[1;32m     43\u001B[0m     \u001B[38;5;28;01melse\u001B[39;00m:\n\u001B[1;32m     44\u001B[0m         \u001B[38;5;66;03m# This makes it possible to use the decorated method as an unbound method,\u001B[39;00m\n\u001B[1;32m     45\u001B[0m         \u001B[38;5;66;03m# for instance when monkeypatching.\u001B[39;00m\n",
      "File \u001B[0;32m~/.conda/envs/ml_rapids/lib/python3.11/site-packages/sklearn/utils/_available_if.py:31\u001B[0m, in \u001B[0;36m_AvailableIfDescriptor._check\u001B[0;34m(self, obj, owner)\u001B[0m\n\u001B[1;32m     29\u001B[0m     check_result \u001B[38;5;241m=\u001B[39m \u001B[38;5;28mself\u001B[39m\u001B[38;5;241m.\u001B[39mcheck(obj)\n\u001B[1;32m     30\u001B[0m \u001B[38;5;28;01mexcept\u001B[39;00m \u001B[38;5;167;01mException\u001B[39;00m \u001B[38;5;28;01mas\u001B[39;00m e:\n\u001B[0;32m---> 31\u001B[0m     \u001B[38;5;28;01mraise\u001B[39;00m \u001B[38;5;167;01mAttributeError\u001B[39;00m(attr_err_msg) \u001B[38;5;28;01mfrom\u001B[39;00m \u001B[38;5;21;01me\u001B[39;00m\n\u001B[1;32m     33\u001B[0m \u001B[38;5;28;01mif\u001B[39;00m \u001B[38;5;129;01mnot\u001B[39;00m check_result:\n\u001B[1;32m     34\u001B[0m     \u001B[38;5;28;01mraise\u001B[39;00m \u001B[38;5;167;01mAttributeError\u001B[39;00m(attr_err_msg)\n",
      "\u001B[0;31mAttributeError\u001B[0m: This 'Pipeline' has no attribute 'fit_predict'"
     ]
    }
   ],
   "source": []
  }
 ],
 "metadata": {
  "colab": {
   "provenance": []
  },
  "kernelspec": {
   "display_name": "ml_rapids",
   "language": "python",
   "name": "python3"
  },
  "language_info": {
   "codemirror_mode": {
    "name": "ipython",
    "version": 3
   },
   "file_extension": ".py",
   "mimetype": "text/x-python",
   "name": "python",
   "nbconvert_exporter": "python",
   "pygments_lexer": "ipython3",
   "version": "3.11.10"
  }
 },
 "nbformat": 4,
 "nbformat_minor": 0
}
