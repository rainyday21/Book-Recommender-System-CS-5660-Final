{
 "cells": [
  {
   "cell_type": "markdown",
   "metadata": {
    "id": "aC5k8X9HNeTU"
   },
   "source": [
    "### Part 1. Data Acquisition & Preprocessing\n",
    "#### Staring with incorperating the dataset"
   ]
  },
  {
   "cell_type": "code",
   "execution_count": 1,
   "metadata": {
    "ExecuteTime": {
     "end_time": "2024-12-12T17:56:59.467093Z",
     "start_time": "2024-12-12T17:56:58.859627Z"
    },
    "id": "8TCo0zYqSNQX"
   },
   "outputs": [
    {
     "name": "stdout",
     "output_type": "stream",
     "text": [
      "Note: you may need to restart the kernel to use updated packages.\n"
     ]
    }
   ],
   "source": [
    "%pip install kaggle -q"
   ]
  },
  {
   "cell_type": "code",
   "execution_count": 134,
   "metadata": {
    "ExecuteTime": {
     "end_time": "2024-12-12T17:57:04.251148Z",
     "start_time": "2024-12-12T17:56:59.467949Z"
    },
    "id": "Gr5Hh53PNeTV"
   },
   "outputs": [],
   "source": [
    "# Importing all neccessary frameworks\n",
    "\n",
    "import numpy as np\n",
    "import torch\n",
    "\n",
    "\n",
    "from transformers import AutoTokenizer, AutoModel\n",
    "from sentence_transformers import SentenceTransformer\n",
    "from sklearn.preprocessing import normalize, scale, MinMaxScaler\n",
    "from sklearn.metrics.pairwise import cosine_similarity\n",
    "\n",
    "#%load_ext cudf.pandas\n",
    "import pandas as pd\n",
    "from cuml.manifold import UMAP\n",
    "from cuml.cluster import hdbscan\n",
    "import matplotlib.pyplot as plt\n",
    "from sklearn import metrics\n",
    "from sklearn.pipeline import Pipeline\n",
    "from sklearn.model_selection import GridSearchCV, KFold\n",
    "\n",
    "import warnings\n",
    "warnings.filterwarnings('ignore')"
   ]
  },
  {
   "cell_type": "code",
   "execution_count": 3,
   "metadata": {
    "ExecuteTime": {
     "end_time": "2024-12-12T17:57:04.256069Z",
     "start_time": "2024-12-12T17:57:04.251664Z"
    },
    "colab": {
     "base_uri": "https://localhost:8080/"
    },
    "id": "IHqYlswtSkRD",
    "outputId": "8c280807-4344-4ad0-840f-179e66f768c3",
    "vscode": {
     "languageId": "shellscript"
    }
   },
   "outputs": [],
   "source": [
    "%%bash\n",
    "# Downloading the dataset from Kaggle\n",
    "\n",
    "export KAGGLE_USERNAME=orranereid\n",
    "export KAGGLE_KEY=395c5483c47968f4a9e8ea5ac326f64f\n",
    "\n",
    "#kaggle datasets download -d elvinrustam/books-dataset --unzip --force"
   ]
  },
  {
   "cell_type": "markdown",
   "metadata": {
    "id": "htI-9grn2TVS"
   },
   "source": [
    "# Preproccessing Data Steps."
   ]
  },
  {
   "cell_type": "markdown",
   "metadata": {
    "id": "MRRvhD98XgCU"
   },
   "source": [
    "**Data Sources**\n",
    "\n",
    "From Kaggle, we were able to use a Book Dataset with over 100,000 observations. It includes multiple features such as authors, genres, titles, & date of publication."
   ]
  },
  {
   "cell_type": "code",
   "execution_count": 4,
   "metadata": {
    "ExecuteTime": {
     "end_time": "2024-12-12T17:57:04.639901Z",
     "start_time": "2024-12-12T17:57:04.256630Z"
    },
    "id": "Gr4Wtm00NeTV"
   },
   "outputs": [],
   "source": [
    "# Extracting the info from the CSV fiel\n",
    "gb_md = pd.read_csv('BooksDataset.csv')"
   ]
  },
  {
   "cell_type": "code",
   "execution_count": 5,
   "metadata": {
    "ExecuteTime": {
     "end_time": "2024-12-12T17:57:04.648834Z",
     "start_time": "2024-12-12T17:57:04.641140Z"
    },
    "colab": {
     "base_uri": "https://localhost:8080/",
     "height": 423
    },
    "id": "U7XpQ-wONeTW",
    "outputId": "f4ef5821-a58b-433a-bac5-57398558c187"
   },
   "outputs": [
    {
     "data": {
      "text/html": [
       "<div>\n",
       "<style scoped>\n",
       "    .dataframe tbody tr th:only-of-type {\n",
       "        vertical-align: middle;\n",
       "    }\n",
       "\n",
       "    .dataframe tbody tr th {\n",
       "        vertical-align: top;\n",
       "    }\n",
       "\n",
       "    .dataframe thead th {\n",
       "        text-align: right;\n",
       "    }\n",
       "</style>\n",
       "<table border=\"1\" class=\"dataframe\">\n",
       "  <thead>\n",
       "    <tr style=\"text-align: right;\">\n",
       "      <th></th>\n",
       "      <th>Title</th>\n",
       "      <th>Authors</th>\n",
       "      <th>Description</th>\n",
       "      <th>Category</th>\n",
       "      <th>Publisher</th>\n",
       "      <th>Publish Date</th>\n",
       "      <th>Price</th>\n",
       "    </tr>\n",
       "  </thead>\n",
       "  <tbody>\n",
       "    <tr>\n",
       "      <th>0</th>\n",
       "      <td>Goat Brothers</td>\n",
       "      <td>By Colton, Larry</td>\n",
       "      <td>NaN</td>\n",
       "      <td>History , General</td>\n",
       "      <td>Doubleday</td>\n",
       "      <td>Friday, January 1, 1993</td>\n",
       "      <td>Price Starting at $8.79</td>\n",
       "    </tr>\n",
       "    <tr>\n",
       "      <th>1</th>\n",
       "      <td>The Missing Person</td>\n",
       "      <td>By Grumbach, Doris</td>\n",
       "      <td>NaN</td>\n",
       "      <td>Fiction , General</td>\n",
       "      <td>Putnam Pub Group</td>\n",
       "      <td>Sunday, March 1, 1981</td>\n",
       "      <td>Price Starting at $4.99</td>\n",
       "    </tr>\n",
       "    <tr>\n",
       "      <th>2</th>\n",
       "      <td>Don't Eat Your Heart Out Cookbook</td>\n",
       "      <td>By Piscatella, Joseph C.</td>\n",
       "      <td>NaN</td>\n",
       "      <td>Cooking , Reference</td>\n",
       "      <td>Workman Pub Co</td>\n",
       "      <td>Thursday, September 1, 1983</td>\n",
       "      <td>Price Starting at $4.99</td>\n",
       "    </tr>\n",
       "    <tr>\n",
       "      <th>3</th>\n",
       "      <td>When Your Corporate Umbrella Begins to Leak: A...</td>\n",
       "      <td>By Davis, Paul D.</td>\n",
       "      <td>NaN</td>\n",
       "      <td>NaN</td>\n",
       "      <td>Natl Pr Books</td>\n",
       "      <td>Monday, April 1, 1991</td>\n",
       "      <td>Price Starting at $4.99</td>\n",
       "    </tr>\n",
       "    <tr>\n",
       "      <th>4</th>\n",
       "      <td>Amy Spangler's Breastfeeding : A Parent's Guide</td>\n",
       "      <td>By Spangler, Amy</td>\n",
       "      <td>NaN</td>\n",
       "      <td>NaN</td>\n",
       "      <td>Amy Spangler</td>\n",
       "      <td>Saturday, February 1, 1997</td>\n",
       "      <td>Price Starting at $5.32</td>\n",
       "    </tr>\n",
       "    <tr>\n",
       "      <th>...</th>\n",
       "      <td>...</td>\n",
       "      <td>...</td>\n",
       "      <td>...</td>\n",
       "      <td>...</td>\n",
       "      <td>...</td>\n",
       "      <td>...</td>\n",
       "      <td>...</td>\n",
       "    </tr>\n",
       "    <tr>\n",
       "      <th>103077</th>\n",
       "      <td>Build 3 Super Serving Carts</td>\n",
       "      <td>By Chuck Hampton</td>\n",
       "      <td>NaN</td>\n",
       "      <td>NaN</td>\n",
       "      <td>ENDesigns Inc.</td>\n",
       "      <td>Wednesday, January 1, 1992</td>\n",
       "      <td>Price Starting at $9.97</td>\n",
       "    </tr>\n",
       "    <tr>\n",
       "      <th>103078</th>\n",
       "      <td>My Land of Israel</td>\n",
       "      <td>By Nover, Elizabeth Z.</td>\n",
       "      <td>NaN</td>\n",
       "      <td>Juvenile Nonfiction , People &amp; Places , Middl...</td>\n",
       "      <td>Behrman House</td>\n",
       "      <td>Friday, May 1, 1987</td>\n",
       "      <td>Price Starting at $4.99</td>\n",
       "    </tr>\n",
       "    <tr>\n",
       "      <th>103079</th>\n",
       "      <td>Tongues: To Speak or Not to Speak</td>\n",
       "      <td>By Donald W. Burdick</td>\n",
       "      <td>NaN</td>\n",
       "      <td>NaN</td>\n",
       "      <td>Moody Press</td>\n",
       "      <td>Wednesday, January 1, 1969</td>\n",
       "      <td>Price Starting at $5.29</td>\n",
       "    </tr>\n",
       "    <tr>\n",
       "      <th>103080</th>\n",
       "      <td>If I'm in charge here why is everybody laughing?</td>\n",
       "      <td>By Campbell, David P.</td>\n",
       "      <td>NaN</td>\n",
       "      <td>NaN</td>\n",
       "      <td>Argus Communications</td>\n",
       "      <td>Tuesday, January 1, 1980</td>\n",
       "      <td>Price Starting at $4.99</td>\n",
       "    </tr>\n",
       "    <tr>\n",
       "      <th>103081</th>\n",
       "      <td>Your First Puppy (Your First Series)</td>\n",
       "      <td>By Carpentier, Marcel</td>\n",
       "      <td>An introduction to the proper care of puppies ...</td>\n",
       "      <td>Pets , Dogs , General</td>\n",
       "      <td>Tfh Pubns Inc</td>\n",
       "      <td>Friday, November 1, 1991</td>\n",
       "      <td>Price Starting at $4.99</td>\n",
       "    </tr>\n",
       "  </tbody>\n",
       "</table>\n",
       "<p>103082 rows × 7 columns</p>\n",
       "</div>"
      ],
      "text/plain": [
       "                                                    Title  \\\n",
       "0                                           Goat Brothers   \n",
       "1                                      The Missing Person   \n",
       "2                       Don't Eat Your Heart Out Cookbook   \n",
       "3       When Your Corporate Umbrella Begins to Leak: A...   \n",
       "4         Amy Spangler's Breastfeeding : A Parent's Guide   \n",
       "...                                                   ...   \n",
       "103077                        Build 3 Super Serving Carts   \n",
       "103078                                  My Land of Israel   \n",
       "103079                  Tongues: To Speak or Not to Speak   \n",
       "103080   If I'm in charge here why is everybody laughing?   \n",
       "103081               Your First Puppy (Your First Series)   \n",
       "\n",
       "                         Authors  \\\n",
       "0               By Colton, Larry   \n",
       "1             By Grumbach, Doris   \n",
       "2       By Piscatella, Joseph C.   \n",
       "3              By Davis, Paul D.   \n",
       "4               By Spangler, Amy   \n",
       "...                          ...   \n",
       "103077          By Chuck Hampton   \n",
       "103078    By Nover, Elizabeth Z.   \n",
       "103079      By Donald W. Burdick   \n",
       "103080     By Campbell, David P.   \n",
       "103081     By Carpentier, Marcel   \n",
       "\n",
       "                                              Description  \\\n",
       "0                                                     NaN   \n",
       "1                                                     NaN   \n",
       "2                                                     NaN   \n",
       "3                                                     NaN   \n",
       "4                                                     NaN   \n",
       "...                                                   ...   \n",
       "103077                                                NaN   \n",
       "103078                                                NaN   \n",
       "103079                                                NaN   \n",
       "103080                                                NaN   \n",
       "103081  An introduction to the proper care of puppies ...   \n",
       "\n",
       "                                                 Category  \\\n",
       "0                                       History , General   \n",
       "1                                       Fiction , General   \n",
       "2                                     Cooking , Reference   \n",
       "3                                                     NaN   \n",
       "4                                                     NaN   \n",
       "...                                                   ...   \n",
       "103077                                                NaN   \n",
       "103078   Juvenile Nonfiction , People & Places , Middl...   \n",
       "103079                                                NaN   \n",
       "103080                                                NaN   \n",
       "103081                              Pets , Dogs , General   \n",
       "\n",
       "                   Publisher                 Publish Date  \\\n",
       "0                  Doubleday      Friday, January 1, 1993   \n",
       "1           Putnam Pub Group        Sunday, March 1, 1981   \n",
       "2             Workman Pub Co  Thursday, September 1, 1983   \n",
       "3              Natl Pr Books        Monday, April 1, 1991   \n",
       "4               Amy Spangler   Saturday, February 1, 1997   \n",
       "...                      ...                          ...   \n",
       "103077        ENDesigns Inc.   Wednesday, January 1, 1992   \n",
       "103078         Behrman House          Friday, May 1, 1987   \n",
       "103079           Moody Press   Wednesday, January 1, 1969   \n",
       "103080  Argus Communications     Tuesday, January 1, 1980   \n",
       "103081         Tfh Pubns Inc     Friday, November 1, 1991   \n",
       "\n",
       "                          Price  \n",
       "0       Price Starting at $8.79  \n",
       "1       Price Starting at $4.99  \n",
       "2       Price Starting at $4.99  \n",
       "3       Price Starting at $4.99  \n",
       "4       Price Starting at $5.32  \n",
       "...                         ...  \n",
       "103077  Price Starting at $9.97  \n",
       "103078  Price Starting at $4.99  \n",
       "103079  Price Starting at $5.29  \n",
       "103080  Price Starting at $4.99  \n",
       "103081  Price Starting at $4.99  \n",
       "\n",
       "[103082 rows x 7 columns]"
      ]
     },
     "execution_count": 5,
     "metadata": {},
     "output_type": "execute_result"
    }
   ],
   "source": [
    "# Here we are printing the original data from the csv\n",
    "gb_md"
   ]
  },
  {
   "cell_type": "markdown",
   "metadata": {
    "id": "L0WdoSJ_X1kM"
   },
   "source": [
    "**Data Cleaning and Preprocessing**\n",
    "\n",
    "In this step, we will remove any noisy data with inconsistencies and missing values. Then, we will modify our data by applying tokenization techniques."
   ]
  },
  {
   "cell_type": "code",
   "execution_count": 6,
   "metadata": {
    "ExecuteTime": {
     "end_time": "2024-12-12T17:57:04.675518Z",
     "start_time": "2024-12-12T17:57:04.649834Z"
    },
    "id": "-JlhGT7HARBb"
   },
   "outputs": [],
   "source": [
    "# Dropping all observations with missing values\n",
    "gb_md = gb_md.dropna()\n",
    "\n",
    "# Now we will be dropping features that are irrelevant for us\n",
    "gb_md = gb_md.drop(columns=['Price', 'Publisher'])\n"
   ]
  },
  {
   "cell_type": "code",
   "execution_count": 7,
   "metadata": {
    "ExecuteTime": {
     "end_time": "2024-12-12T17:57:04.733288Z",
     "start_time": "2024-12-12T17:57:04.676232Z"
    },
    "id": "-qqNr5wxLZyX"
   },
   "outputs": [],
   "source": [
    "# Modifying the values in Publish Date to only keep the year\n",
    "gb_md['Publish Date'] = gb_md['Publish Date'].str.slice(-4)\n",
    "\n",
    "# Removing the value 'General' from the 'Categories' feature in order to avoid bad clusterings\n",
    "gb_md['Category'] = gb_md['Category'].str.replace('General', '', regex=False)\n",
    "gb_md['Category'] = gb_md['Category'].str.strip()\n",
    "gb_md = gb_md[gb_md['Category'] != '']\n",
    "gb_md['Category'] = gb_md['Category'].str.rstrip(',')\n",
    "\n",
    "# Removing \"By\" in the Authors Column\n",
    "gb_md['Authors'] = gb_md['Authors'].str.replace('^By ', '', regex=True)\n"
   ]
  },
  {
   "cell_type": "code",
   "execution_count": 8,
   "metadata": {
    "ExecuteTime": {
     "end_time": "2024-12-12T17:57:04.738123Z",
     "start_time": "2024-12-12T17:57:04.734136Z"
    },
    "colab": {
     "base_uri": "https://localhost:8080/",
     "height": 206
    },
    "id": "IEuXqBFGYkoM",
    "outputId": "1dc41344-c1aa-4c27-c9cf-92b0349df78f"
   },
   "outputs": [
    {
     "data": {
      "text/html": [
       "<div>\n",
       "<style scoped>\n",
       "    .dataframe tbody tr th:only-of-type {\n",
       "        vertical-align: middle;\n",
       "    }\n",
       "\n",
       "    .dataframe tbody tr th {\n",
       "        vertical-align: top;\n",
       "    }\n",
       "\n",
       "    .dataframe thead th {\n",
       "        text-align: right;\n",
       "    }\n",
       "</style>\n",
       "<table border=\"1\" class=\"dataframe\">\n",
       "  <thead>\n",
       "    <tr style=\"text-align: right;\">\n",
       "      <th></th>\n",
       "      <th>Title</th>\n",
       "      <th>Authors</th>\n",
       "      <th>Description</th>\n",
       "      <th>Category</th>\n",
       "      <th>Publish Date</th>\n",
       "    </tr>\n",
       "  </thead>\n",
       "  <tbody>\n",
       "    <tr>\n",
       "      <th>7</th>\n",
       "      <td>Journey Through Heartsongs</td>\n",
       "      <td>Stepanek, Mattie J. T.</td>\n",
       "      <td>Collects poems written by the eleven-year-old ...</td>\n",
       "      <td>Poetry</td>\n",
       "      <td>2001</td>\n",
       "    </tr>\n",
       "    <tr>\n",
       "      <th>8</th>\n",
       "      <td>In Search of Melancholy Baby</td>\n",
       "      <td>Aksyonov, Vassily, Heim, Michael Henry, and Bo...</td>\n",
       "      <td>The Russian author offers an affectionate chro...</td>\n",
       "      <td>Biography &amp; Autobiography</td>\n",
       "      <td>1987</td>\n",
       "    </tr>\n",
       "    <tr>\n",
       "      <th>10</th>\n",
       "      <td>The Dieter's Guide to Weight Loss During Sex</td>\n",
       "      <td>Smith, Richard</td>\n",
       "      <td>A humor classic, this tongue-in-cheek diet pla...</td>\n",
       "      <td>Health &amp; Fitness , Diet &amp; Nutrition , Diets</td>\n",
       "      <td>1978</td>\n",
       "    </tr>\n",
       "    <tr>\n",
       "      <th>11</th>\n",
       "      <td>Germs : Biological Weapons and America's Secre...</td>\n",
       "      <td>Miller, Judith, Engelberg, Stephen, and Broad,...</td>\n",
       "      <td>Deadly germs sprayed in shopping malls, bomb-l...</td>\n",
       "      <td>Technology &amp; Engineering , Military Science</td>\n",
       "      <td>2001</td>\n",
       "    </tr>\n",
       "    <tr>\n",
       "      <th>13</th>\n",
       "      <td>The Good Book: Reading the Bible with Mind and...</td>\n",
       "      <td>Gomes, Peter J.</td>\n",
       "      <td>\"The Bible and the social and moral consequenc...</td>\n",
       "      <td>Religion , Biblical Biography</td>\n",
       "      <td>1998</td>\n",
       "    </tr>\n",
       "  </tbody>\n",
       "</table>\n",
       "</div>"
      ],
      "text/plain": [
       "                                                Title  \\\n",
       "7                          Journey Through Heartsongs   \n",
       "8                        In Search of Melancholy Baby   \n",
       "10       The Dieter's Guide to Weight Loss During Sex   \n",
       "11  Germs : Biological Weapons and America's Secre...   \n",
       "13  The Good Book: Reading the Bible with Mind and...   \n",
       "\n",
       "                                              Authors  \\\n",
       "7                              Stepanek, Mattie J. T.   \n",
       "8   Aksyonov, Vassily, Heim, Michael Henry, and Bo...   \n",
       "10                                     Smith, Richard   \n",
       "11  Miller, Judith, Engelberg, Stephen, and Broad,...   \n",
       "13                                    Gomes, Peter J.   \n",
       "\n",
       "                                          Description  \\\n",
       "7   Collects poems written by the eleven-year-old ...   \n",
       "8   The Russian author offers an affectionate chro...   \n",
       "10  A humor classic, this tongue-in-cheek diet pla...   \n",
       "11  Deadly germs sprayed in shopping malls, bomb-l...   \n",
       "13  \"The Bible and the social and moral consequenc...   \n",
       "\n",
       "                                       Category Publish Date  \n",
       "7                                       Poetry          2001  \n",
       "8                    Biography & Autobiography          1987  \n",
       "10  Health & Fitness , Diet & Nutrition , Diets         1978  \n",
       "11  Technology & Engineering , Military Science         2001  \n",
       "13               Religion , Biblical Biography          1998  "
      ]
     },
     "execution_count": 8,
     "metadata": {},
     "output_type": "execute_result"
    }
   ],
   "source": [
    "# Demonstrating the first five observations of our \"clean\" data\n",
    "gb_md.head()"
   ]
  },
  {
   "cell_type": "code",
   "execution_count": 9,
   "metadata": {
    "ExecuteTime": {
     "end_time": "2024-12-12T17:57:04.742530Z",
     "start_time": "2024-12-12T17:57:04.738702Z"
    },
    "id": "kaz8DI-34Awm"
   },
   "outputs": [],
   "source": [
    "df = gb_md[52000:65000]"
   ]
  },
  {
   "cell_type": "code",
   "execution_count": 10,
   "metadata": {
    "ExecuteTime": {
     "end_time": "2024-12-12T17:57:04.749374Z",
     "start_time": "2024-12-12T17:57:04.743261Z"
    },
    "colab": {
     "base_uri": "https://localhost:8080/",
     "height": 206
    },
    "id": "YfSnpE5F5CKK",
    "outputId": "0baaf01b-6ec6-4b50-a8f2-d51a119993e5"
   },
   "outputs": [
    {
     "data": {
      "text/html": [
       "<div>\n",
       "<style scoped>\n",
       "    .dataframe tbody tr th:only-of-type {\n",
       "        vertical-align: middle;\n",
       "    }\n",
       "\n",
       "    .dataframe tbody tr th {\n",
       "        vertical-align: top;\n",
       "    }\n",
       "\n",
       "    .dataframe thead th {\n",
       "        text-align: right;\n",
       "    }\n",
       "</style>\n",
       "<table border=\"1\" class=\"dataframe\">\n",
       "  <thead>\n",
       "    <tr style=\"text-align: right;\">\n",
       "      <th></th>\n",
       "      <th>Title</th>\n",
       "      <th>Authors</th>\n",
       "      <th>Description</th>\n",
       "      <th>Category</th>\n",
       "      <th>Publish Date</th>\n",
       "    </tr>\n",
       "  </thead>\n",
       "  <tbody>\n",
       "    <tr>\n",
       "      <th>81173</th>\n",
       "      <td>Pillsbury: Best Muffins and Quick Breads: Favo...</td>\n",
       "      <td>Pillsbury Company</td>\n",
       "      <td>The latest addition to the best-selling cookin...</td>\n",
       "      <td>Cooking</td>\n",
       "      <td>1999</td>\n",
       "    </tr>\n",
       "    <tr>\n",
       "      <th>81175</th>\n",
       "      <td>Ross's Gap</td>\n",
       "      <td>Wisler, G. Clifton</td>\n",
       "      <td>Returning home from the Civil War to reclaim h...</td>\n",
       "      <td>Fiction , Westerns</td>\n",
       "      <td>1999</td>\n",
       "    </tr>\n",
       "    <tr>\n",
       "      <th>81176</th>\n",
       "      <td>Across the Nightingale Floor, Episode 1: The S...</td>\n",
       "      <td>Hearn, Lian</td>\n",
       "      <td>In a novel set in ancient Japan, the first vol...</td>\n",
       "      <td>Young Adult Fiction , Historical , Asia</td>\n",
       "      <td>2005</td>\n",
       "    </tr>\n",
       "    <tr>\n",
       "      <th>81178</th>\n",
       "      <td>Ideas for Great Bathrooms</td>\n",
       "      <td>Sunset Books (EDT)</td>\n",
       "      <td>Shows and describes some contemporary bathroom...</td>\n",
       "      <td>House &amp; Home , Remodeling &amp; Renovation</td>\n",
       "      <td>1999</td>\n",
       "    </tr>\n",
       "    <tr>\n",
       "      <th>81179</th>\n",
       "      <td>Stanley and the Magic Lamp</td>\n",
       "      <td>Bjorkman, Steve (ILT) and Brown, Jeff</td>\n",
       "      <td>The Lambchop family has just about recovered f...</td>\n",
       "      <td>Juvenile Fiction</td>\n",
       "      <td>1996</td>\n",
       "    </tr>\n",
       "  </tbody>\n",
       "</table>\n",
       "</div>"
      ],
      "text/plain": [
       "                                                   Title  \\\n",
       "81173  Pillsbury: Best Muffins and Quick Breads: Favo...   \n",
       "81175                                         Ross's Gap   \n",
       "81176  Across the Nightingale Floor, Episode 1: The S...   \n",
       "81178                          Ideas for Great Bathrooms   \n",
       "81179                         Stanley and the Magic Lamp   \n",
       "\n",
       "                                     Authors  \\\n",
       "81173                      Pillsbury Company   \n",
       "81175                     Wisler, G. Clifton   \n",
       "81176                            Hearn, Lian   \n",
       "81178                     Sunset Books (EDT)   \n",
       "81179  Bjorkman, Steve (ILT) and Brown, Jeff   \n",
       "\n",
       "                                             Description  \\\n",
       "81173  The latest addition to the best-selling cookin...   \n",
       "81175  Returning home from the Civil War to reclaim h...   \n",
       "81176  In a novel set in ancient Japan, the first vol...   \n",
       "81178  Shows and describes some contemporary bathroom...   \n",
       "81179  The Lambchop family has just about recovered f...   \n",
       "\n",
       "                                      Category Publish Date  \n",
       "81173                                 Cooking          1999  \n",
       "81175                       Fiction , Westerns         1999  \n",
       "81176  Young Adult Fiction , Historical , Asia         2005  \n",
       "81178   House & Home , Remodeling & Renovation         1999  \n",
       "81179                        Juvenile Fiction          1996  "
      ]
     },
     "execution_count": 10,
     "metadata": {},
     "output_type": "execute_result"
    }
   ],
   "source": [
    "df.head()"
   ]
  },
  {
   "cell_type": "code",
   "execution_count": 11,
   "metadata": {
    "ExecuteTime": {
     "end_time": "2024-12-12T17:57:05.121722Z",
     "start_time": "2024-12-12T17:57:04.750122Z"
    },
    "colab": {
     "base_uri": "https://localhost:8080/"
    },
    "id": "IZVmOUKlBIFD",
    "outputId": "5c53c912-cb2a-4b7f-c208-3e285c1f3d05"
   },
   "outputs": [],
   "source": [
    "#Combining the columns description + category which should capture semantics of genre and their summaries\n",
    "text_data = df['Title']+ ': ' + df['Description'] + \": \" + df['Category']\n",
    "\n",
    "# Initializing our tokenizer from the transformers model\n",
    "tokenizer = AutoTokenizer.from_pretrained(\"bert-base-uncased\")\n",
    "# Also initializing our pre-trained LLM --> BERT\n",
    "book_model = AutoModel.from_pretrained(\"bert-base-uncased\")"
   ]
  },
  {
   "cell_type": "code",
   "execution_count": 12,
   "metadata": {
    "ExecuteTime": {
     "end_time": "2024-12-12T17:57:05.131316Z",
     "start_time": "2024-12-12T17:57:05.122794Z"
    },
    "colab": {
     "base_uri": "https://localhost:8080/",
     "height": 321
    },
    "id": "AijQTzpUbFmo",
    "outputId": "186bf405-79e7-48d2-faea-500712e305f8"
   },
   "outputs": [
    {
     "name": "stdout",
     "output_type": "stream",
     "text": [
      "True\n"
     ]
    }
   ],
   "source": [
    "print(torch.cuda.is_available())"
   ]
  },
  {
   "cell_type": "code",
   "execution_count": 13,
   "metadata": {
    "ExecuteTime": {
     "end_time": "2024-12-12T17:58:17.395156Z",
     "start_time": "2024-12-12T17:58:17.390667Z"
    },
    "id": "u9sGFmwx8eHH"
   },
   "outputs": [],
   "source": [
    "book_model = book_model.to('cuda')\n",
    "\n",
    "def get_embeddings_for_chunk(chunk):\n",
    "    tokenized_inputs = tokenizer(\n",
    "        chunk,\n",
    "        padding=True,\n",
    "        truncation=True,\n",
    "        return_tensors=\"pt\",\n",
    "        max_length=512  # Ensure truncation for long texts\n",
    "    ).to('cuda')  # Move to GPU\n",
    "    outputs = book_model(**tokenized_inputs)\n",
    "    hidden_states = outputs.last_hidden_state  # Shape: (batch_size, seq_len, hidden_dim)\n",
    "    embeddings = hidden_states.mean(dim=1)  # Mean pooling across tokens\n",
    "    return embeddings.detach().cpu().numpy()  # Move to CPU before converting to numpy\n"
   ]
  },
  {
   "cell_type": "code",
   "execution_count": 14,
   "metadata": {
    "ExecuteTime": {
     "end_time": "2024-12-12T18:00:31.362594Z",
     "start_time": "2024-12-12T17:58:18.920824Z"
    },
    "id": "R-MtBYtb8nj0"
   },
   "outputs": [
    {
     "name": "stdout",
     "output_type": "stream",
     "text": [
      "Chunk 0 of 542\n",
      "Chunk 10 of 542\n",
      "Chunk 20 of 542\n",
      "Chunk 30 of 542\n",
      "Chunk 40 of 542\n",
      "Chunk 50 of 542\n",
      "Chunk 60 of 542\n",
      "Chunk 70 of 542\n",
      "Chunk 80 of 542\n",
      "Chunk 90 of 542\n",
      "Chunk 100 of 542\n",
      "Chunk 110 of 542\n",
      "Chunk 120 of 542\n",
      "Chunk 130 of 542\n",
      "Chunk 140 of 542\n",
      "Chunk 150 of 542\n",
      "Chunk 160 of 542\n",
      "Chunk 170 of 542\n",
      "Chunk 180 of 542\n",
      "Chunk 190 of 542\n",
      "Chunk 200 of 542\n",
      "Chunk 210 of 542\n",
      "Chunk 220 of 542\n",
      "Chunk 230 of 542\n",
      "Chunk 240 of 542\n",
      "Chunk 250 of 542\n",
      "Chunk 260 of 542\n",
      "Chunk 270 of 542\n",
      "Chunk 280 of 542\n",
      "Chunk 290 of 542\n",
      "Chunk 300 of 542\n",
      "Chunk 310 of 542\n",
      "Chunk 320 of 542\n",
      "Chunk 330 of 542\n",
      "Chunk 340 of 542\n",
      "Chunk 350 of 542\n",
      "Chunk 360 of 542\n",
      "Chunk 370 of 542\n",
      "Chunk 380 of 542\n",
      "Chunk 390 of 542\n",
      "Chunk 400 of 542\n",
      "Chunk 410 of 542\n",
      "Chunk 420 of 542\n",
      "Chunk 430 of 542\n",
      "Chunk 440 of 542\n",
      "Chunk 450 of 542\n",
      "Chunk 460 of 542\n",
      "Chunk 470 of 542\n",
      "Chunk 480 of 542\n",
      "Chunk 490 of 542\n",
      "Chunk 500 of 542\n",
      "Chunk 510 of 542\n",
      "Chunk 520 of 542\n",
      "Chunk 530 of 542\n",
      "Chunk 538 of 542\n",
      "Chunk 539 of 542\n",
      "Chunk 540 of 542\n",
      "Chunk 541 of 542\n"
     ]
    }
   ],
   "source": [
    "# Define batch size\n",
    "batch_size = 24  # Adjust based on available memory\n",
    "\n",
    "# Process dataset in chunks to avoid memory overload\n",
    "num_chunks = len(df) // batch_size + 1  # Total chunks based on batch size\n",
    "all_embeddings = []\n",
    "for i in range(num_chunks):\n",
    "    start_idx = i * batch_size\n",
    "    end_idx = min((i + 1) * batch_size, len(df))\n",
    "\n",
    "    # Retry mechanism for out-of-memory\n",
    "    while True:\n",
    "        try:\n",
    "            chunk = text_data[start_idx:end_idx].tolist()\n",
    "            embeddings_chunk = get_embeddings_for_chunk(chunk)\n",
    "            if i % 10 == 0 or num_chunks - i < 10:\n",
    "                print(f'Chunk {i} of {num_chunks}') \n",
    "            break\n",
    "        except RuntimeError as e:\n",
    "            if \"out of memory\" in str(e):\n",
    "                batch_size //= 2  # Halve the batch size\n",
    "                torch.cuda.empty_cache()  # Clear GPU memory\n",
    "            else:\n",
    "                raise e\n",
    "    all_embeddings.append(embeddings_chunk)\n",
    "    \n",
    "\n",
    "\n",
    "# Combine all chunks into a single list of embeddings\n",
    "all_embeddings = np.vstack(all_embeddings)\n"
   ]
  },
  {
   "cell_type": "code",
   "execution_count": 122,
   "metadata": {},
   "outputs": [],
   "source": [
    "# Normalize the embeddings to ensure consistent similarity scores\n",
    "normalized_embeddings = normalize(all_embeddings)\n",
    "#standardized_embeddings = StandardScaler().fit_transform(all_embeddings)\n",
    "#minMax_embeddings = MinMaxScaler().fit_transform(all_embeddings)\n",
    "\n",
    "current_embeddings = normalized_embeddings\n",
    "current_scaler = normalize\n",
    "current_name = \"normalize\""
   ]
  },
  {
   "cell_type": "code",
   "execution_count": 143,
   "metadata": {},
   "outputs": [
    {
     "data": {
      "image/png": "[encoded data removed]",
      "text/plain": [
       "<Figure size 1000x800 with 1 Axes>"
      ]
     },
     "metadata": {},
     "output_type": "display_data"
    }
   ],
   "source": [
    "#Implement UMAP\n",
    "\n",
    "def umapTest(data, name=None, neighbors=100, display=True):\n",
    "    dim_reducer = UMAP(n_neighbors=neighbors, n_components=2, random_state=42)\n",
    "\n",
    "    embed_UMAP = dim_reducer.fit_transform(data)\n",
    "    if display:\n",
    "        plt.figure(figsize=(10,8))\n",
    "        scatter = plt.scatter(embed_UMAP[:, 0], embed_UMAP[:, 1], cmap='Spectral', s=3)\n",
    "        plt.title(f'2D UMAP: {name}' if name else '2D UMAP')\n",
    "        plt.xlabel(\"UMAP Dimension 1\")\n",
    "        plt.ylabel(\"UMAP Dimension 2\")\n",
    "        plt.show()\n",
    "    return embed_UMAP\n",
    "\n",
    "embed_U = umapTest(current_embeddings, current_name)"
   ]
  },
  {
   "cell_type": "code",
   "execution_count": 124,
   "metadata": {
    "id": "KO-SLndt_LnJ"
   },
   "outputs": [],
   "source": [
    "\n",
    "# Get the user's favorite book and genre\n",
    "#fav_book = input('Enter your favorite book name: ')  # Example: \"Rage of Angels\"\n",
    "#fav_genre = input('What is your favorite genre: ')  # Example: \"Thriller\"\n",
    "\n",
    "\n",
    "def user_input(book, genre):\n",
    "    # Combine the favorite book and genre to form a user input\n",
    "    usr_input = book + \": \" + genre\n",
    "\n",
    "\n",
    "    # Tokenize user input and generate embedding\n",
    "    tokenized_input = tokenizer(\n",
    "        usr_input,\n",
    "        padding=True,\n",
    "        truncation=True,\n",
    "        return_tensors=\"pt\"\n",
    "    ).to('cuda')\n",
    "    return tokenized_input\n",
    "\n",
    "#user_tokens = user_input(fav_book, fav_genre)"
   ]
  },
  {
   "cell_type": "code",
   "execution_count": null,
   "metadata": {
    "id": "6Mvqo7D8FvBA"
   },
   "outputs": [],
   "source": [
    "def get_answer(tokens):\n",
    "    user_embedding = book_model(**tokens)\n",
    "    hidden_states = user_embedding.last_hidden_state  # Shape: (batch_size, seq_len, hidden_dim)\n",
    "    usr_embeddings = hidden_states.mean(dim=1)  # Mean pooling across tokens\n",
    "    ue = usr_embeddings.detach().cpu().numpy()\n",
    "    norm_ue = np.vstack(ue)\n",
    "\n",
    "    norm_ue = normalize(norm_ue)\n",
    "\n",
    "    # Calculate cosine similarity between the user's input embedding and all book embeddings\n",
    "    similarity_scores = cosine_similarity(norm_ue, current_embeddings).flatten()\n",
    "\n",
    "    # Get the top 5 most similar books\n",
    "    # top_indices = similarity_scores.argsort()[-5:][::-1]  # Indices of the top 5 books\n",
    "    df[\"Similarity\"] = similarity_scores.T\n",
    "    "
   ]
  },
  {
   "cell_type": "code",
   "execution_count": 128,
   "metadata": {},
   "outputs": [],
   "source": [
    "def llm_routine():\n",
    "    book = input('Enter your favorite book name: ')  # Example: \"Rage of Angels\"\n",
    "    genre = input('What is your favorite genre: ')  # Example: \"Thriller\"\n",
    "    print(f'Book: {book}, Genre: {genre}')\n",
    "    get_answer(user_input(book, genre))\n",
    "    print('Recommended')\n",
    "    recommended_books = df.sort_values(by=\"Similarity\", ascending=False).head(5)\n",
    "    display(recommended_books[[\"Title\", \"Category\", \"Similarity\"]])\n",
    "    print('Not Good')\n",
    "    not_good_books = df.sort_values(by=\"Similarity\", ascending=False).tail(5)\n",
    "    display(not_good_books[[\"Title\", \"Category\", \"Similarity\"]])"
   ]
  },
  {
   "cell_type": "code",
   "execution_count": 144,
   "metadata": {},
   "outputs": [
    {
     "name": "stdout",
     "output_type": "stream",
     "text": [
      "Try 1\n",
      "Book: FireFighter Actions, Genre: Nonfiction\n"
     ]
    },
    {
     "data": {
      "text/plain": [
       "array([0.6197225 , 0.6090456 , 0.5841074 , ..., 0.5153506 , 0.617789  ,\n",
       "       0.58980685], dtype=float32)"
      ]
     },
     "metadata": {},
     "output_type": "display_data"
    },
    {
     "name": "stdout",
     "output_type": "stream",
     "text": [
      "Recommended\n"
     ]
    },
    {
     "data": {
      "text/html": [
       "<div>\n",
       "<style scoped>\n",
       "    .dataframe tbody tr th:only-of-type {\n",
       "        vertical-align: middle;\n",
       "    }\n",
       "\n",
       "    .dataframe tbody tr th {\n",
       "        vertical-align: top;\n",
       "    }\n",
       "\n",
       "    .dataframe thead th {\n",
       "        text-align: right;\n",
       "    }\n",
       "</style>\n",
       "<table border=\"1\" class=\"dataframe\">\n",
       "  <thead>\n",
       "    <tr style=\"text-align: right;\">\n",
       "      <th></th>\n",
       "      <th>Title</th>\n",
       "      <th>Category</th>\n",
       "      <th>Similarity</th>\n",
       "    </tr>\n",
       "  </thead>\n",
       "  <tbody>\n",
       "    <tr>\n",
       "      <th>89574</th>\n",
       "      <td>Medal of Honor: Portraits of Valor Beyond the ...</td>\n",
       "      <td>Biography &amp; Autobiography , Military</td>\n",
       "      <td>0.703173</td>\n",
       "    </tr>\n",
       "    <tr>\n",
       "      <th>99917</th>\n",
       "      <td>If I Had a Hammer: Building Homes and Hope wit...</td>\n",
       "      <td>Juvenile Nonfiction , House &amp; Home</td>\n",
       "      <td>0.699907</td>\n",
       "    </tr>\n",
       "    <tr>\n",
       "      <th>86542</th>\n",
       "      <td>Medal of Honor: Portraits of Valor Beyond the ...</td>\n",
       "      <td>History , Military , Veterans</td>\n",
       "      <td>0.697188</td>\n",
       "    </tr>\n",
       "    <tr>\n",
       "      <th>98367</th>\n",
       "      <td>How To Reach And Teach Children with ADD / ADH...</td>\n",
       "      <td>Education , Special Education</td>\n",
       "      <td>0.695152</td>\n",
       "    </tr>\n",
       "    <tr>\n",
       "      <th>85377</th>\n",
       "      <td>Obama: A Promise of Change</td>\n",
       "      <td>Young Adult Nonfiction , People &amp; Places</td>\n",
       "      <td>0.691887</td>\n",
       "    </tr>\n",
       "  </tbody>\n",
       "</table>\n",
       "</div>"
      ],
      "text/plain": [
       "                                                   Title  \\\n",
       "89574  Medal of Honor: Portraits of Valor Beyond the ...   \n",
       "99917  If I Had a Hammer: Building Homes and Hope wit...   \n",
       "86542  Medal of Honor: Portraits of Valor Beyond the ...   \n",
       "98367  How To Reach And Teach Children with ADD / ADH...   \n",
       "85377                         Obama: A Promise of Change   \n",
       "\n",
       "                                        Category  Similarity  \n",
       "89574       Biography & Autobiography , Military    0.703173  \n",
       "99917         Juvenile Nonfiction , House & Home    0.699907  \n",
       "86542              History , Military , Veterans    0.697188  \n",
       "98367             Education , Special Education     0.695152  \n",
       "85377  Young Adult Nonfiction , People & Places     0.691887  "
      ]
     },
     "metadata": {},
     "output_type": "display_data"
    },
    {
     "name": "stdout",
     "output_type": "stream",
     "text": [
      "Not Good\n"
     ]
    },
    {
     "data": {
      "text/html": [
       "<div>\n",
       "<style scoped>\n",
       "    .dataframe tbody tr th:only-of-type {\n",
       "        vertical-align: middle;\n",
       "    }\n",
       "\n",
       "    .dataframe tbody tr th {\n",
       "        vertical-align: top;\n",
       "    }\n",
       "\n",
       "    .dataframe thead th {\n",
       "        text-align: right;\n",
       "    }\n",
       "</style>\n",
       "<table border=\"1\" class=\"dataframe\">\n",
       "  <thead>\n",
       "    <tr style=\"text-align: right;\">\n",
       "      <th></th>\n",
       "      <th>Title</th>\n",
       "      <th>Category</th>\n",
       "      <th>Similarity</th>\n",
       "    </tr>\n",
       "  </thead>\n",
       "  <tbody>\n",
       "    <tr>\n",
       "      <th>83167</th>\n",
       "      <td>Wuthering Heights (Barnes &amp; Noble Classics)</td>\n",
       "      <td>Fiction , Classics</td>\n",
       "      <td>0.443254</td>\n",
       "    </tr>\n",
       "    <tr>\n",
       "      <th>93454</th>\n",
       "      <td>Pest Control</td>\n",
       "      <td>Fiction , Romance , Contemporary</td>\n",
       "      <td>0.430995</td>\n",
       "    </tr>\n",
       "    <tr>\n",
       "      <th>92417</th>\n",
       "      <td>Las Huellas Secretas (Spanish Edition)</td>\n",
       "      <td>Juvenile Fiction , People &amp; Places , United St...</td>\n",
       "      <td>0.421189</td>\n",
       "    </tr>\n",
       "    <tr>\n",
       "      <th>99057</th>\n",
       "      <td>Tan veloz como el deseo: Una Novela (Spanish E...</td>\n",
       "      <td>Fiction , Literary</td>\n",
       "      <td>0.418434</td>\n",
       "    </tr>\n",
       "    <tr>\n",
       "      <th>97690</th>\n",
       "      <td>I Am a Firefighter (I Am A...(Barrons Educatio...</td>\n",
       "      <td>Juvenile Nonfiction , Careers</td>\n",
       "      <td>0.316631</td>\n",
       "    </tr>\n",
       "  </tbody>\n",
       "</table>\n",
       "</div>"
      ],
      "text/plain": [
       "                                                   Title  \\\n",
       "83167        Wuthering Heights (Barnes & Noble Classics)   \n",
       "93454                                       Pest Control   \n",
       "92417             Las Huellas Secretas (Spanish Edition)   \n",
       "99057  Tan veloz como el deseo: Una Novela (Spanish E...   \n",
       "97690  I Am a Firefighter (I Am A...(Barrons Educatio...   \n",
       "\n",
       "                                                Category  Similarity  \n",
       "83167                                 Fiction , Classics    0.443254  \n",
       "93454                   Fiction , Romance , Contemporary    0.430995  \n",
       "92417  Juvenile Fiction , People & Places , United St...    0.421189  \n",
       "99057                                 Fiction , Literary    0.418434  \n",
       "97690                      Juvenile Nonfiction , Careers    0.316631  "
      ]
     },
     "metadata": {},
     "output_type": "display_data"
    },
    {
     "name": "stdout",
     "output_type": "stream",
     "text": [
      "Try 2\n",
      "Book: World War II Actions, Genre: History\n"
     ]
    },
    {
     "data": {
      "text/plain": [
       "array([0.29764086, 0.35033628, 0.33176523, ..., 0.33875394, 0.32537758,\n",
       "       0.3179251 ], dtype=float32)"
      ]
     },
     "metadata": {},
     "output_type": "display_data"
    },
    {
     "name": "stdout",
     "output_type": "stream",
     "text": [
      "Recommended\n"
     ]
    },
    {
     "data": {
      "text/html": [
       "<div>\n",
       "<style scoped>\n",
       "    .dataframe tbody tr th:only-of-type {\n",
       "        vertical-align: middle;\n",
       "    }\n",
       "\n",
       "    .dataframe tbody tr th {\n",
       "        vertical-align: top;\n",
       "    }\n",
       "\n",
       "    .dataframe thead th {\n",
       "        text-align: right;\n",
       "    }\n",
       "</style>\n",
       "<table border=\"1\" class=\"dataframe\">\n",
       "  <thead>\n",
       "    <tr style=\"text-align: right;\">\n",
       "      <th></th>\n",
       "      <th>Title</th>\n",
       "      <th>Category</th>\n",
       "      <th>Similarity</th>\n",
       "    </tr>\n",
       "  </thead>\n",
       "  <tbody>\n",
       "    <tr>\n",
       "      <th>96750</th>\n",
       "      <td>The Civil War Day By Day</td>\n",
       "      <td>History , United States , Civil War Period (18...</td>\n",
       "      <td>0.513695</td>\n",
       "    </tr>\n",
       "    <tr>\n",
       "      <th>98429</th>\n",
       "      <td>Heroes: U.S. Marine Corps Medal of Honor Winners</td>\n",
       "      <td>History , Military</td>\n",
       "      <td>0.500336</td>\n",
       "    </tr>\n",
       "    <tr>\n",
       "      <th>89271</th>\n",
       "      <td>The Civil War Book Of Lists: Over 300 Lists Fr...</td>\n",
       "      <td>History , United States , Civil War Period (18...</td>\n",
       "      <td>0.497114</td>\n",
       "    </tr>\n",
       "    <tr>\n",
       "      <th>92603</th>\n",
       "      <td>Churchill's Secret Agent: A Novel Based on a T...</td>\n",
       "      <td>Fiction , War &amp; Military</td>\n",
       "      <td>0.494612</td>\n",
       "    </tr>\n",
       "    <tr>\n",
       "      <th>100115</th>\n",
       "      <td>World War II</td>\n",
       "      <td>History , Military , World War II</td>\n",
       "      <td>0.491651</td>\n",
       "    </tr>\n",
       "  </tbody>\n",
       "</table>\n",
       "</div>"
      ],
      "text/plain": [
       "                                                    Title  \\\n",
       "96750                            The Civil War Day By Day   \n",
       "98429    Heroes: U.S. Marine Corps Medal of Honor Winners   \n",
       "89271   The Civil War Book Of Lists: Over 300 Lists Fr...   \n",
       "92603   Churchill's Secret Agent: A Novel Based on a T...   \n",
       "100115                                       World War II   \n",
       "\n",
       "                                                 Category  Similarity  \n",
       "96750   History , United States , Civil War Period (18...    0.513695  \n",
       "98429                                 History , Military     0.500336  \n",
       "89271   History , United States , Civil War Period (18...    0.497114  \n",
       "92603                            Fiction , War & Military    0.494612  \n",
       "100115                  History , Military , World War II    0.491651  "
      ]
     },
     "metadata": {},
     "output_type": "display_data"
    },
    {
     "name": "stdout",
     "output_type": "stream",
     "text": [
      "Not Good\n"
     ]
    },
    {
     "data": {
      "text/html": [
       "<div>\n",
       "<style scoped>\n",
       "    .dataframe tbody tr th:only-of-type {\n",
       "        vertical-align: middle;\n",
       "    }\n",
       "\n",
       "    .dataframe tbody tr th {\n",
       "        vertical-align: top;\n",
       "    }\n",
       "\n",
       "    .dataframe thead th {\n",
       "        text-align: right;\n",
       "    }\n",
       "</style>\n",
       "<table border=\"1\" class=\"dataframe\">\n",
       "  <thead>\n",
       "    <tr style=\"text-align: right;\">\n",
       "      <th></th>\n",
       "      <th>Title</th>\n",
       "      <th>Category</th>\n",
       "      <th>Similarity</th>\n",
       "    </tr>\n",
       "  </thead>\n",
       "  <tbody>\n",
       "    <tr>\n",
       "      <th>88774</th>\n",
       "      <td>YOGA FOR COMMON AILMENTS</td>\n",
       "      <td>Health &amp; Fitness , Yoga</td>\n",
       "      <td>0.247879</td>\n",
       "    </tr>\n",
       "    <tr>\n",
       "      <th>88069</th>\n",
       "      <td>Mister Pasta's Healthy Pasta Cookbook: More Th...</td>\n",
       "      <td>Cooking , Specific Ingredients , Pasta</td>\n",
       "      <td>0.246492</td>\n",
       "    </tr>\n",
       "    <tr>\n",
       "      <th>90308</th>\n",
       "      <td>Smoothies and Other Blended Drinks (Ryland, Pe...</td>\n",
       "      <td>Cooking , Beverages , Juices &amp; Smoothies</td>\n",
       "      <td>0.245092</td>\n",
       "    </tr>\n",
       "    <tr>\n",
       "      <th>92797</th>\n",
       "      <td>Fabulous No Guilt Desserts (Prevention Magazin...</td>\n",
       "      <td>Cooking , Courses &amp; Dishes , Desserts</td>\n",
       "      <td>0.241548</td>\n",
       "    </tr>\n",
       "    <tr>\n",
       "      <th>97690</th>\n",
       "      <td>I Am a Firefighter (I Am A...(Barrons Educatio...</td>\n",
       "      <td>Juvenile Nonfiction , Careers</td>\n",
       "      <td>0.208719</td>\n",
       "    </tr>\n",
       "  </tbody>\n",
       "</table>\n",
       "</div>"
      ],
      "text/plain": [
       "                                                   Title  \\\n",
       "88774                           YOGA FOR COMMON AILMENTS   \n",
       "88069  Mister Pasta's Healthy Pasta Cookbook: More Th...   \n",
       "90308  Smoothies and Other Blended Drinks (Ryland, Pe...   \n",
       "92797  Fabulous No Guilt Desserts (Prevention Magazin...   \n",
       "97690  I Am a Firefighter (I Am A...(Barrons Educatio...   \n",
       "\n",
       "                                       Category  Similarity  \n",
       "88774                   Health & Fitness , Yoga    0.247879  \n",
       "88069    Cooking , Specific Ingredients , Pasta    0.246492  \n",
       "90308  Cooking , Beverages , Juices & Smoothies    0.245092  \n",
       "92797     Cooking , Courses & Dishes , Desserts    0.241548  \n",
       "97690             Juvenile Nonfiction , Careers    0.208719  "
      ]
     },
     "metadata": {},
     "output_type": "display_data"
    },
    {
     "name": "stdout",
     "output_type": "stream",
     "text": [
      "Try 3\n",
      "Book: Disney Cooking, Genre: Cooking\n"
     ]
    },
    {
     "data": {
      "text/plain": [
       "array([0.611001  , 0.48835996, 0.47554952, ..., 0.42696142, 0.57717437,\n",
       "       0.513161  ], dtype=float32)"
      ]
     },
     "metadata": {},
     "output_type": "display_data"
    },
    {
     "name": "stdout",
     "output_type": "stream",
     "text": [
      "Recommended\n"
     ]
    },
    {
     "data": {
      "text/html": [
       "<div>\n",
       "<style scoped>\n",
       "    .dataframe tbody tr th:only-of-type {\n",
       "        vertical-align: middle;\n",
       "    }\n",
       "\n",
       "    .dataframe tbody tr th {\n",
       "        vertical-align: top;\n",
       "    }\n",
       "\n",
       "    .dataframe thead th {\n",
       "        text-align: right;\n",
       "    }\n",
       "</style>\n",
       "<table border=\"1\" class=\"dataframe\">\n",
       "  <thead>\n",
       "    <tr style=\"text-align: right;\">\n",
       "      <th></th>\n",
       "      <th>Title</th>\n",
       "      <th>Category</th>\n",
       "      <th>Similarity</th>\n",
       "    </tr>\n",
       "  </thead>\n",
       "  <tbody>\n",
       "    <tr>\n",
       "      <th>87639</th>\n",
       "      <td>Top Chef: The Quickfire Cookbook</td>\n",
       "      <td>Cooking , Courses &amp; Dishes</td>\n",
       "      <td>0.652363</td>\n",
       "    </tr>\n",
       "    <tr>\n",
       "      <th>95803</th>\n",
       "      <td>Country Cakes: A Homestyle Treasury</td>\n",
       "      <td>Cooking</td>\n",
       "      <td>0.641261</td>\n",
       "    </tr>\n",
       "    <tr>\n",
       "      <th>98019</th>\n",
       "      <td>Quick Short Recipe Cookbook</td>\n",
       "      <td>Cooking</td>\n",
       "      <td>0.634397</td>\n",
       "    </tr>\n",
       "    <tr>\n",
       "      <th>87548</th>\n",
       "      <td>Food &amp; Wine Best of the Best Cookbook Recipes</td>\n",
       "      <td>Cooking</td>\n",
       "      <td>0.633516</td>\n",
       "    </tr>\n",
       "    <tr>\n",
       "      <th>84927</th>\n",
       "      <td>Cookie Sensations: Creative Designs for Every ...</td>\n",
       "      <td>Cooking , Courses &amp; Dishes , Cookies</td>\n",
       "      <td>0.631863</td>\n",
       "    </tr>\n",
       "  </tbody>\n",
       "</table>\n",
       "</div>"
      ],
      "text/plain": [
       "                                                   Title  \\\n",
       "87639                   Top Chef: The Quickfire Cookbook   \n",
       "95803                Country Cakes: A Homestyle Treasury   \n",
       "98019                        Quick Short Recipe Cookbook   \n",
       "87548      Food & Wine Best of the Best Cookbook Recipes   \n",
       "84927  Cookie Sensations: Creative Designs for Every ...   \n",
       "\n",
       "                                   Category  Similarity  \n",
       "87639           Cooking , Courses & Dishes     0.652363  \n",
       "95803                              Cooking     0.641261  \n",
       "98019                              Cooking     0.634397  \n",
       "87548                              Cooking     0.633516  \n",
       "84927  Cooking , Courses & Dishes , Cookies    0.631863  "
      ]
     },
     "metadata": {},
     "output_type": "display_data"
    },
    {
     "name": "stdout",
     "output_type": "stream",
     "text": [
      "Not Good\n"
     ]
    },
    {
     "data": {
      "text/html": [
       "<div>\n",
       "<style scoped>\n",
       "    .dataframe tbody tr th:only-of-type {\n",
       "        vertical-align: middle;\n",
       "    }\n",
       "\n",
       "    .dataframe tbody tr th {\n",
       "        vertical-align: top;\n",
       "    }\n",
       "\n",
       "    .dataframe thead th {\n",
       "        text-align: right;\n",
       "    }\n",
       "</style>\n",
       "<table border=\"1\" class=\"dataframe\">\n",
       "  <thead>\n",
       "    <tr style=\"text-align: right;\">\n",
       "      <th></th>\n",
       "      <th>Title</th>\n",
       "      <th>Category</th>\n",
       "      <th>Similarity</th>\n",
       "    </tr>\n",
       "  </thead>\n",
       "  <tbody>\n",
       "    <tr>\n",
       "      <th>83167</th>\n",
       "      <td>Wuthering Heights (Barnes &amp; Noble Classics)</td>\n",
       "      <td>Fiction , Classics</td>\n",
       "      <td>0.299098</td>\n",
       "    </tr>\n",
       "    <tr>\n",
       "      <th>92417</th>\n",
       "      <td>Las Huellas Secretas (Spanish Edition)</td>\n",
       "      <td>Juvenile Fiction , People &amp; Places , United St...</td>\n",
       "      <td>0.292105</td>\n",
       "    </tr>\n",
       "    <tr>\n",
       "      <th>93454</th>\n",
       "      <td>Pest Control</td>\n",
       "      <td>Fiction , Romance , Contemporary</td>\n",
       "      <td>0.289128</td>\n",
       "    </tr>\n",
       "    <tr>\n",
       "      <th>99057</th>\n",
       "      <td>Tan veloz como el deseo: Una Novela (Spanish E...</td>\n",
       "      <td>Fiction , Literary</td>\n",
       "      <td>0.286496</td>\n",
       "    </tr>\n",
       "    <tr>\n",
       "      <th>97690</th>\n",
       "      <td>I Am a Firefighter (I Am A...(Barrons Educatio...</td>\n",
       "      <td>Juvenile Nonfiction , Careers</td>\n",
       "      <td>0.274655</td>\n",
       "    </tr>\n",
       "  </tbody>\n",
       "</table>\n",
       "</div>"
      ],
      "text/plain": [
       "                                                   Title  \\\n",
       "83167        Wuthering Heights (Barnes & Noble Classics)   \n",
       "92417             Las Huellas Secretas (Spanish Edition)   \n",
       "93454                                       Pest Control   \n",
       "99057  Tan veloz como el deseo: Una Novela (Spanish E...   \n",
       "97690  I Am a Firefighter (I Am A...(Barrons Educatio...   \n",
       "\n",
       "                                                Category  Similarity  \n",
       "83167                                 Fiction , Classics    0.299098  \n",
       "92417  Juvenile Fiction , People & Places , United St...    0.292105  \n",
       "93454                   Fiction , Romance , Contemporary    0.289128  \n",
       "99057                                 Fiction , Literary    0.286496  \n",
       "97690                      Juvenile Nonfiction , Careers    0.274655  "
      ]
     },
     "metadata": {},
     "output_type": "display_data"
    }
   ],
   "source": [
    "for i in range(1,4):\n",
    "    print(f'Try {i}')\n",
    "    llm_routine()"
   ]
  }
 ],
 "metadata": {
  "accelerator": "GPU",
  "colab": {
   "gpuType": "T4",
   "provenance": []
  },
  "kernelspec": {
   "display_name": "ml_rapids",
   "language": "python",
   "name": "python3"
  },
  "language_info": {
   "codemirror_mode": {
    "name": "ipython",
    "version": 3
   },
   "file_extension": ".py",
   "mimetype": "text/x-python",
   "name": "python",
   "nbconvert_exporter": "python",
   "pygments_lexer": "ipython3",
   "version": "3.11.10"
  }
 },
 "nbformat": 4,
 "nbformat_minor": 0
}
