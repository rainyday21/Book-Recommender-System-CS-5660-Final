{
 "cells": [
  {
   "cell_type": "markdown",
   "metadata": {
    "id": "aC5k8X9HNeTU"
   },
   "source": [
    "### Part 1. Data Acquisition & Preprocessing\n",
    "#### Staring with incorperating the dataset"
   ]
  },
  {
   "cell_type": "code",
   "execution_count": 1,
   "metadata": {
    "ExecuteTime": {
     "end_time": "2024-12-12T21:13:34.923049Z",
     "start_time": "2024-12-12T21:13:34.361448Z"
    },
    "id": "8TCo0zYqSNQX"
   },
   "outputs": [
    {
     "name": "stdout",
     "output_type": "stream",
     "text": [
      "Note: you may need to restart the kernel to use updated packages.\n"
     ]
    }
   ],
   "source": [
    "%pip install kaggle -q"
   ]
  },
  {
   "cell_type": "code",
   "execution_count": 2,
   "metadata": {
    "ExecuteTime": {
     "end_time": "2024-12-12T21:13:39.621315Z",
     "start_time": "2024-12-12T21:13:34.925944Z"
    },
    "id": "Gr5Hh53PNeTV"
   },
   "outputs": [],
   "source": [
    "# Importing all neccessary frameworks\n",
    "\n",
    "import numpy as np\n",
    "import torch\n",
    "\n",
    "\n",
    "from transformers import AutoTokenizer, AutoModel\n",
    "from sentence_transformers import SentenceTransformer\n",
    "from sklearn.preprocessing import normalize, scale, MinMaxScaler\n",
    "from sklearn.metrics.pairwise import cosine_similarity\n",
    "\n",
    "#%load_ext cudf.pandas\n",
    "import pandas as pd\n",
    "from cuml.manifold import UMAP\n",
    "from cuml.cluster import hdbscan\n",
    "import matplotlib.pyplot as plt\n",
    "from sklearn import metrics\n",
    "from sklearn.pipeline import Pipeline\n",
    "from sklearn.model_selection import GridSearchCV, KFold\n",
    "\n",
    "import warnings\n",
    "warnings.filterwarnings('ignore')"
   ]
  },
  {
   "cell_type": "code",
   "execution_count": 3,
   "metadata": {
    "ExecuteTime": {
     "end_time": "2024-12-12T21:13:39.628821Z",
     "start_time": "2024-12-12T21:13:39.622182Z"
    },
    "colab": {
     "base_uri": "https://localhost:8080/"
    },
    "id": "IHqYlswtSkRD",
    "outputId": "8c280807-4344-4ad0-840f-179e66f768c3",
    "vscode": {
     "languageId": "shellscript"
    }
   },
   "outputs": [],
   "source": [
    "%%bash\n",
    "# Downloading the dataset from Kaggle\n",
    "\n",
    "export KAGGLE_USERNAME=orranereid\n",
    "export KAGGLE_KEY=395c5483c47968f4a9e8ea5ac326f64f\n",
    "\n",
    "#kaggle datasets download -d elvinrustam/books-dataset --unzip --force"
   ]
  },
  {
   "cell_type": "markdown",
   "metadata": {
    "id": "htI-9grn2TVS"
   },
   "source": [
    "# Preproccessing Data Steps."
   ]
  },
  {
   "cell_type": "markdown",
   "metadata": {
    "id": "MRRvhD98XgCU"
   },
   "source": [
    "**Data Sources**\n",
    "\n",
    "From Kaggle, we were able to use a Book Dataset with over 100,000 observations. It includes multiple features such as authors, genres, titles, & date of publication."
   ]
  },
  {
   "cell_type": "code",
   "execution_count": 4,
   "metadata": {
    "ExecuteTime": {
     "end_time": "2024-12-12T21:13:39.997783Z",
     "start_time": "2024-12-12T21:13:39.629421Z"
    },
    "id": "Gr4Wtm00NeTV"
   },
   "outputs": [],
   "source": [
    "# Extracting the info from the CSV fiel\n",
    "gb_md = pd.read_csv('BooksDataset.csv')"
   ]
  },
  {
   "cell_type": "code",
   "execution_count": 5,
   "metadata": {
    "ExecuteTime": {
     "end_time": "2024-12-12T21:13:40.005179Z",
     "start_time": "2024-12-12T21:13:39.998858Z"
    },
    "colab": {
     "base_uri": "https://localhost:8080/",
     "height": 423
    },
    "id": "U7XpQ-wONeTW",
    "outputId": "f4ef5821-a58b-433a-bac5-57398558c187"
   },
   "outputs": [
    {
     "data": {
      "text/html": [
       "<div>\n",
       "<style scoped>\n",
       "    .dataframe tbody tr th:only-of-type {\n",
       "        vertical-align: middle;\n",
       "    }\n",
       "\n",
       "    .dataframe tbody tr th {\n",
       "        vertical-align: top;\n",
       "    }\n",
       "\n",
       "    .dataframe thead th {\n",
       "        text-align: right;\n",
       "    }\n",
       "</style>\n",
       "<table border=\"1\" class=\"dataframe\">\n",
       "  <thead>\n",
       "    <tr style=\"text-align: right;\">\n",
       "      <th></th>\n",
       "      <th>Title</th>\n",
       "      <th>Authors</th>\n",
       "      <th>Description</th>\n",
       "      <th>Category</th>\n",
       "      <th>Publisher</th>\n",
       "      <th>Publish Date</th>\n",
       "      <th>Price</th>\n",
       "    </tr>\n",
       "  </thead>\n",
       "  <tbody>\n",
       "    <tr>\n",
       "      <th>0</th>\n",
       "      <td>Goat Brothers</td>\n",
       "      <td>By Colton, Larry</td>\n",
       "      <td>NaN</td>\n",
       "      <td>History , General</td>\n",
       "      <td>Doubleday</td>\n",
       "      <td>Friday, January 1, 1993</td>\n",
       "      <td>Price Starting at $8.79</td>\n",
       "    </tr>\n",
       "    <tr>\n",
       "      <th>1</th>\n",
       "      <td>The Missing Person</td>\n",
       "      <td>By Grumbach, Doris</td>\n",
       "      <td>NaN</td>\n",
       "      <td>Fiction , General</td>\n",
       "      <td>Putnam Pub Group</td>\n",
       "      <td>Sunday, March 1, 1981</td>\n",
       "      <td>Price Starting at $4.99</td>\n",
       "    </tr>\n",
       "    <tr>\n",
       "      <th>2</th>\n",
       "      <td>Don't Eat Your Heart Out Cookbook</td>\n",
       "      <td>By Piscatella, Joseph C.</td>\n",
       "      <td>NaN</td>\n",
       "      <td>Cooking , Reference</td>\n",
       "      <td>Workman Pub Co</td>\n",
       "      <td>Thursday, September 1, 1983</td>\n",
       "      <td>Price Starting at $4.99</td>\n",
       "    </tr>\n",
       "    <tr>\n",
       "      <th>3</th>\n",
       "      <td>When Your Corporate Umbrella Begins to Leak: A...</td>\n",
       "      <td>By Davis, Paul D.</td>\n",
       "      <td>NaN</td>\n",
       "      <td>NaN</td>\n",
       "      <td>Natl Pr Books</td>\n",
       "      <td>Monday, April 1, 1991</td>\n",
       "      <td>Price Starting at $4.99</td>\n",
       "    </tr>\n",
       "    <tr>\n",
       "      <th>4</th>\n",
       "      <td>Amy Spangler's Breastfeeding : A Parent's Guide</td>\n",
       "      <td>By Spangler, Amy</td>\n",
       "      <td>NaN</td>\n",
       "      <td>NaN</td>\n",
       "      <td>Amy Spangler</td>\n",
       "      <td>Saturday, February 1, 1997</td>\n",
       "      <td>Price Starting at $5.32</td>\n",
       "    </tr>\n",
       "    <tr>\n",
       "      <th>...</th>\n",
       "      <td>...</td>\n",
       "      <td>...</td>\n",
       "      <td>...</td>\n",
       "      <td>...</td>\n",
       "      <td>...</td>\n",
       "      <td>...</td>\n",
       "      <td>...</td>\n",
       "    </tr>\n",
       "    <tr>\n",
       "      <th>103077</th>\n",
       "      <td>Build 3 Super Serving Carts</td>\n",
       "      <td>By Chuck Hampton</td>\n",
       "      <td>NaN</td>\n",
       "      <td>NaN</td>\n",
       "      <td>ENDesigns Inc.</td>\n",
       "      <td>Wednesday, January 1, 1992</td>\n",
       "      <td>Price Starting at $9.97</td>\n",
       "    </tr>\n",
       "    <tr>\n",
       "      <th>103078</th>\n",
       "      <td>My Land of Israel</td>\n",
       "      <td>By Nover, Elizabeth Z.</td>\n",
       "      <td>NaN</td>\n",
       "      <td>Juvenile Nonfiction , People &amp; Places , Middl...</td>\n",
       "      <td>Behrman House</td>\n",
       "      <td>Friday, May 1, 1987</td>\n",
       "      <td>Price Starting at $4.99</td>\n",
       "    </tr>\n",
       "    <tr>\n",
       "      <th>103079</th>\n",
       "      <td>Tongues: To Speak or Not to Speak</td>\n",
       "      <td>By Donald W. Burdick</td>\n",
       "      <td>NaN</td>\n",
       "      <td>NaN</td>\n",
       "      <td>Moody Press</td>\n",
       "      <td>Wednesday, January 1, 1969</td>\n",
       "      <td>Price Starting at $5.29</td>\n",
       "    </tr>\n",
       "    <tr>\n",
       "      <th>103080</th>\n",
       "      <td>If I'm in charge here why is everybody laughing?</td>\n",
       "      <td>By Campbell, David P.</td>\n",
       "      <td>NaN</td>\n",
       "      <td>NaN</td>\n",
       "      <td>Argus Communications</td>\n",
       "      <td>Tuesday, January 1, 1980</td>\n",
       "      <td>Price Starting at $4.99</td>\n",
       "    </tr>\n",
       "    <tr>\n",
       "      <th>103081</th>\n",
       "      <td>Your First Puppy (Your First Series)</td>\n",
       "      <td>By Carpentier, Marcel</td>\n",
       "      <td>An introduction to the proper care of puppies ...</td>\n",
       "      <td>Pets , Dogs , General</td>\n",
       "      <td>Tfh Pubns Inc</td>\n",
       "      <td>Friday, November 1, 1991</td>\n",
       "      <td>Price Starting at $4.99</td>\n",
       "    </tr>\n",
       "  </tbody>\n",
       "</table>\n",
       "<p>103082 rows × 7 columns</p>\n",
       "</div>"
      ],
      "text/plain": [
       "                                                    Title  \\\n",
       "0                                           Goat Brothers   \n",
       "1                                      The Missing Person   \n",
       "2                       Don't Eat Your Heart Out Cookbook   \n",
       "3       When Your Corporate Umbrella Begins to Leak: A...   \n",
       "4         Amy Spangler's Breastfeeding : A Parent's Guide   \n",
       "...                                                   ...   \n",
       "103077                        Build 3 Super Serving Carts   \n",
       "103078                                  My Land of Israel   \n",
       "103079                  Tongues: To Speak or Not to Speak   \n",
       "103080   If I'm in charge here why is everybody laughing?   \n",
       "103081               Your First Puppy (Your First Series)   \n",
       "\n",
       "                         Authors  \\\n",
       "0               By Colton, Larry   \n",
       "1             By Grumbach, Doris   \n",
       "2       By Piscatella, Joseph C.   \n",
       "3              By Davis, Paul D.   \n",
       "4               By Spangler, Amy   \n",
       "...                          ...   \n",
       "103077          By Chuck Hampton   \n",
       "103078    By Nover, Elizabeth Z.   \n",
       "103079      By Donald W. Burdick   \n",
       "103080     By Campbell, David P.   \n",
       "103081     By Carpentier, Marcel   \n",
       "\n",
       "                                              Description  \\\n",
       "0                                                     NaN   \n",
       "1                                                     NaN   \n",
       "2                                                     NaN   \n",
       "3                                                     NaN   \n",
       "4                                                     NaN   \n",
       "...                                                   ...   \n",
       "103077                                                NaN   \n",
       "103078                                                NaN   \n",
       "103079                                                NaN   \n",
       "103080                                                NaN   \n",
       "103081  An introduction to the proper care of puppies ...   \n",
       "\n",
       "                                                 Category  \\\n",
       "0                                       History , General   \n",
       "1                                       Fiction , General   \n",
       "2                                     Cooking , Reference   \n",
       "3                                                     NaN   \n",
       "4                                                     NaN   \n",
       "...                                                   ...   \n",
       "103077                                                NaN   \n",
       "103078   Juvenile Nonfiction , People & Places , Middl...   \n",
       "103079                                                NaN   \n",
       "103080                                                NaN   \n",
       "103081                              Pets , Dogs , General   \n",
       "\n",
       "                   Publisher                 Publish Date  \\\n",
       "0                  Doubleday      Friday, January 1, 1993   \n",
       "1           Putnam Pub Group        Sunday, March 1, 1981   \n",
       "2             Workman Pub Co  Thursday, September 1, 1983   \n",
       "3              Natl Pr Books        Monday, April 1, 1991   \n",
       "4               Amy Spangler   Saturday, February 1, 1997   \n",
       "...                      ...                          ...   \n",
       "103077        ENDesigns Inc.   Wednesday, January 1, 1992   \n",
       "103078         Behrman House          Friday, May 1, 1987   \n",
       "103079           Moody Press   Wednesday, January 1, 1969   \n",
       "103080  Argus Communications     Tuesday, January 1, 1980   \n",
       "103081         Tfh Pubns Inc     Friday, November 1, 1991   \n",
       "\n",
       "                          Price  \n",
       "0       Price Starting at $8.79  \n",
       "1       Price Starting at $4.99  \n",
       "2       Price Starting at $4.99  \n",
       "3       Price Starting at $4.99  \n",
       "4       Price Starting at $5.32  \n",
       "...                         ...  \n",
       "103077  Price Starting at $9.97  \n",
       "103078  Price Starting at $4.99  \n",
       "103079  Price Starting at $5.29  \n",
       "103080  Price Starting at $4.99  \n",
       "103081  Price Starting at $4.99  \n",
       "\n",
       "[103082 rows x 7 columns]"
      ]
     },
     "execution_count": 5,
     "metadata": {},
     "output_type": "execute_result"
    }
   ],
   "source": [
    "# Here we are printing the original data from the csv\n",
    "gb_md"
   ]
  },
  {
   "cell_type": "markdown",
   "metadata": {
    "id": "L0WdoSJ_X1kM"
   },
   "source": [
    "**Data Cleaning and Preprocessing**\n",
    "\n",
    "In this step, we will remove any noisy data with inconsistencies and missing values. Then, we will modify our data by applying tokenization techniques."
   ]
  },
  {
   "cell_type": "code",
   "execution_count": 6,
   "metadata": {
    "ExecuteTime": {
     "end_time": "2024-12-12T21:13:40.034624Z",
     "start_time": "2024-12-12T21:13:40.005655Z"
    },
    "id": "-JlhGT7HARBb"
   },
   "outputs": [],
   "source": [
    "# Dropping all observations with missing values\n",
    "gb_md = gb_md.dropna()\n",
    "\n",
    "# Now we will be dropping features that are irrelevant for us\n",
    "gb_md = gb_md.drop(columns=['Price', 'Publisher'])\n"
   ]
  },
  {
   "cell_type": "code",
   "execution_count": 7,
   "metadata": {
    "ExecuteTime": {
     "end_time": "2024-12-12T21:13:40.091190Z",
     "start_time": "2024-12-12T21:13:40.035432Z"
    },
    "id": "-qqNr5wxLZyX"
   },
   "outputs": [],
   "source": [
    "# Modifying the values in Publish Date to only keep the year\n",
    "gb_md['Publish Date'] = gb_md['Publish Date'].str.slice(-4)\n",
    "\n",
    "# Removing the value 'General' from the 'Categories' feature in order to avoid bad clusterings\n",
    "gb_md['Category'] = gb_md['Category'].str.replace('General', '', regex=False)\n",
    "gb_md['Category'] = gb_md['Category'].str.strip()\n",
    "gb_md = gb_md[gb_md['Category'] != '']\n",
    "gb_md['Category'] = gb_md['Category'].str.rstrip(',')\n",
    "\n",
    "# Removing \"By\" in the Authors Column\n",
    "gb_md['Authors'] = gb_md['Authors'].str.replace('^By ', '', regex=True)\n",
    "\n",
    "#Removing Duplicate Titles\n",
    "gb_md.drop_duplicates(subset=[\"Title\"], keep=\"first\", inplace=True)\n"
   ]
  },
  {
   "cell_type": "code",
   "execution_count": 8,
   "metadata": {
    "ExecuteTime": {
     "end_time": "2024-12-12T21:13:40.096495Z",
     "start_time": "2024-12-12T21:13:40.091934Z"
    },
    "colab": {
     "base_uri": "https://localhost:8080/",
     "height": 206
    },
    "id": "IEuXqBFGYkoM",
    "outputId": "1dc41344-c1aa-4c27-c9cf-92b0349df78f"
   },
   "outputs": [
    {
     "data": {
      "text/html": [
       "<div>\n",
       "<style scoped>\n",
       "    .dataframe tbody tr th:only-of-type {\n",
       "        vertical-align: middle;\n",
       "    }\n",
       "\n",
       "    .dataframe tbody tr th {\n",
       "        vertical-align: top;\n",
       "    }\n",
       "\n",
       "    .dataframe thead th {\n",
       "        text-align: right;\n",
       "    }\n",
       "</style>\n",
       "<table border=\"1\" class=\"dataframe\">\n",
       "  <thead>\n",
       "    <tr style=\"text-align: right;\">\n",
       "      <th></th>\n",
       "      <th>Title</th>\n",
       "      <th>Authors</th>\n",
       "      <th>Description</th>\n",
       "      <th>Category</th>\n",
       "      <th>Publish Date</th>\n",
       "    </tr>\n",
       "  </thead>\n",
       "  <tbody>\n",
       "    <tr>\n",
       "      <th>7</th>\n",
       "      <td>Journey Through Heartsongs</td>\n",
       "      <td>Stepanek, Mattie J. T.</td>\n",
       "      <td>Collects poems written by the eleven-year-old ...</td>\n",
       "      <td>Poetry</td>\n",
       "      <td>2001</td>\n",
       "    </tr>\n",
       "    <tr>\n",
       "      <th>8</th>\n",
       "      <td>In Search of Melancholy Baby</td>\n",
       "      <td>Aksyonov, Vassily, Heim, Michael Henry, and Bo...</td>\n",
       "      <td>The Russian author offers an affectionate chro...</td>\n",
       "      <td>Biography &amp; Autobiography</td>\n",
       "      <td>1987</td>\n",
       "    </tr>\n",
       "    <tr>\n",
       "      <th>10</th>\n",
       "      <td>The Dieter's Guide to Weight Loss During Sex</td>\n",
       "      <td>Smith, Richard</td>\n",
       "      <td>A humor classic, this tongue-in-cheek diet pla...</td>\n",
       "      <td>Health &amp; Fitness , Diet &amp; Nutrition , Diets</td>\n",
       "      <td>1978</td>\n",
       "    </tr>\n",
       "    <tr>\n",
       "      <th>11</th>\n",
       "      <td>Germs : Biological Weapons and America's Secre...</td>\n",
       "      <td>Miller, Judith, Engelberg, Stephen, and Broad,...</td>\n",
       "      <td>Deadly germs sprayed in shopping malls, bomb-l...</td>\n",
       "      <td>Technology &amp; Engineering , Military Science</td>\n",
       "      <td>2001</td>\n",
       "    </tr>\n",
       "    <tr>\n",
       "      <th>13</th>\n",
       "      <td>The Good Book: Reading the Bible with Mind and...</td>\n",
       "      <td>Gomes, Peter J.</td>\n",
       "      <td>\"The Bible and the social and moral consequenc...</td>\n",
       "      <td>Religion , Biblical Biography</td>\n",
       "      <td>1998</td>\n",
       "    </tr>\n",
       "  </tbody>\n",
       "</table>\n",
       "</div>"
      ],
      "text/plain": [
       "                                                Title  \\\n",
       "7                          Journey Through Heartsongs   \n",
       "8                        In Search of Melancholy Baby   \n",
       "10       The Dieter's Guide to Weight Loss During Sex   \n",
       "11  Germs : Biological Weapons and America's Secre...   \n",
       "13  The Good Book: Reading the Bible with Mind and...   \n",
       "\n",
       "                                              Authors  \\\n",
       "7                              Stepanek, Mattie J. T.   \n",
       "8   Aksyonov, Vassily, Heim, Michael Henry, and Bo...   \n",
       "10                                     Smith, Richard   \n",
       "11  Miller, Judith, Engelberg, Stephen, and Broad,...   \n",
       "13                                    Gomes, Peter J.   \n",
       "\n",
       "                                          Description  \\\n",
       "7   Collects poems written by the eleven-year-old ...   \n",
       "8   The Russian author offers an affectionate chro...   \n",
       "10  A humor classic, this tongue-in-cheek diet pla...   \n",
       "11  Deadly germs sprayed in shopping malls, bomb-l...   \n",
       "13  \"The Bible and the social and moral consequenc...   \n",
       "\n",
       "                                       Category Publish Date  \n",
       "7                                       Poetry          2001  \n",
       "8                    Biography & Autobiography          1987  \n",
       "10  Health & Fitness , Diet & Nutrition , Diets         1978  \n",
       "11  Technology & Engineering , Military Science         2001  \n",
       "13               Religion , Biblical Biography          1998  "
      ]
     },
     "execution_count": 8,
     "metadata": {},
     "output_type": "execute_result"
    }
   ],
   "source": [
    "# Demonstrating the first five observations of our \"clean\" data\n",
    "gb_md.head()"
   ]
  },
  {
   "cell_type": "code",
   "execution_count": 9,
   "metadata": {
    "ExecuteTime": {
     "end_time": "2024-12-12T21:13:40.100228Z",
     "start_time": "2024-12-12T21:13:40.096932Z"
    },
    "id": "kaz8DI-34Awm"
   },
   "outputs": [],
   "source": [
    "df = gb_md #[42000:65000]"
   ]
  },
  {
   "cell_type": "code",
   "execution_count": 10,
   "metadata": {
    "ExecuteTime": {
     "end_time": "2024-12-12T21:13:40.107733Z",
     "start_time": "2024-12-12T21:13:40.100711Z"
    },
    "colab": {
     "base_uri": "https://localhost:8080/",
     "height": 206
    },
    "id": "YfSnpE5F5CKK",
    "outputId": "0baaf01b-6ec6-4b50-a8f2-d51a119993e5"
   },
   "outputs": [
    {
     "data": {
      "text/html": [
       "<div>\n",
       "<style scoped>\n",
       "    .dataframe tbody tr th:only-of-type {\n",
       "        vertical-align: middle;\n",
       "    }\n",
       "\n",
       "    .dataframe tbody tr th {\n",
       "        vertical-align: top;\n",
       "    }\n",
       "\n",
       "    .dataframe thead th {\n",
       "        text-align: right;\n",
       "    }\n",
       "</style>\n",
       "<table border=\"1\" class=\"dataframe\">\n",
       "  <thead>\n",
       "    <tr style=\"text-align: right;\">\n",
       "      <th></th>\n",
       "      <th>Title</th>\n",
       "      <th>Authors</th>\n",
       "      <th>Description</th>\n",
       "      <th>Category</th>\n",
       "      <th>Publish Date</th>\n",
       "    </tr>\n",
       "  </thead>\n",
       "  <tbody>\n",
       "    <tr>\n",
       "      <th>7</th>\n",
       "      <td>Journey Through Heartsongs</td>\n",
       "      <td>Stepanek, Mattie J. T.</td>\n",
       "      <td>Collects poems written by the eleven-year-old ...</td>\n",
       "      <td>Poetry</td>\n",
       "      <td>2001</td>\n",
       "    </tr>\n",
       "    <tr>\n",
       "      <th>8</th>\n",
       "      <td>In Search of Melancholy Baby</td>\n",
       "      <td>Aksyonov, Vassily, Heim, Michael Henry, and Bo...</td>\n",
       "      <td>The Russian author offers an affectionate chro...</td>\n",
       "      <td>Biography &amp; Autobiography</td>\n",
       "      <td>1987</td>\n",
       "    </tr>\n",
       "    <tr>\n",
       "      <th>10</th>\n",
       "      <td>The Dieter's Guide to Weight Loss During Sex</td>\n",
       "      <td>Smith, Richard</td>\n",
       "      <td>A humor classic, this tongue-in-cheek diet pla...</td>\n",
       "      <td>Health &amp; Fitness , Diet &amp; Nutrition , Diets</td>\n",
       "      <td>1978</td>\n",
       "    </tr>\n",
       "    <tr>\n",
       "      <th>11</th>\n",
       "      <td>Germs : Biological Weapons and America's Secre...</td>\n",
       "      <td>Miller, Judith, Engelberg, Stephen, and Broad,...</td>\n",
       "      <td>Deadly germs sprayed in shopping malls, bomb-l...</td>\n",
       "      <td>Technology &amp; Engineering , Military Science</td>\n",
       "      <td>2001</td>\n",
       "    </tr>\n",
       "    <tr>\n",
       "      <th>13</th>\n",
       "      <td>The Good Book: Reading the Bible with Mind and...</td>\n",
       "      <td>Gomes, Peter J.</td>\n",
       "      <td>\"The Bible and the social and moral consequenc...</td>\n",
       "      <td>Religion , Biblical Biography</td>\n",
       "      <td>1998</td>\n",
       "    </tr>\n",
       "  </tbody>\n",
       "</table>\n",
       "</div>"
      ],
      "text/plain": [
       "                                                Title  \\\n",
       "7                          Journey Through Heartsongs   \n",
       "8                        In Search of Melancholy Baby   \n",
       "10       The Dieter's Guide to Weight Loss During Sex   \n",
       "11  Germs : Biological Weapons and America's Secre...   \n",
       "13  The Good Book: Reading the Bible with Mind and...   \n",
       "\n",
       "                                              Authors  \\\n",
       "7                              Stepanek, Mattie J. T.   \n",
       "8   Aksyonov, Vassily, Heim, Michael Henry, and Bo...   \n",
       "10                                     Smith, Richard   \n",
       "11  Miller, Judith, Engelberg, Stephen, and Broad,...   \n",
       "13                                    Gomes, Peter J.   \n",
       "\n",
       "                                          Description  \\\n",
       "7   Collects poems written by the eleven-year-old ...   \n",
       "8   The Russian author offers an affectionate chro...   \n",
       "10  A humor classic, this tongue-in-cheek diet pla...   \n",
       "11  Deadly germs sprayed in shopping malls, bomb-l...   \n",
       "13  \"The Bible and the social and moral consequenc...   \n",
       "\n",
       "                                       Category Publish Date  \n",
       "7                                       Poetry          2001  \n",
       "8                    Biography & Autobiography          1987  \n",
       "10  Health & Fitness , Diet & Nutrition , Diets         1978  \n",
       "11  Technology & Engineering , Military Science         2001  \n",
       "13               Religion , Biblical Biography          1998  "
      ]
     },
     "execution_count": 10,
     "metadata": {},
     "output_type": "execute_result"
    }
   ],
   "source": [
    "df.head()"
   ]
  },
  {
   "cell_type": "code",
   "execution_count": 11,
   "metadata": {
    "ExecuteTime": {
     "end_time": "2024-12-12T21:13:40.584304Z",
     "start_time": "2024-12-12T21:13:40.108188Z"
    },
    "colab": {
     "base_uri": "https://localhost:8080/"
    },
    "id": "IZVmOUKlBIFD",
    "outputId": "5c53c912-cb2a-4b7f-c208-3e285c1f3d05"
   },
   "outputs": [],
   "source": [
    "#Combining the columns description + category which should capture semantics of genre and their summaries\n",
    "text_data = df['Title']+ ': ' + df['Description'] + \": \" + df['Category']\n",
    "\n",
    "# Initializing our tokenizer from the transformers model\n",
    "tokenizer = AutoTokenizer.from_pretrained(\"bert-base-uncased\")\n",
    "# Also initializing our pre-trained LLM --> BERT\n",
    "book_model = AutoModel.from_pretrained(\"bert-base-uncased\")"
   ]
  },
  {
   "cell_type": "code",
   "execution_count": 12,
   "metadata": {
    "ExecuteTime": {
     "end_time": "2024-12-12T21:13:40.592742Z",
     "start_time": "2024-12-12T21:13:40.585230Z"
    },
    "colab": {
     "base_uri": "https://localhost:8080/",
     "height": 321
    },
    "id": "AijQTzpUbFmo",
    "outputId": "186bf405-79e7-48d2-faea-500712e305f8"
   },
   "outputs": [
    {
     "name": "stdout",
     "output_type": "stream",
     "text": [
      "True\n"
     ]
    }
   ],
   "source": [
    "print(torch.cuda.is_available())"
   ]
  },
  {
   "cell_type": "code",
   "execution_count": 13,
   "metadata": {
    "ExecuteTime": {
     "end_time": "2024-12-12T21:13:40.772735Z",
     "start_time": "2024-12-12T21:13:40.593379Z"
    },
    "id": "u9sGFmwx8eHH"
   },
   "outputs": [],
   "source": [
    "book_model = book_model.to('cuda')\n",
    "\n",
    "def get_embeddings_for_chunk(chunk):\n",
    "    tokenized_inputs = tokenizer(\n",
    "        chunk,\n",
    "        padding=True,\n",
    "        truncation=True,\n",
    "        return_tensors=\"pt\",\n",
    "        max_length=512  # Ensure truncation for long texts\n",
    "    ).to('cuda')  # Move to GPU\n",
    "    outputs = book_model(**tokenized_inputs)\n",
    "    hidden_states = outputs.last_hidden_state  # Shape: (batch_size, seq_len, hidden_dim)\n",
    "    embeddings = hidden_states.mean(dim=1)  # Mean pooling across tokens\n",
    "    return embeddings.detach().cpu().numpy()  # Move to CPU before converting to numpy\n"
   ]
  },
  {
   "cell_type": "code",
   "execution_count": 14,
   "metadata": {
    "ExecuteTime": {
     "end_time": "2024-12-12T21:21:22.767556Z",
     "start_time": "2024-12-12T21:13:40.774237Z"
    },
    "id": "R-MtBYtb8nj0"
   },
   "outputs": [
    {
     "name": "stdout",
     "output_type": "stream",
     "text": [
      "Chunk 0 of 2588\n",
      "Chunk 10 of 2588\n",
      "Chunk 20 of 2588\n",
      "Chunk 30 of 2588\n",
      "Chunk 40 of 2588\n",
      "Chunk 50 of 2588\n",
      "Chunk 60 of 2588\n",
      "Chunk 70 of 2588\n",
      "Chunk 80 of 2588\n",
      "Chunk 90 of 2588\n",
      "Chunk 100 of 2588\n",
      "Chunk 110 of 2588\n",
      "Chunk 120 of 2588\n",
      "Chunk 130 of 2588\n",
      "Chunk 140 of 2588\n",
      "Chunk 150 of 2588\n",
      "Chunk 160 of 2588\n",
      "Chunk 170 of 2588\n",
      "Chunk 180 of 2588\n",
      "Chunk 190 of 2588\n",
      "Chunk 200 of 2588\n",
      "Chunk 210 of 2588\n",
      "Chunk 220 of 2588\n",
      "Chunk 230 of 2588\n",
      "Chunk 240 of 2588\n",
      "Chunk 250 of 2588\n",
      "Chunk 260 of 2588\n",
      "Chunk 270 of 2588\n",
      "Chunk 280 of 2588\n",
      "Chunk 290 of 2588\n",
      "Chunk 300 of 2588\n",
      "Chunk 310 of 2588\n",
      "Chunk 320 of 2588\n",
      "Chunk 330 of 2588\n",
      "Chunk 340 of 2588\n",
      "Chunk 350 of 2588\n",
      "Chunk 360 of 2588\n",
      "Chunk 370 of 2588\n",
      "Chunk 380 of 2588\n",
      "Chunk 390 of 2588\n",
      "Chunk 400 of 2588\n",
      "Chunk 410 of 2588\n",
      "Chunk 420 of 2588\n",
      "Chunk 430 of 2588\n",
      "Chunk 440 of 2588\n",
      "Chunk 450 of 2588\n",
      "Chunk 460 of 2588\n",
      "Chunk 470 of 2588\n",
      "Chunk 480 of 2588\n",
      "Chunk 490 of 2588\n",
      "Chunk 500 of 2588\n",
      "Chunk 510 of 2588\n",
      "Chunk 520 of 2588\n",
      "Chunk 530 of 2588\n",
      "Chunk 540 of 2588\n",
      "Chunk 550 of 2588\n",
      "Chunk 560 of 2588\n",
      "Chunk 570 of 2588\n",
      "Chunk 580 of 2588\n",
      "Chunk 590 of 2588\n",
      "Chunk 600 of 2588\n",
      "Chunk 610 of 2588\n",
      "Chunk 620 of 2588\n",
      "Chunk 630 of 2588\n",
      "Chunk 640 of 2588\n",
      "Chunk 650 of 2588\n",
      "Chunk 660 of 2588\n",
      "Chunk 670 of 2588\n",
      "Chunk 680 of 2588\n",
      "Chunk 690 of 2588\n",
      "Chunk 700 of 2588\n",
      "Chunk 710 of 2588\n",
      "Chunk 720 of 2588\n",
      "Chunk 730 of 2588\n",
      "Chunk 740 of 2588\n",
      "Chunk 750 of 2588\n",
      "Chunk 760 of 2588\n",
      "Chunk 770 of 2588\n",
      "Chunk 780 of 2588\n",
      "Chunk 790 of 2588\n",
      "Chunk 800 of 2588\n",
      "Chunk 810 of 2588\n",
      "Chunk 820 of 2588\n",
      "Chunk 830 of 2588\n",
      "Chunk 840 of 2588\n",
      "Chunk 850 of 2588\n",
      "Chunk 860 of 2588\n",
      "Chunk 870 of 2588\n",
      "Chunk 880 of 2588\n",
      "Chunk 890 of 2588\n",
      "Chunk 900 of 2588\n",
      "Chunk 910 of 2588\n",
      "Chunk 920 of 2588\n",
      "Chunk 930 of 2588\n",
      "Chunk 940 of 2588\n",
      "Chunk 950 of 2588\n",
      "Chunk 960 of 2588\n",
      "Chunk 970 of 2588\n",
      "Chunk 980 of 2588\n",
      "Chunk 990 of 2588\n",
      "Chunk 1000 of 2588\n",
      "Chunk 1010 of 2588\n",
      "Chunk 1020 of 2588\n",
      "Chunk 1030 of 2588\n",
      "Chunk 1040 of 2588\n",
      "Chunk 1050 of 2588\n",
      "Chunk 1060 of 2588\n",
      "Chunk 1070 of 2588\n",
      "Chunk 1080 of 2588\n",
      "Chunk 1090 of 2588\n",
      "Chunk 1100 of 2588\n",
      "Chunk 1110 of 2588\n",
      "Chunk 1120 of 2588\n",
      "Chunk 1130 of 2588\n",
      "Chunk 1140 of 2588\n",
      "Chunk 1150 of 2588\n",
      "Chunk 1160 of 2588\n",
      "Chunk 1170 of 2588\n",
      "Chunk 1180 of 2588\n",
      "Chunk 1190 of 2588\n",
      "Chunk 1200 of 2588\n",
      "Chunk 1210 of 2588\n",
      "Chunk 1220 of 2588\n",
      "Chunk 1230 of 2588\n",
      "Chunk 1240 of 2588\n",
      "Chunk 1250 of 2588\n",
      "Chunk 1260 of 2588\n",
      "Chunk 1270 of 2588\n",
      "Chunk 1280 of 2588\n",
      "Chunk 1290 of 2588\n",
      "Chunk 1300 of 2588\n",
      "Chunk 1310 of 2588\n",
      "Chunk 1320 of 2588\n",
      "Chunk 1330 of 2588\n",
      "Chunk 1340 of 2588\n",
      "Chunk 1350 of 2588\n",
      "Chunk 1360 of 2588\n",
      "Chunk 1370 of 2588\n",
      "Chunk 1380 of 2588\n",
      "Chunk 1390 of 2588\n",
      "Chunk 1400 of 2588\n",
      "Chunk 1410 of 2588\n",
      "Chunk 1420 of 2588\n",
      "Chunk 1430 of 2588\n",
      "Chunk 1440 of 2588\n",
      "Chunk 1450 of 2588\n",
      "Chunk 1460 of 2588\n",
      "Chunk 1470 of 2588\n",
      "Chunk 1480 of 2588\n",
      "Chunk 1490 of 2588\n",
      "Chunk 1500 of 2588\n",
      "Chunk 1510 of 2588\n",
      "Chunk 1520 of 2588\n",
      "Chunk 1530 of 2588\n",
      "Chunk 1540 of 2588\n",
      "Chunk 1550 of 2588\n",
      "Chunk 1560 of 2588\n",
      "Chunk 1570 of 2588\n",
      "Chunk 1580 of 2588\n",
      "Chunk 1590 of 2588\n",
      "Chunk 1600 of 2588\n",
      "Chunk 1610 of 2588\n",
      "Chunk 1620 of 2588\n",
      "Chunk 1630 of 2588\n",
      "Chunk 1640 of 2588\n",
      "Chunk 1650 of 2588\n",
      "Chunk 1660 of 2588\n",
      "Chunk 1670 of 2588\n",
      "Chunk 1680 of 2588\n",
      "Chunk 1690 of 2588\n",
      "Chunk 1700 of 2588\n",
      "Chunk 1710 of 2588\n",
      "Chunk 1720 of 2588\n",
      "Chunk 1730 of 2588\n",
      "Chunk 1740 of 2588\n",
      "Chunk 1750 of 2588\n",
      "Chunk 1760 of 2588\n",
      "Chunk 1770 of 2588\n",
      "Chunk 1780 of 2588\n",
      "Chunk 1790 of 2588\n",
      "Chunk 1800 of 2588\n",
      "Chunk 1810 of 2588\n",
      "Chunk 1820 of 2588\n",
      "Chunk 1830 of 2588\n",
      "Chunk 1840 of 2588\n",
      "Chunk 1850 of 2588\n",
      "Chunk 1860 of 2588\n",
      "Chunk 1870 of 2588\n",
      "Chunk 1880 of 2588\n",
      "Chunk 1890 of 2588\n",
      "Chunk 1900 of 2588\n",
      "Chunk 1910 of 2588\n",
      "Chunk 1920 of 2588\n",
      "Chunk 1930 of 2588\n",
      "Chunk 1940 of 2588\n",
      "Chunk 1950 of 2588\n",
      "Chunk 1960 of 2588\n",
      "Chunk 1970 of 2588\n",
      "Chunk 1980 of 2588\n",
      "Chunk 1990 of 2588\n",
      "Chunk 2000 of 2588\n",
      "Chunk 2010 of 2588\n",
      "Chunk 2020 of 2588\n",
      "Chunk 2030 of 2588\n",
      "Chunk 2040 of 2588\n",
      "Chunk 2050 of 2588\n",
      "Chunk 2060 of 2588\n",
      "Chunk 2070 of 2588\n",
      "Chunk 2080 of 2588\n",
      "Chunk 2090 of 2588\n",
      "Chunk 2100 of 2588\n",
      "Chunk 2110 of 2588\n",
      "Chunk 2120 of 2588\n",
      "Chunk 2130 of 2588\n",
      "Chunk 2140 of 2588\n",
      "Chunk 2150 of 2588\n",
      "Chunk 2160 of 2588\n",
      "Chunk 2170 of 2588\n",
      "Chunk 2180 of 2588\n",
      "Chunk 2190 of 2588\n",
      "Chunk 2200 of 2588\n",
      "Chunk 2210 of 2588\n",
      "Chunk 2220 of 2588\n",
      "Chunk 2230 of 2588\n",
      "Chunk 2240 of 2588\n",
      "Chunk 2250 of 2588\n",
      "Chunk 2260 of 2588\n",
      "Chunk 2270 of 2588\n",
      "Chunk 2280 of 2588\n",
      "Chunk 2290 of 2588\n",
      "Chunk 2300 of 2588\n",
      "Chunk 2310 of 2588\n",
      "Chunk 2320 of 2588\n",
      "Chunk 2330 of 2588\n",
      "Chunk 2340 of 2588\n",
      "Chunk 2350 of 2588\n",
      "Chunk 2360 of 2588\n",
      "Chunk 2370 of 2588\n",
      "Chunk 2380 of 2588\n",
      "Chunk 2390 of 2588\n",
      "Chunk 2400 of 2588\n",
      "Chunk 2410 of 2588\n",
      "Chunk 2420 of 2588\n",
      "Chunk 2430 of 2588\n",
      "Chunk 2440 of 2588\n",
      "Chunk 2450 of 2588\n",
      "Chunk 2460 of 2588\n",
      "Chunk 2470 of 2588\n",
      "Chunk 2480 of 2588\n",
      "Chunk 2490 of 2588\n",
      "Chunk 2500 of 2588\n",
      "Chunk 2510 of 2588\n",
      "Chunk 2520 of 2588\n",
      "Chunk 2530 of 2588\n",
      "Chunk 2540 of 2588\n",
      "Chunk 2550 of 2588\n",
      "Chunk 2560 of 2588\n",
      "Chunk 2570 of 2588\n",
      "Chunk 2579 of 2588\n",
      "Chunk 2580 of 2588\n",
      "Chunk 2581 of 2588\n",
      "Chunk 2582 of 2588\n",
      "Chunk 2583 of 2588\n",
      "Chunk 2584 of 2588\n",
      "Chunk 2585 of 2588\n",
      "Chunk 2586 of 2588\n",
      "Chunk 2587 of 2588\n"
     ]
    }
   ],
   "source": [
    "# Define batch size\n",
    "batch_size = 24  # Adjust based on available memory\n",
    "\n",
    "# Process dataset in chunks to avoid memory overload\n",
    "num_chunks = len(df) // batch_size + 1  # Total chunks based on batch size\n",
    "all_embeddings = []\n",
    "for i in range(num_chunks):\n",
    "    start_idx = i * batch_size\n",
    "    end_idx = min((i + 1) * batch_size, len(df))\n",
    "\n",
    "    # Retry mechanism for out-of-memory\n",
    "    while True:\n",
    "        try:\n",
    "            chunk = text_data[start_idx:end_idx].tolist()\n",
    "            embeddings_chunk = get_embeddings_for_chunk(chunk)\n",
    "            if i % 10 == 0 or num_chunks - i < 10:\n",
    "                print(f'Chunk {i} of {num_chunks}') \n",
    "            break\n",
    "        except RuntimeError as e:\n",
    "            if \"out of memory\" in str(e):\n",
    "                batch_size //= 2  # Halve the batch size\n",
    "                torch.cuda.empty_cache()  # Clear GPU memory\n",
    "            else:\n",
    "                raise e\n",
    "    all_embeddings.append(embeddings_chunk)\n",
    "    \n",
    "\n",
    "\n",
    "# Combine all chunks into a single list of embeddings\n",
    "all_embeddings = np.vstack(all_embeddings)\n"
   ]
  },
  {
   "cell_type": "code",
   "execution_count": 15,
   "metadata": {
    "ExecuteTime": {
     "end_time": "2024-12-12T21:58:25.904227Z",
     "start_time": "2024-12-12T21:58:25.840035Z"
    }
   },
   "outputs": [],
   "source": [
    "# Normalize the embeddings to ensure consistent similarity scores\n",
    "normalized_embeddings = normalize(all_embeddings)\n",
    "#standardized_embeddings = StandardScaler().fit_transform(all_embeddings)\n",
    "#minMax_embeddings = MinMaxScaler().fit_transform(all_embeddings)\n",
    "\n",
    "current_embeddings = normalized_embeddings\n",
    "current_scaler = normalize\n",
    "current_name = \"normalize\""
   ]
  },
  {
   "cell_type": "code",
   "execution_count": 58,
   "metadata": {
    "ExecuteTime": {
     "end_time": "2024-12-12T22:17:54.303985Z",
     "start_time": "2024-12-12T22:17:52.671261Z"
    }
   },
   "outputs": [
    {
     "data": {
      "image/png": "[encoded data removed]",
      "text/plain": [
       "<Figure size 1000x800 with 1 Axes>"
      ]
     },
     "metadata": {},
     "output_type": "display_data"
    }
   ],
   "source": [
    "#Implement UMAP\n",
    "\n",
    "def umapTest(data, name=None, neighbors=15, display=True):\n",
    "    dim_reducer = UMAP(n_neighbors=neighbors, n_components=2, random_state=42)\n",
    "\n",
    "    embed_UMAP = dim_reducer.fit_transform(data)\n",
    "    if display:\n",
    "        plt.figure(figsize=(10,8))\n",
    "        scatter = plt.scatter(embed_UMAP[:, 0], embed_UMAP[:, 1], cmap='Spectral', s=3, alpha=0.6)\n",
    "        plt.title(f'2D UMAP: {name}' if name else '2D UMAP')\n",
    "        plt.xlabel(\"UMAP Dimension 1\")\n",
    "        plt.ylabel(\"UMAP Dimension 2\")\n",
    "        plt.show()\n",
    "    return embed_UMAP\n",
    "\n",
    "embed_U = umapTest(current_embeddings, current_name)"
   ]
  },
  {
   "cell_type": "code",
   "execution_count": 59,
   "metadata": {
    "ExecuteTime": {
     "end_time": "2024-12-12T22:18:17.490756Z",
     "start_time": "2024-12-12T22:17:54.304573Z"
    }
   },
   "outputs": [
    {
     "name": "stdout",
     "output_type": "stream",
     "text": [
      "Number of clusters found: 2066\n",
      "Number of noise points: 26004\n"
     ]
    }
   ],
   "source": [
    "hdb = hdbscan.HDBSCAN()\n",
    "embed_hdb = hdb.fit_predict(embed_U)\n",
    "\n",
    "print(f\"Number of clusters found: {len(set(embed_hdb))}\")\n",
    "print(f\"Number of noise points: {sum(embed_hdb == -1)}\")"
   ]
  },
  {
   "cell_type": "code",
   "execution_count": 60,
   "metadata": {
    "ExecuteTime": {
     "end_time": "2024-12-12T22:18:17.571482Z",
     "start_time": "2024-12-12T22:18:17.491453Z"
    }
   },
   "outputs": [
    {
     "data": {
      "image/png": "[encoded data removed]",
      "text/plain": [
       "<Figure size 1000x800 with 1 Axes>"
      ]
     },
     "metadata": {},
     "output_type": "display_data"
    }
   ],
   "source": [
    "plt.figure(figsize=(10, 8))\n",
    "unique = np.unique(embed_hdb)\n",
    "colors = plt.cm.Spectral(np.linspace(0, 1, len(unique)))\n",
    "for k, color in zip(unique, colors):\n",
    "    mask = (embed_hdb == k)\n",
    "    if k != -1:  # Exclude noise\n",
    "        plt.scatter(\n",
    "            embed_U[mask, 0],\n",
    "            embed_U[mask, 1],\n",
    "            c=[color], \n",
    "            label=f'Cluster {k}', \n",
    "            s=3, \n",
    "            alpha=0.7\n",
    "    )\n",
    "\n",
    "\n",
    "#plt.legend(loc='upper right', markerscale=5, fontsize='small', title='Clusters')\n",
    "plt.title(\"HDBSCAN Clusters on UMAP\")\n",
    "plt.xlabel(\"UMAP Component 1\")\n",
    "plt.ylabel(\"UMAP Component 2\")\n",
    "plt.show()"
   ]
  },
  {
   "cell_type": "code",
   "execution_count": 26,
   "metadata": {
    "ExecuteTime": {
     "end_time": "2024-12-12T22:18:17.574396Z",
     "start_time": "2024-12-12T22:18:17.572245Z"
    },
    "id": "KO-SLndt_LnJ"
   },
   "outputs": [],
   "source": [
    "\n",
    "# Get the user's favorite book and genre\n",
    "#fav_book = input('Enter your favorite book name: ')  # Example: \"Rage of Angels\"\n",
    "#fav_genre = input('What is your favorite genre: ')  # Example: \"Thriller\"\n",
    "\n",
    "\n",
    "def user_input(book, genre):\n",
    "    # Combine the favorite book and genre to form a user input\n",
    "    usr_input = book + \": \" + genre\n",
    "\n",
    "\n",
    "    # Tokenize user input and generate embedding\n",
    "    tokenized_input = tokenizer(\n",
    "        usr_input,\n",
    "        padding=True,\n",
    "        truncation=True,\n",
    "        return_tensors=\"pt\"\n",
    "    ).to('cuda')\n",
    "    return tokenized_input\n",
    "\n",
    "#user_tokens = user_input(fav_book, fav_genre)"
   ]
  },
  {
   "cell_type": "code",
   "execution_count": 27,
   "metadata": {
    "ExecuteTime": {
     "end_time": "2024-12-12T22:18:17.579520Z",
     "start_time": "2024-12-12T22:18:17.574939Z"
    },
    "id": "6Mvqo7D8FvBA"
   },
   "outputs": [],
   "source": [
    "def get_answer(tokens):\n",
    "    user_embedding = book_model(**tokens)\n",
    "    hidden_states = user_embedding.last_hidden_state  # Shape: (batch_size, seq_len, hidden_dim)\n",
    "    usr_embeddings = hidden_states.mean(dim=1)  # Mean pooling across tokens\n",
    "    ue = usr_embeddings.detach().cpu().numpy()\n",
    "    norm_ue = np.vstack(ue)\n",
    "\n",
    "    norm_ue = normalize(norm_ue)\n",
    "\n",
    "    # Calculate cosine similarity between the user's input embedding and all book embeddings\n",
    "    similarity_scores = cosine_similarity(norm_ue, current_embeddings).flatten()\n",
    "\n",
    "    # Get the top 5 most similar books\n",
    "    # top_indices = similarity_scores.argsort()[-5:][::-1]  # Indices of the top 5 books\n",
    "    df[\"Similarity\"] = similarity_scores.T\n",
    "    "
   ]
  },
  {
   "cell_type": "code",
   "execution_count": null,
   "metadata": {},
   "outputs": [],
   "source": [
    "def get_scores(data, df1, genre):\n",
    "    total_rec = df1[df1['Category'].str.contains(genre)]\n",
    "    total_genre = data[data['Category'].str.contains(genre)]\n",
    "    precision = len(total_rec) / len(data)\n",
    "    recall = len(total_rec) / len(total_genre)\n",
    "    f1_score = (2*precision*recall) / (precision / recall)\n",
    "    \n",
    "    mrr = (1 / data[data[data['Category'].str.contains(genre)].iloc[0]].index()) / len(df1)\n",
    "    return [precision, recall, f1_score, mrr]"
   ]
  },
  {
   "cell_type": "code",
   "execution_count": 83,
   "metadata": {
    "ExecuteTime": {
     "end_time": "2024-12-12T22:25:05.970592Z",
     "start_time": "2024-12-12T22:25:05.963725Z"
    }
   },
   "outputs": [],
   "source": [
    "def llm_routine():\n",
    "    book = input('Enter your favorite book name: ')  # Example: \"Rage of Angels\"\n",
    "    genre = input('What is your favorite genre: ')  # Example: \"Thriller\"\n",
    "    print(f'Book: {book}, Genre: {genre}')\n",
    "    get_answer(user_input(book, genre))\n",
    "    print('Recommended')\n",
    "    recommended_book_val = df['Similarity'].max()\n",
    "    print(recommended_book_val)\n",
    "    above_threshold = df[recommended_book_val - df['Similarity'] > 0.08]\n",
    "    recommended_books = df.drop(above_threshold.index).sort_values(by=\"Similarity\", ascending=False)\n",
    "    print(f'Total Number of Results: {len(recommended_books)}')\n",
    "    display(recommended_books[[\"Title\", \"Category\", \"Similarity\"]].head(10))\n",
    "    #print('Not Good')\n",
    "    return get_scores(df, recommended_books, genre)\n",
    "    #not_good_books = df.sort_values(by=\"Similarity\", ascending=False)\n",
    "    #display(not_good_books[[\"Title\", \"Category\", \"Similarity\"]])"
   ]
  },
  {
   "cell_type": "code",
   "execution_count": 84,
   "metadata": {},
   "outputs": [],
   "source": [
    "def test_routine():\n",
    "    p_sum = []\n",
    "\n",
    "    for i in range(3):\n",
    "        values = llm_routine()\n",
    "        print(f'Trial {i+1}')\n",
    "        print(f'Precision: {values[0]}, '\n",
    "          f'\\nRecall: {[values[1]]}, '\n",
    "          f'\\nF1 Score: {values[2]}'\n",
    "          f'\\nMRR: {values[2]}')\n",
    "        p_sum.append(values[0])\n",
    "        \n",
    "    print(f'\\nMAP: {p_sum.mean()}')"
   ]
  },
  {
   "cell_type": "code",
   "execution_count": 87,
   "metadata": {
    "ExecuteTime": {
     "end_time": "2024-12-12T22:24:35.525075Z",
     "start_time": "2024-12-12T22:24:20.771859Z"
    }
   },
   "outputs": [
    {
     "name": "stdout",
     "output_type": "stream",
     "text": [
      "Try 1\n",
      "Book: Planet of the Apes, Genre: Science Fiction\n",
      "Recommended\n",
      "0.65097845\n",
      "Total Number of Results: 71\n"
     ]
    },
    {
     "data": {
      "text/html": [
       "<div>\n",
       "<style scoped>\n",
       "    .dataframe tbody tr th:only-of-type {\n",
       "        vertical-align: middle;\n",
       "    }\n",
       "\n",
       "    .dataframe tbody tr th {\n",
       "        vertical-align: top;\n",
       "    }\n",
       "\n",
       "    .dataframe thead th {\n",
       "        text-align: right;\n",
       "    }\n",
       "</style>\n",
       "<table border=\"1\" class=\"dataframe\">\n",
       "  <thead>\n",
       "    <tr style=\"text-align: right;\">\n",
       "      <th></th>\n",
       "      <th>Title</th>\n",
       "      <th>Category</th>\n",
       "      <th>Similarity</th>\n",
       "    </tr>\n",
       "  </thead>\n",
       "  <tbody>\n",
       "    <tr>\n",
       "      <th>82489</th>\n",
       "      <td>Watch Out for Jabba the Hutt! (Star Wars: Clon...</td>\n",
       "      <td>Juvenile Fiction , Science Fiction</td>\n",
       "      <td>0.650978</td>\n",
       "    </tr>\n",
       "    <tr>\n",
       "      <th>43146</th>\n",
       "      <td>The Magician's Nephew</td>\n",
       "      <td>Juvenile Fiction , Fantasy &amp; Magic</td>\n",
       "      <td>0.621422</td>\n",
       "    </tr>\n",
       "    <tr>\n",
       "      <th>91105</th>\n",
       "      <td>Firstborn (Time Odyssey)</td>\n",
       "      <td>Fiction , Science Fiction , Space Opera</td>\n",
       "      <td>0.607709</td>\n",
       "    </tr>\n",
       "    <tr>\n",
       "      <th>5135</th>\n",
       "      <td>Star Trek Insurrection (Star Trek The Next Gen...</td>\n",
       "      <td>Fiction , Science Fiction , Adventure</td>\n",
       "      <td>0.607702</td>\n",
       "    </tr>\n",
       "    <tr>\n",
       "      <th>92988</th>\n",
       "      <td>The Origins of Tolkien's Middle-earth For Dummies</td>\n",
       "      <td>Fiction , Fantasy</td>\n",
       "      <td>0.607120</td>\n",
       "    </tr>\n",
       "    <tr>\n",
       "      <th>24353</th>\n",
       "      <td>Dune: The Machine Crusade</td>\n",
       "      <td>Fiction , Science Fiction , Space Opera</td>\n",
       "      <td>0.606945</td>\n",
       "    </tr>\n",
       "    <tr>\n",
       "      <th>39133</th>\n",
       "      <td>Ultimate Annuals - Volume 1</td>\n",
       "      <td>Young Adult Fiction , Comics &amp; Graphic Novels ...</td>\n",
       "      <td>0.606525</td>\n",
       "    </tr>\n",
       "    <tr>\n",
       "      <th>47620</th>\n",
       "      <td>On Glorious Wings: The Best Flying Stories of ...</td>\n",
       "      <td>Fiction , Anthologies (multiple authors)</td>\n",
       "      <td>0.603258</td>\n",
       "    </tr>\n",
       "    <tr>\n",
       "      <th>44175</th>\n",
       "      <td>The Butlerian Jihad (Legends of Dune #1)</td>\n",
       "      <td>Fiction , Science Fiction , Action &amp; Adventure</td>\n",
       "      <td>0.600753</td>\n",
       "    </tr>\n",
       "    <tr>\n",
       "      <th>69738</th>\n",
       "      <td>Time's Eye (A Time Odyssey)</td>\n",
       "      <td>Fiction , Science Fiction , Space Opera</td>\n",
       "      <td>0.599051</td>\n",
       "    </tr>\n",
       "  </tbody>\n",
       "</table>\n",
       "</div>"
      ],
      "text/plain": [
       "                                                   Title  \\\n",
       "82489  Watch Out for Jabba the Hutt! (Star Wars: Clon...   \n",
       "43146                              The Magician's Nephew   \n",
       "91105                           Firstborn (Time Odyssey)   \n",
       "5135   Star Trek Insurrection (Star Trek The Next Gen...   \n",
       "92988  The Origins of Tolkien's Middle-earth For Dummies   \n",
       "24353                          Dune: The Machine Crusade   \n",
       "39133                        Ultimate Annuals - Volume 1   \n",
       "47620  On Glorious Wings: The Best Flying Stories of ...   \n",
       "44175           The Butlerian Jihad (Legends of Dune #1)   \n",
       "69738                        Time's Eye (A Time Odyssey)   \n",
       "\n",
       "                                                Category  Similarity  \n",
       "82489                Juvenile Fiction , Science Fiction     0.650978  \n",
       "43146                 Juvenile Fiction , Fantasy & Magic    0.621422  \n",
       "91105            Fiction , Science Fiction , Space Opera    0.607709  \n",
       "5135               Fiction , Science Fiction , Adventure    0.607702  \n",
       "92988                                 Fiction , Fantasy     0.607120  \n",
       "24353            Fiction , Science Fiction , Space Opera    0.606945  \n",
       "39133  Young Adult Fiction , Comics & Graphic Novels ...    0.606525  \n",
       "47620           Fiction , Anthologies (multiple authors)    0.603258  \n",
       "44175     Fiction , Science Fiction , Action & Adventure    0.600753  \n",
       "69738            Fiction , Science Fiction , Space Opera    0.599051  "
      ]
     },
     "metadata": {},
     "output_type": "display_data"
    },
    {
     "name": "stderr",
     "output_type": "stream",
     "text": [
      "Traceback (most recent call last):\n",
      "  File \"/home/rainyday21/.conda/envs/ml_rapids/lib/python3.11/site-packages/debugpy/_vendored/pydevd/_pydevd_bundle/pydevd_vars.py\", line 622, in change_attr_expression\n",
      "    value = eval(expression, frame.f_globals, frame.f_locals)\n",
      "            ^^^^^^^^^^^^^^^^^^^^^^^^^^^^^^^^^^^^^^^^^^^^^^^^^\n",
      "  File \"<string>\", line 1\n",
      "    Title  \\82489  Watch Out for Jabba the Hutt! (Star Wars: Clon...   43146                              The Magician's Nephew   91105                           Firstborn (Time Odyssey)   5135   Star Trek Insurrection (Star Trek The Next Gen...   92988  The Origins of Tolkien's Middle-earth For Dummies   ...                                                  ...   50403                                           The Maze   7889   Robert Ludlum's The Paris Option: A Covert-One...   71370  EVE: The Empyrean Age: The Empyrean Age (EVE S...   34772                           Rogue Planet (Star Wars)   31279  Aladdin and Other Favorite Arabian Nights Stor...                                                    Authors  \\82489                                    Beecroft, Simon   43146             Lewis, C. S. and Baynes, Pauline (ILT)   91105              Clarke, Arthur C. and Baxter, Stephen   5135   Dillard, J. M., Berman, Rick, and Piller, Michael   92988             Harvey, Greg and Siewers, Alfred (FRW)   ...                                                  ...   50403                                        Hobbs, Will   7889                     Ludlum, Robert and Lynds, Gayle   71370                                     Gonzales, Tony   34772                                         Bear, Greg   31279         Kliros, Thea (ILT) and Smith, Philip (EDT)                                                Description  \\82489  Since the first time we heard Luke Skywalker a...   43146  Narnia . . . a land frozen in eternal winter ....   91105  The Firstborn–the mysterious race of aliens wh...   5135   Star Trek: The Next Generation® is the most po...   92988  J.R.R. Tolkien's novels of Middle-earth – The ...   ...                                                  ...   50403  Just fourteen, Rick Walder is alone, on the ru...   7889   For 30 years, Robert Ludlum's novels have set ...   71370  The first novel based on the wildly popular ro...   34772  You've seen the blockbuster The Phantom Menace...   31279  The group of stories known as The Arabian Nigh...                                                  Category Publish Date  \\82489               Juvenile Fiction , Science Fiction          2008   43146                Juvenile Fiction , Fantasy & Magic         2008   91105           Fiction , Science Fiction , Space Opera         2007   5135              Fiction , Science Fiction , Adventure         1998   92988                                Fiction , Fantasy          2003   ...                                                 ...          ...   50403  Young Adult Fiction , Social Themes , Friendship         1999   7889                     Fiction , Thrillers , Suspense         2002   71370             Fiction , Science Fiction , Adventure         2009   34772           Fiction , Science Fiction , Space Opera         2000   31279                Juvenile Fiction , Fantasy & Magic         1993          Similarity  82489    0.650978  43146    0.621422  91105    0.607709  5135     0.607702  92988    0.607120  ...           ...  50403    0.572126  7889     0.571642  71370    0.571507  34772    0.571378  31279    0.571339  [71 rows x 6 columns]\n",
      "            ^\n",
      "SyntaxError: unexpected character after line continuation character\n",
      "Traceback (most recent call last):\n",
      "  File \"/home/rainyday21/.conda/envs/ml_rapids/lib/python3.11/site-packages/debugpy/_vendored/pydevd/_pydevd_bundle/pydevd_vars.py\", line 622, in change_attr_expression\n",
      "    value = eval(expression, frame.f_globals, frame.f_locals)\n",
      "            ^^^^^^^^^^^^^^^^^^^^^^^^^^^^^^^^^^^^^^^^^^^^^^^^^\n",
      "  File \"<string>\", line 1\n",
      "    Title  \\7                              Journey Through Heartsongs   8                            In Search of Melancholy Baby   10           The Dieter's Guide to Weight Loss During Sex   11      Germs : Biological Weapons and America's Secre...   13      The Good Book: Reading the Bible with Mind and...   ...                                                   ...   103069                             Like A Sister: A Novel   103071  Creating Web Pages Simplified (3-D Visual Series)   103072               EVA: The Real Key to Creating Wealth   103075  The Essentials of Spanish (REA's Language Seri...   103081               Your First Puppy (Your First Series)                                                     Authors  \\7                                  Stepanek, Mattie J. T.   8       Aksyonov, Vassily, Heim, Michael Henry, and Bo...   10                                         Smith, Richard   11      Miller, Judith, Engelberg, Stephen, and Broad,...   13                                        Gomes, Peter J.   ...                                                   ...   103069                                  Daugharty, Janice   103071  Maran, Ruth, Whitehead, Paul, and Marangraphic...   103072                                         Ehrbar, Al   103075                           Mouat, Ricardo Gutierrez   103081                                 Carpentier, Marcel                                                 Description  \\7       Collects poems written by the eleven-year-old ...   8       The Russian author offers an affectionate chro...   10      A humor classic, this tongue-in-cheek diet pla...   11      Deadly germs sprayed in shopping malls, bomb-l...   13      \"The Bible and the social and moral consequenc...   ...                                                   ...   103069  Sister cannot say exactly when or where she wa...   103071  An \"owner's manual\" for first-time Web page cr...   103072  Called \"today's hottest financial idea and get...   103075  REA’s Essentials provide quick and easy access...   103081  An introduction to the proper care of puppies ...                                              Category Publish Date  Similarity  7                                           Poetry          2001    0.253735  8                        Biography & Autobiography          1987    0.262614  10      Health & Fitness , Diet & Nutrition , Diets         1978    0.316298  11      Technology & Engineering , Military Science         2001    0.557994  13                   Religion , Biblical Biography          1998    0.243916  ...                                             ...          ...         ...  103069                           Fiction , Literary         1999    0.470936  103071                        Computers , Internet          1997    0.225210  103072    Business & Economics , Corporate Finance          1998    0.449323  103075             Foreign Language Study , Spanish         1998    0.501570  103081                                 Pets , Dogs          1991    0.310587  [62090 rows x 6 columns]\n",
      "            ^\n",
      "SyntaxError: unexpected character after line continuation character\n"
     ]
    },
    {
     "ename": "KeyError",
     "evalue": "'None of [Index([                                                                                                                                                                                                                                                                                                                                                                                                                                                                                                                                                                                                                                                                                                                                                                                                                                                                                                                                                                                                                                                                                                                                                                                                                         \\'The Supernaturalist\\',\\n                                                                                                                                                                                                                                                                                                                                                                                                                                                                                                                                                                                                                                                                                                                                                                                                                                                                                                                                                                                                                                                                                                                                                                                                                                       \\'Colfer, Eoin\\',\\n       \\'In the not-too-distant future, in a place called Satellite City, thirteen-year-old Cosmo Hill is unfortunate enough to come into the world unwanted by his parents. And so, as are all orphaned boys his age, Cosmo is dipped in a vaccine vat and sent to the Clarissa Frayne Institute for Parentally Challenged Boys-freight class. At Clarissa Frayne, the orphans, called \"no-sponsors,\" are put to work by the state, testing dangerous products that never should be allowed near human beings. By the time the no-sponsors are sent to their cardboard utility pipes, given their nightly meal pack, and finally fall asleep, they are often covered in burns, bruises, or sores from the work of the day. Cosmo Hill knows that he must escape, even though he has no idea what might be waiting for him on the outside. He plans for the moment when he can make a break. When that moment finally comes, he nearly dies while escaping. But he is rescued by a gang of \"Supernaturalists,\" a motley crew of kids who all have a special psychic ability-one that Cosmo is about to learn he has as well. They \"see\" supernatural Parasites-tiny, translucent creatures who feed on the life force of humans. The Supernaturalists\\',\\n                                                                                                                                                                                                                                                                                                                                                                                                                                                                                                                                                                                                                                                                                                                                                                                                                                                                                                                                                                                                                                                                                                                                                                                                             \\'Young Adult Fiction , Science Fiction \\',\\n                                                                                                                                                                                                                                                                                                                                                                                                                                                                                                                                                                                                                                                                                                                                                                                                                                                                                                                                                                                                                                                                                                                                                                                                                                               \\'2004\\',\\n                                                                                                                                                                                                                                                                                                                                                                                                                                                                                                                                                                                                                                                                                                                                                                                                                                                                                                                                                                                                                                                                                                                                                                                                                                           0.46792537],\\n      dtype=\\'object\\')] are in the [columns]'",
     "output_type": "error",
     "traceback": [
      "\u001b[0;31m---------------------------------------------------------------------------\u001b[0m",
      "\u001b[0;31mKeyError\u001b[0m                                  Traceback (most recent call last)",
      "Cell \u001b[0;32mIn[87], line 3\u001b[0m\n\u001b[1;32m      1\u001b[0m \u001b[38;5;28;01mfor\u001b[39;00m i \u001b[38;5;129;01min\u001b[39;00m \u001b[38;5;28mrange\u001b[39m(\u001b[38;5;241m1\u001b[39m,\u001b[38;5;241m3\u001b[39m):\n\u001b[1;32m      2\u001b[0m     \u001b[38;5;28mprint\u001b[39m(\u001b[38;5;124mf\u001b[39m\u001b[38;5;124m'\u001b[39m\u001b[38;5;124mTry \u001b[39m\u001b[38;5;132;01m{\u001b[39;00mi\u001b[38;5;132;01m}\u001b[39;00m\u001b[38;5;124m'\u001b[39m)\n\u001b[0;32m----> 3\u001b[0m     \u001b[43mllm_routine\u001b[49m\u001b[43m(\u001b[49m\u001b[43m)\u001b[49m\n",
      "Cell \u001b[0;32mIn[83], line 14\u001b[0m, in \u001b[0;36mllm_routine\u001b[0;34m()\u001b[0m\n\u001b[1;32m     12\u001b[0m display(recommended_books[[\u001b[38;5;124m\"\u001b[39m\u001b[38;5;124mTitle\u001b[39m\u001b[38;5;124m\"\u001b[39m, \u001b[38;5;124m\"\u001b[39m\u001b[38;5;124mCategory\u001b[39m\u001b[38;5;124m\"\u001b[39m, \u001b[38;5;124m\"\u001b[39m\u001b[38;5;124mSimilarity\u001b[39m\u001b[38;5;124m\"\u001b[39m]]\u001b[38;5;241m.\u001b[39mhead(\u001b[38;5;241m10\u001b[39m))\n\u001b[1;32m     13\u001b[0m \u001b[38;5;66;03m#print('Not Good')\u001b[39;00m\n\u001b[0;32m---> 14\u001b[0m \u001b[38;5;28;01mreturn\u001b[39;00m \u001b[43mget_scores\u001b[49m\u001b[43m(\u001b[49m\u001b[43mdf\u001b[49m\u001b[43m,\u001b[49m\u001b[43m \u001b[49m\u001b[43mrecommended_books\u001b[49m\u001b[43m,\u001b[49m\u001b[43m \u001b[49m\u001b[43mgenre\u001b[49m\u001b[43m)\u001b[49m\n",
      "Cell \u001b[0;32mIn[86], line 7\u001b[0m, in \u001b[0;36mget_scores\u001b[0;34m(data, df1, genre)\u001b[0m\n\u001b[1;32m      5\u001b[0m recall \u001b[38;5;241m=\u001b[39m \u001b[38;5;28mlen\u001b[39m(total_rec) \u001b[38;5;241m/\u001b[39m \u001b[38;5;28mlen\u001b[39m(total_genre)\n\u001b[1;32m      6\u001b[0m f1_score \u001b[38;5;241m=\u001b[39m (\u001b[38;5;241m2\u001b[39m\u001b[38;5;241m*\u001b[39mprecision\u001b[38;5;241m*\u001b[39mrecall) \u001b[38;5;241m/\u001b[39m (precision \u001b[38;5;241m/\u001b[39m recall)\n\u001b[0;32m----> 7\u001b[0m mrr \u001b[38;5;241m=\u001b[39m (\u001b[38;5;241m1\u001b[39m \u001b[38;5;241m/\u001b[39m \u001b[43mdata\u001b[49m\u001b[43m[\u001b[49m\u001b[43mdata\u001b[49m\u001b[43m[\u001b[49m\u001b[43mdata\u001b[49m\u001b[43m[\u001b[49m\u001b[38;5;124;43m'\u001b[39;49m\u001b[38;5;124;43mCategory\u001b[39;49m\u001b[38;5;124;43m'\u001b[39;49m\u001b[43m]\u001b[49m\u001b[38;5;241;43m.\u001b[39;49m\u001b[43mstr\u001b[49m\u001b[38;5;241;43m.\u001b[39;49m\u001b[43mcontains\u001b[49m\u001b[43m(\u001b[49m\u001b[43mgenre\u001b[49m\u001b[43m)\u001b[49m\u001b[43m]\u001b[49m\u001b[38;5;241;43m.\u001b[39;49m\u001b[43miloc\u001b[49m\u001b[43m[\u001b[49m\u001b[38;5;241;43m0\u001b[39;49m\u001b[43m]\u001b[49m\u001b[43m]\u001b[49m\u001b[38;5;241m.\u001b[39mindex()) \u001b[38;5;241m/\u001b[39m \u001b[38;5;28mlen\u001b[39m(df1)\n\u001b[1;32m      8\u001b[0m \u001b[38;5;28;01mreturn\u001b[39;00m [precision, recall, f1_score, mrr]\n",
      "File \u001b[0;32m~/.conda/envs/ml_rapids/lib/python3.11/site-packages/pandas/core/frame.py:4108\u001b[0m, in \u001b[0;36mDataFrame.__getitem__\u001b[0;34m(self, key)\u001b[0m\n\u001b[1;32m   4106\u001b[0m     \u001b[38;5;28;01mif\u001b[39;00m is_iterator(key):\n\u001b[1;32m   4107\u001b[0m         key \u001b[38;5;241m=\u001b[39m \u001b[38;5;28mlist\u001b[39m(key)\n\u001b[0;32m-> 4108\u001b[0m     indexer \u001b[38;5;241m=\u001b[39m \u001b[38;5;28;43mself\u001b[39;49m\u001b[38;5;241;43m.\u001b[39;49m\u001b[43mcolumns\u001b[49m\u001b[38;5;241;43m.\u001b[39;49m\u001b[43m_get_indexer_strict\u001b[49m\u001b[43m(\u001b[49m\u001b[43mkey\u001b[49m\u001b[43m,\u001b[49m\u001b[43m \u001b[49m\u001b[38;5;124;43m\"\u001b[39;49m\u001b[38;5;124;43mcolumns\u001b[39;49m\u001b[38;5;124;43m\"\u001b[39;49m\u001b[43m)\u001b[49m[\u001b[38;5;241m1\u001b[39m]\n\u001b[1;32m   4110\u001b[0m \u001b[38;5;66;03m# take() does not accept boolean indexers\u001b[39;00m\n\u001b[1;32m   4111\u001b[0m \u001b[38;5;28;01mif\u001b[39;00m \u001b[38;5;28mgetattr\u001b[39m(indexer, \u001b[38;5;124m\"\u001b[39m\u001b[38;5;124mdtype\u001b[39m\u001b[38;5;124m\"\u001b[39m, \u001b[38;5;28;01mNone\u001b[39;00m) \u001b[38;5;241m==\u001b[39m \u001b[38;5;28mbool\u001b[39m:\n",
      "File \u001b[0;32m~/.conda/envs/ml_rapids/lib/python3.11/site-packages/pandas/core/indexes/base.py:6200\u001b[0m, in \u001b[0;36mIndex._get_indexer_strict\u001b[0;34m(self, key, axis_name)\u001b[0m\n\u001b[1;32m   6197\u001b[0m \u001b[38;5;28;01melse\u001b[39;00m:\n\u001b[1;32m   6198\u001b[0m     keyarr, indexer, new_indexer \u001b[38;5;241m=\u001b[39m \u001b[38;5;28mself\u001b[39m\u001b[38;5;241m.\u001b[39m_reindex_non_unique(keyarr)\n\u001b[0;32m-> 6200\u001b[0m \u001b[38;5;28;43mself\u001b[39;49m\u001b[38;5;241;43m.\u001b[39;49m\u001b[43m_raise_if_missing\u001b[49m\u001b[43m(\u001b[49m\u001b[43mkeyarr\u001b[49m\u001b[43m,\u001b[49m\u001b[43m \u001b[49m\u001b[43mindexer\u001b[49m\u001b[43m,\u001b[49m\u001b[43m \u001b[49m\u001b[43maxis_name\u001b[49m\u001b[43m)\u001b[49m\n\u001b[1;32m   6202\u001b[0m keyarr \u001b[38;5;241m=\u001b[39m \u001b[38;5;28mself\u001b[39m\u001b[38;5;241m.\u001b[39mtake(indexer)\n\u001b[1;32m   6203\u001b[0m \u001b[38;5;28;01mif\u001b[39;00m \u001b[38;5;28misinstance\u001b[39m(key, Index):\n\u001b[1;32m   6204\u001b[0m     \u001b[38;5;66;03m# GH 42790 - Preserve name from an Index\u001b[39;00m\n",
      "File \u001b[0;32m~/.conda/envs/ml_rapids/lib/python3.11/site-packages/pandas/core/indexes/base.py:6249\u001b[0m, in \u001b[0;36mIndex._raise_if_missing\u001b[0;34m(self, key, indexer, axis_name)\u001b[0m\n\u001b[1;32m   6247\u001b[0m \u001b[38;5;28;01mif\u001b[39;00m nmissing:\n\u001b[1;32m   6248\u001b[0m     \u001b[38;5;28;01mif\u001b[39;00m nmissing \u001b[38;5;241m==\u001b[39m \u001b[38;5;28mlen\u001b[39m(indexer):\n\u001b[0;32m-> 6249\u001b[0m         \u001b[38;5;28;01mraise\u001b[39;00m \u001b[38;5;167;01mKeyError\u001b[39;00m(\u001b[38;5;124mf\u001b[39m\u001b[38;5;124m\"\u001b[39m\u001b[38;5;124mNone of [\u001b[39m\u001b[38;5;132;01m{\u001b[39;00mkey\u001b[38;5;132;01m}\u001b[39;00m\u001b[38;5;124m] are in the [\u001b[39m\u001b[38;5;132;01m{\u001b[39;00maxis_name\u001b[38;5;132;01m}\u001b[39;00m\u001b[38;5;124m]\u001b[39m\u001b[38;5;124m\"\u001b[39m)\n\u001b[1;32m   6251\u001b[0m     not_found \u001b[38;5;241m=\u001b[39m \u001b[38;5;28mlist\u001b[39m(ensure_index(key)[missing_mask\u001b[38;5;241m.\u001b[39mnonzero()[\u001b[38;5;241m0\u001b[39m]]\u001b[38;5;241m.\u001b[39munique())\n\u001b[1;32m   6252\u001b[0m     \u001b[38;5;28;01mraise\u001b[39;00m \u001b[38;5;167;01mKeyError\u001b[39;00m(\u001b[38;5;124mf\u001b[39m\u001b[38;5;124m\"\u001b[39m\u001b[38;5;132;01m{\u001b[39;00mnot_found\u001b[38;5;132;01m}\u001b[39;00m\u001b[38;5;124m not in index\u001b[39m\u001b[38;5;124m\"\u001b[39m)\n",
      "\u001b[0;31mKeyError\u001b[0m: 'None of [Index([                                                                                                                                                                                                                                                                                                                                                                                                                                                                                                                                                                                                                                                                                                                                                                                                                                                                                                                                                                                                                                                                                                                                                                                                                         \\'The Supernaturalist\\',\\n                                                                                                                                                                                                                                                                                                                                                                                                                                                                                                                                                                                                                                                                                                                                                                                                                                                                                                                                                                                                                                                                                                                                                                                                                                       \\'Colfer, Eoin\\',\\n       \\'In the not-too-distant future, in a place called Satellite City, thirteen-year-old Cosmo Hill is unfortunate enough to come into the world unwanted by his parents. And so, as are all orphaned boys his age, Cosmo is dipped in a vaccine vat and sent to the Clarissa Frayne Institute for Parentally Challenged Boys-freight class. At Clarissa Frayne, the orphans, called \"no-sponsors,\" are put to work by the state, testing dangerous products that never should be allowed near human beings. By the time the no-sponsors are sent to their cardboard utility pipes, given their nightly meal pack, and finally fall asleep, they are often covered in burns, bruises, or sores from the work of the day. Cosmo Hill knows that he must escape, even though he has no idea what might be waiting for him on the outside. He plans for the moment when he can make a break. When that moment finally comes, he nearly dies while escaping. But he is rescued by a gang of \"Supernaturalists,\" a motley crew of kids who all have a special psychic ability-one that Cosmo is about to learn he has as well. They \"see\" supernatural Parasites-tiny, translucent creatures who feed on the life force of humans. The Supernaturalists\\',\\n                                                                                                                                                                                                                                                                                                                                                                                                                                                                                                                                                                                                                                                                                                                                                                                                                                                                                                                                                                                                                                                                                                                                                                                                             \\'Young Adult Fiction , Science Fiction \\',\\n                                                                                                                                                                                                                                                                                                                                                                                                                                                                                                                                                                                                                                                                                                                                                                                                                                                                                                                                                                                                                                                                                                                                                                                                                                               \\'2004\\',\\n                                                                                                                                                                                                                                                                                                                                                                                                                                                                                                                                                                                                                                                                                                                                                                                                                                                                                                                                                                                                                                                                                                                                                                                                                                           0.46792537],\\n      dtype=\\'object\\')] are in the [columns]'"
     ]
    }
   ],
   "source": [
    "for i in range(1,3):\n",
    "    print(f'Try {i}')\n",
    "    llm_routine()"
   ]
  }
 ],
 "metadata": {
  "accelerator": "GPU",
  "colab": {
   "gpuType": "T4",
   "provenance": []
  },
  "kernelspec": {
   "display_name": "ml_rapids",
   "language": "python",
   "name": "python3"
  },
  "language_info": {
   "codemirror_mode": {
    "name": "ipython",
    "version": 3
   },
   "file_extension": ".py",
   "mimetype": "text/x-python",
   "name": "python",
   "nbconvert_exporter": "python",
   "pygments_lexer": "ipython3",
   "version": "3.11.10"
  }
 },
 "nbformat": 4,
 "nbformat_minor": 0
}
